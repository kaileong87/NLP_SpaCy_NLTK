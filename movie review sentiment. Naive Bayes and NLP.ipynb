{
 "cells": [
  {
   "cell_type": "code",
   "execution_count": 38,
   "id": "8a00112b",
   "metadata": {},
   "outputs": [],
   "source": [
    "import pandas as pd\n",
    "import numpy as np\n",
    "import matplotlib.pyplot as plt\n",
    "import seaborn as sns"
   ]
  },
  {
   "cell_type": "code",
   "execution_count": 3,
   "id": "1b863ea9",
   "metadata": {},
   "outputs": [],
   "source": [
    "df = pd.read_csv('../DATA/moviereviews.csv')"
   ]
  },
  {
   "cell_type": "code",
   "execution_count": 5,
   "id": "6da1756d",
   "metadata": {},
   "outputs": [
    {
     "data": {
      "text/html": [
       "<div>\n",
       "<style scoped>\n",
       "    .dataframe tbody tr th:only-of-type {\n",
       "        vertical-align: middle;\n",
       "    }\n",
       "\n",
       "    .dataframe tbody tr th {\n",
       "        vertical-align: top;\n",
       "    }\n",
       "\n",
       "    .dataframe thead th {\n",
       "        text-align: right;\n",
       "    }\n",
       "</style>\n",
       "<table border=\"1\" class=\"dataframe\">\n",
       "  <thead>\n",
       "    <tr style=\"text-align: right;\">\n",
       "      <th></th>\n",
       "      <th>label</th>\n",
       "      <th>review</th>\n",
       "    </tr>\n",
       "  </thead>\n",
       "  <tbody>\n",
       "    <tr>\n",
       "      <th>0</th>\n",
       "      <td>neg</td>\n",
       "      <td>how do films like mouse hunt get into theatres...</td>\n",
       "    </tr>\n",
       "    <tr>\n",
       "      <th>1</th>\n",
       "      <td>neg</td>\n",
       "      <td>some talented actresses are blessed with a dem...</td>\n",
       "    </tr>\n",
       "    <tr>\n",
       "      <th>2</th>\n",
       "      <td>pos</td>\n",
       "      <td>this has been an extraordinary year for austra...</td>\n",
       "    </tr>\n",
       "    <tr>\n",
       "      <th>3</th>\n",
       "      <td>pos</td>\n",
       "      <td>according to hollywood movies made in last few...</td>\n",
       "    </tr>\n",
       "    <tr>\n",
       "      <th>4</th>\n",
       "      <td>neg</td>\n",
       "      <td>my first press screening of 1998 and already i...</td>\n",
       "    </tr>\n",
       "    <tr>\n",
       "      <th>...</th>\n",
       "      <td>...</td>\n",
       "      <td>...</td>\n",
       "    </tr>\n",
       "    <tr>\n",
       "      <th>1995</th>\n",
       "      <td>pos</td>\n",
       "      <td>i like movies with albert brooks , and i reall...</td>\n",
       "    </tr>\n",
       "    <tr>\n",
       "      <th>1996</th>\n",
       "      <td>pos</td>\n",
       "      <td>it might surprise some to know that joel and e...</td>\n",
       "    </tr>\n",
       "    <tr>\n",
       "      <th>1997</th>\n",
       "      <td>pos</td>\n",
       "      <td>the verdict : spine-chilling drama from horror...</td>\n",
       "    </tr>\n",
       "    <tr>\n",
       "      <th>1998</th>\n",
       "      <td>pos</td>\n",
       "      <td>i want to correct what i wrote in a former ret...</td>\n",
       "    </tr>\n",
       "    <tr>\n",
       "      <th>1999</th>\n",
       "      <td>pos</td>\n",
       "      <td>a couple of months ago , when i first download...</td>\n",
       "    </tr>\n",
       "  </tbody>\n",
       "</table>\n",
       "<p>2000 rows × 2 columns</p>\n",
       "</div>"
      ],
      "text/plain": [
       "     label                                             review\n",
       "0      neg  how do films like mouse hunt get into theatres...\n",
       "1      neg  some talented actresses are blessed with a dem...\n",
       "2      pos  this has been an extraordinary year for austra...\n",
       "3      pos  according to hollywood movies made in last few...\n",
       "4      neg  my first press screening of 1998 and already i...\n",
       "...    ...                                                ...\n",
       "1995   pos  i like movies with albert brooks , and i reall...\n",
       "1996   pos  it might surprise some to know that joel and e...\n",
       "1997   pos  the verdict : spine-chilling drama from horror...\n",
       "1998   pos  i want to correct what i wrote in a former ret...\n",
       "1999   pos  a couple of months ago , when i first download...\n",
       "\n",
       "[2000 rows x 2 columns]"
      ]
     },
     "execution_count": 5,
     "metadata": {},
     "output_type": "execute_result"
    }
   ],
   "source": [
    "df"
   ]
  },
  {
   "cell_type": "markdown",
   "id": "b98987b9",
   "metadata": {},
   "source": [
    "let's check for any missing data"
   ]
  },
  {
   "cell_type": "code",
   "execution_count": 34,
   "id": "3863d5e6",
   "metadata": {},
   "outputs": [
    {
     "data": {
      "text/plain": [
       "label      0\n",
       "review    35\n",
       "dtype: int64"
      ]
     },
     "execution_count": 34,
     "metadata": {},
     "output_type": "execute_result"
    }
   ],
   "source": [
    "df.isnull().sum()"
   ]
  },
  {
   "cell_type": "code",
   "execution_count": 4,
   "id": "5ff526fc",
   "metadata": {},
   "outputs": [],
   "source": [
    "df = df.dropna(axis=0)"
   ]
  },
  {
   "cell_type": "code",
   "execution_count": 36,
   "id": "06c23635",
   "metadata": {},
   "outputs": [
    {
     "data": {
      "text/plain": [
       "label     0\n",
       "review    0\n",
       "dtype: int64"
      ]
     },
     "execution_count": 36,
     "metadata": {},
     "output_type": "execute_result"
    }
   ],
   "source": [
    "df.isnull().sum()"
   ]
  },
  {
   "cell_type": "markdown",
   "id": "3ef0023b",
   "metadata": {},
   "source": [
    "Let's check if there are any reviews where it is not a NaN but '' or \"\" and remove them"
   ]
  },
  {
   "cell_type": "code",
   "execution_count": 5,
   "id": "6d6ec174",
   "metadata": {},
   "outputs": [
    {
     "data": {
      "text/html": [
       "<div>\n",
       "<style scoped>\n",
       "    .dataframe tbody tr th:only-of-type {\n",
       "        vertical-align: middle;\n",
       "    }\n",
       "\n",
       "    .dataframe tbody tr th {\n",
       "        vertical-align: top;\n",
       "    }\n",
       "\n",
       "    .dataframe thead th {\n",
       "        text-align: right;\n",
       "    }\n",
       "</style>\n",
       "<table border=\"1\" class=\"dataframe\">\n",
       "  <thead>\n",
       "    <tr style=\"text-align: right;\">\n",
       "      <th></th>\n",
       "      <th>label</th>\n",
       "      <th>review</th>\n",
       "    </tr>\n",
       "  </thead>\n",
       "  <tbody>\n",
       "    <tr>\n",
       "      <th>57</th>\n",
       "      <td>neg</td>\n",
       "      <td></td>\n",
       "    </tr>\n",
       "    <tr>\n",
       "      <th>71</th>\n",
       "      <td>pos</td>\n",
       "      <td></td>\n",
       "    </tr>\n",
       "    <tr>\n",
       "      <th>147</th>\n",
       "      <td>pos</td>\n",
       "      <td></td>\n",
       "    </tr>\n",
       "    <tr>\n",
       "      <th>151</th>\n",
       "      <td>pos</td>\n",
       "      <td></td>\n",
       "    </tr>\n",
       "    <tr>\n",
       "      <th>283</th>\n",
       "      <td>pos</td>\n",
       "      <td></td>\n",
       "    </tr>\n",
       "    <tr>\n",
       "      <th>307</th>\n",
       "      <td>pos</td>\n",
       "      <td></td>\n",
       "    </tr>\n",
       "    <tr>\n",
       "      <th>313</th>\n",
       "      <td>neg</td>\n",
       "      <td></td>\n",
       "    </tr>\n",
       "    <tr>\n",
       "      <th>323</th>\n",
       "      <td>pos</td>\n",
       "      <td></td>\n",
       "    </tr>\n",
       "    <tr>\n",
       "      <th>343</th>\n",
       "      <td>pos</td>\n",
       "      <td></td>\n",
       "    </tr>\n",
       "    <tr>\n",
       "      <th>351</th>\n",
       "      <td>neg</td>\n",
       "      <td></td>\n",
       "    </tr>\n",
       "    <tr>\n",
       "      <th>427</th>\n",
       "      <td>pos</td>\n",
       "      <td></td>\n",
       "    </tr>\n",
       "    <tr>\n",
       "      <th>501</th>\n",
       "      <td>neg</td>\n",
       "      <td></td>\n",
       "    </tr>\n",
       "    <tr>\n",
       "      <th>633</th>\n",
       "      <td>pos</td>\n",
       "      <td></td>\n",
       "    </tr>\n",
       "    <tr>\n",
       "      <th>675</th>\n",
       "      <td>neg</td>\n",
       "      <td></td>\n",
       "    </tr>\n",
       "    <tr>\n",
       "      <th>815</th>\n",
       "      <td>neg</td>\n",
       "      <td></td>\n",
       "    </tr>\n",
       "    <tr>\n",
       "      <th>851</th>\n",
       "      <td>neg</td>\n",
       "      <td></td>\n",
       "    </tr>\n",
       "    <tr>\n",
       "      <th>977</th>\n",
       "      <td>neg</td>\n",
       "      <td></td>\n",
       "    </tr>\n",
       "    <tr>\n",
       "      <th>1079</th>\n",
       "      <td>neg</td>\n",
       "      <td></td>\n",
       "    </tr>\n",
       "    <tr>\n",
       "      <th>1299</th>\n",
       "      <td>pos</td>\n",
       "      <td></td>\n",
       "    </tr>\n",
       "    <tr>\n",
       "      <th>1455</th>\n",
       "      <td>neg</td>\n",
       "      <td></td>\n",
       "    </tr>\n",
       "    <tr>\n",
       "      <th>1493</th>\n",
       "      <td>pos</td>\n",
       "      <td></td>\n",
       "    </tr>\n",
       "    <tr>\n",
       "      <th>1525</th>\n",
       "      <td>neg</td>\n",
       "      <td></td>\n",
       "    </tr>\n",
       "    <tr>\n",
       "      <th>1531</th>\n",
       "      <td>neg</td>\n",
       "      <td></td>\n",
       "    </tr>\n",
       "    <tr>\n",
       "      <th>1763</th>\n",
       "      <td>neg</td>\n",
       "      <td></td>\n",
       "    </tr>\n",
       "    <tr>\n",
       "      <th>1851</th>\n",
       "      <td>neg</td>\n",
       "      <td></td>\n",
       "    </tr>\n",
       "    <tr>\n",
       "      <th>1905</th>\n",
       "      <td>pos</td>\n",
       "      <td></td>\n",
       "    </tr>\n",
       "    <tr>\n",
       "      <th>1993</th>\n",
       "      <td>pos</td>\n",
       "      <td></td>\n",
       "    </tr>\n",
       "  </tbody>\n",
       "</table>\n",
       "</div>"
      ],
      "text/plain": [
       "     label review\n",
       "57     neg       \n",
       "71     pos       \n",
       "147    pos       \n",
       "151    pos       \n",
       "283    pos       \n",
       "307    pos       \n",
       "313    neg       \n",
       "323    pos       \n",
       "343    pos       \n",
       "351    neg       \n",
       "427    pos       \n",
       "501    neg       \n",
       "633    pos       \n",
       "675    neg       \n",
       "815    neg       \n",
       "851    neg       \n",
       "977    neg       \n",
       "1079   neg       \n",
       "1299   pos       \n",
       "1455   neg       \n",
       "1493   pos       \n",
       "1525   neg       \n",
       "1531   neg       \n",
       "1763   neg       \n",
       "1851   neg       \n",
       "1905   pos       \n",
       "1993   pos       "
      ]
     },
     "execution_count": 5,
     "metadata": {},
     "output_type": "execute_result"
    }
   ],
   "source": [
    "df[df['review'].str.isspace()]"
   ]
  },
  {
   "cell_type": "code",
   "execution_count": 6,
   "id": "8d6cbda5",
   "metadata": {},
   "outputs": [],
   "source": [
    "index = df[df['review'].str.isspace()].index"
   ]
  },
  {
   "cell_type": "code",
   "execution_count": 7,
   "id": "fd002963",
   "metadata": {},
   "outputs": [],
   "source": [
    "df = df.drop(index=index, axis=0)"
   ]
  },
  {
   "cell_type": "code",
   "execution_count": 8,
   "id": "c68aa831",
   "metadata": {},
   "outputs": [
    {
     "data": {
      "text/html": [
       "<div>\n",
       "<style scoped>\n",
       "    .dataframe tbody tr th:only-of-type {\n",
       "        vertical-align: middle;\n",
       "    }\n",
       "\n",
       "    .dataframe tbody tr th {\n",
       "        vertical-align: top;\n",
       "    }\n",
       "\n",
       "    .dataframe thead th {\n",
       "        text-align: right;\n",
       "    }\n",
       "</style>\n",
       "<table border=\"1\" class=\"dataframe\">\n",
       "  <thead>\n",
       "    <tr style=\"text-align: right;\">\n",
       "      <th></th>\n",
       "      <th>label</th>\n",
       "      <th>review</th>\n",
       "    </tr>\n",
       "  </thead>\n",
       "  <tbody>\n",
       "  </tbody>\n",
       "</table>\n",
       "</div>"
      ],
      "text/plain": [
       "Empty DataFrame\n",
       "Columns: [label, review]\n",
       "Index: []"
      ]
     },
     "execution_count": 8,
     "metadata": {},
     "output_type": "execute_result"
    }
   ],
   "source": [
    "df[df['review'].str.isspace()]"
   ]
  },
  {
   "cell_type": "markdown",
   "id": "51908b6a",
   "metadata": {},
   "source": [
    "Let's look at the top 20 words for positive and negative reviews"
   ]
  },
  {
   "cell_type": "code",
   "execution_count": 16,
   "id": "3e0b4724",
   "metadata": {},
   "outputs": [],
   "source": [
    "from sklearn.feature_extraction.text import CountVectorizer"
   ]
  },
  {
   "cell_type": "code",
   "execution_count": 17,
   "id": "503b0c12",
   "metadata": {},
   "outputs": [],
   "source": [
    "cv = CountVectorizer(stop_words='english')"
   ]
  },
  {
   "cell_type": "markdown",
   "id": "869df483",
   "metadata": {},
   "source": [
    "getting only positive reviews"
   ]
  },
  {
   "cell_type": "code",
   "execution_count": 43,
   "id": "97e9042c",
   "metadata": {},
   "outputs": [
    {
     "data": {
      "text/plain": [
       "2       this has been an extraordinary year for austra...\n",
       "3       according to hollywood movies made in last few...\n",
       "11      with stars like sigourney weaver ( \" alien \" t...\n",
       "16      i remember hearing about this film when it fir...\n",
       "18      garry shandling makes his long overdue starrin...\n",
       "                              ...                        \n",
       "1995    i like movies with albert brooks , and i reall...\n",
       "1996    it might surprise some to know that joel and e...\n",
       "1997    the verdict : spine-chilling drama from horror...\n",
       "1998    i want to correct what i wrote in a former ret...\n",
       "1999    a couple of months ago , when i first download...\n",
       "Name: review, Length: 969, dtype: object"
      ]
     },
     "execution_count": 43,
     "metadata": {},
     "output_type": "execute_result"
    }
   ],
   "source": [
    "df[df['label'] == 'pos']['review']"
   ]
  },
  {
   "cell_type": "markdown",
   "id": "222e255d",
   "metadata": {},
   "source": [
    "getting only negative reviews"
   ]
  },
  {
   "cell_type": "code",
   "execution_count": 44,
   "id": "b29ffa76",
   "metadata": {},
   "outputs": [
    {
     "data": {
      "text/plain": [
       "0       how do films like mouse hunt get into theatres...\n",
       "1       some talented actresses are blessed with a dem...\n",
       "4       my first press screening of 1998 and already i...\n",
       "5       to put it bluntly , ed wood would have been pr...\n",
       "6       synopsis : melissa , a mentally-disturbed woma...\n",
       "                              ...                        \n",
       "1985    the real blonde ( r ) a woman's face , an arm ...\n",
       "1986     * * * the following review contains spoilers ...\n",
       "1987     \" book \" should have remained in shadows \\r\\n...\n",
       "1991    all right , all right , we get the point : des...\n",
       "1992    say , tell me if you've seen this before : a c...\n",
       "Name: review, Length: 969, dtype: object"
      ]
     },
     "execution_count": 44,
     "metadata": {},
     "output_type": "execute_result"
    }
   ],
   "source": [
    "df[df['label'] == 'neg']['review']"
   ]
  },
  {
   "cell_type": "code",
   "execution_count": 45,
   "id": "72fdb282",
   "metadata": {},
   "outputs": [],
   "source": [
    "matrix = cv.fit_transform(df[df['label'] == 'pos']['review'])"
   ]
  },
  {
   "cell_type": "code",
   "execution_count": 46,
   "id": "f6cf620b",
   "metadata": {},
   "outputs": [],
   "source": [
    "# cv.get_feature_names()"
   ]
  },
  {
   "cell_type": "code",
   "execution_count": 47,
   "id": "7aff834e",
   "metadata": {},
   "outputs": [],
   "source": [
    "freq = zip(cv.get_feature_names(), matrix.sum(axis=0).tolist()[0])"
   ]
  },
  {
   "cell_type": "markdown",
   "id": "b363c718",
   "metadata": {},
   "source": [
    "top 20 words in positive reviews"
   ]
  },
  {
   "cell_type": "code",
   "execution_count": 48,
   "id": "dcb2332e",
   "metadata": {},
   "outputs": [
    {
     "name": "stdout",
     "output_type": "stream",
     "text": [
      "[('film', 5002), ('movie', 2389), ('like', 1721), ('just', 1273), ('story', 1199), ('good', 1193), ('time', 1175), ('character', 1037), ('life', 1032), ('characters', 957), ('way', 864), ('films', 851), ('does', 828), ('best', 788), ('people', 769), ('make', 764), ('little', 751), ('really', 731), ('man', 728), ('new', 702)]\n"
     ]
    }
   ],
   "source": [
    "print(sorted(freq, key=lambda x: -x[1])[:20])"
   ]
  },
  {
   "cell_type": "code",
   "execution_count": 49,
   "id": "3a5cb695",
   "metadata": {},
   "outputs": [],
   "source": [
    "matrix = cv.fit_transform(df[df['label'] == 'neg']['review'])"
   ]
  },
  {
   "cell_type": "code",
   "execution_count": 50,
   "id": "550f51dd",
   "metadata": {},
   "outputs": [],
   "source": [
    "freq = zip(cv.get_feature_names(), matrix.sum(axis=0).tolist()[0])"
   ]
  },
  {
   "cell_type": "markdown",
   "id": "06cef230",
   "metadata": {},
   "source": [
    "top 20 words in negative reviews"
   ]
  },
  {
   "cell_type": "code",
   "execution_count": 51,
   "id": "57bc4186",
   "metadata": {},
   "outputs": [
    {
     "name": "stdout",
     "output_type": "stream",
     "text": [
      "[('film', 4063), ('movie', 3131), ('like', 1808), ('just', 1480), ('time', 1127), ('good', 1117), ('bad', 997), ('character', 926), ('story', 908), ('plot', 888), ('characters', 838), ('make', 813), ('really', 743), ('way', 734), ('little', 696), ('don', 683), ('does', 666), ('doesn', 648), ('action', 635), ('scene', 634)]\n"
     ]
    }
   ],
   "source": [
    "print(sorted(freq, key=lambda x: -x[1])[:20])"
   ]
  },
  {
   "cell_type": "code",
   "execution_count": 9,
   "id": "bf1f2585",
   "metadata": {},
   "outputs": [],
   "source": [
    "from sklearn.model_selection import train_test_split"
   ]
  },
  {
   "cell_type": "code",
   "execution_count": 10,
   "id": "4b06c4a5",
   "metadata": {},
   "outputs": [],
   "source": [
    "X = df['review']\n",
    "y = df['label']"
   ]
  },
  {
   "cell_type": "code",
   "execution_count": 11,
   "id": "d99157ab",
   "metadata": {},
   "outputs": [],
   "source": [
    "X_train, X_test, y_train, y_test = train_test_split(X, y, test_size=0.2, random_state=42)"
   ]
  },
  {
   "cell_type": "code",
   "execution_count": 12,
   "id": "9117d2bd",
   "metadata": {},
   "outputs": [],
   "source": [
    "from sklearn.pipeline import Pipeline"
   ]
  },
  {
   "cell_type": "code",
   "execution_count": 13,
   "id": "3e0f7c5d",
   "metadata": {},
   "outputs": [],
   "source": [
    "from sklearn.feature_extraction.text import TfidfVectorizer"
   ]
  },
  {
   "cell_type": "code",
   "execution_count": 14,
   "id": "c4a25afd",
   "metadata": {},
   "outputs": [],
   "source": [
    "from sklearn.svm import SVC"
   ]
  },
  {
   "cell_type": "code",
   "execution_count": 15,
   "id": "31c0028b",
   "metadata": {},
   "outputs": [],
   "source": [
    "from sklearn.model_selection import GridSearchCV"
   ]
  },
  {
   "cell_type": "code",
   "execution_count": 16,
   "id": "b1c33db2",
   "metadata": {},
   "outputs": [],
   "source": [
    "from sklearn.metrics import plot_confusion_matrix, classification_report"
   ]
  },
  {
   "cell_type": "code",
   "execution_count": 66,
   "id": "f8856bca",
   "metadata": {},
   "outputs": [
    {
     "data": {
      "text/plain": [
       "neg    969\n",
       "pos    969\n",
       "Name: label, dtype: int64"
      ]
     },
     "execution_count": 66,
     "metadata": {},
     "output_type": "execute_result"
    }
   ],
   "source": [
    "df['label'].value_counts()"
   ]
  },
  {
   "cell_type": "code",
   "execution_count": null,
   "id": "6cd68ec8",
   "metadata": {},
   "outputs": [],
   "source": []
  },
  {
   "cell_type": "code",
   "execution_count": 21,
   "id": "f1aa7755",
   "metadata": {},
   "outputs": [],
   "source": [
    "param_grid = {'clf__C': [0.001, 0.01, 0.1, 0.5, 1, 10, 100],\n",
    "             'clf__kernel': ['linear', 'rbf'],\n",
    "             'clf__gamma': ['scale', 'auto']}"
   ]
  },
  {
   "cell_type": "code",
   "execution_count": 22,
   "id": "2a74df7c",
   "metadata": {},
   "outputs": [],
   "source": [
    "def run_model(model, param_grid, X_train, X_test, y_train, y_test):\n",
    "    pipe = Pipeline([('tfidf', TfidfVectorizer()),\n",
    "                     ('clf', model)\n",
    "    ])\n",
    "    grid = GridSearchCV(pipe, param_grid, cv=5, scoring='accuracy', n_jobs=12)\n",
    "    grid.fit(X_train, y_train)\n",
    "    grid.best_estimator_.get_params()\n",
    "    \n",
    "    dict = grid.best_estimator_.get_params()\n",
    "    for k, v in dict.items():\n",
    "        print(f\"{k:{30}} {v}\")\n",
    "    print('\\n')\n",
    "    \n",
    "    preds = grid.predict(X_test)\n",
    "    print(classification_report(y_test, preds))\n",
    "    plot_confusion_matrix(grid, X_test, y_test)"
   ]
  },
  {
   "cell_type": "code",
   "execution_count": 23,
   "id": "801380db",
   "metadata": {},
   "outputs": [],
   "source": [
    "model = SVC()"
   ]
  },
  {
   "cell_type": "code",
   "execution_count": 24,
   "id": "f935d28f",
   "metadata": {},
   "outputs": [
    {
     "name": "stdout",
     "output_type": "stream",
     "text": [
      "memory                         None\n",
      "steps                          [('tfidf', TfidfVectorizer()), ('clf', SVC(C=1, kernel='linear'))]\n",
      "verbose                        False\n",
      "tfidf                          TfidfVectorizer()\n",
      "clf                            SVC(C=1, kernel='linear')\n",
      "tfidf__analyzer                word\n",
      "tfidf__binary                  False\n",
      "tfidf__decode_error            strict\n",
      "tfidf__dtype                   <class 'numpy.float64'>\n",
      "tfidf__encoding                utf-8\n",
      "tfidf__input                   content\n",
      "tfidf__lowercase               True\n",
      "tfidf__max_df                  1.0\n",
      "tfidf__max_features            None\n",
      "tfidf__min_df                  1\n",
      "tfidf__ngram_range             (1, 1)\n",
      "tfidf__norm                    l2\n",
      "tfidf__preprocessor            None\n",
      "tfidf__smooth_idf              True\n",
      "tfidf__stop_words              None\n",
      "tfidf__strip_accents           None\n",
      "tfidf__sublinear_tf            False\n",
      "tfidf__token_pattern           (?u)\\b\\w\\w+\\b\n",
      "tfidf__tokenizer               None\n",
      "tfidf__use_idf                 True\n",
      "tfidf__vocabulary              None\n",
      "clf__C                         1\n",
      "clf__break_ties                False\n",
      "clf__cache_size                200\n",
      "clf__class_weight              None\n",
      "clf__coef0                     0.0\n",
      "clf__decision_function_shape   ovr\n",
      "clf__degree                    3\n",
      "clf__gamma                     scale\n",
      "clf__kernel                    linear\n",
      "clf__max_iter                  -1\n",
      "clf__probability               False\n",
      "clf__random_state              None\n",
      "clf__shrinking                 True\n",
      "clf__tol                       0.001\n",
      "clf__verbose                   False\n",
      "\n",
      "\n",
      "              precision    recall  f1-score   support\n",
      "\n",
      "         neg       0.84      0.85      0.85       188\n",
      "         pos       0.86      0.85      0.85       200\n",
      "\n",
      "    accuracy                           0.85       388\n",
      "   macro avg       0.85      0.85      0.85       388\n",
      "weighted avg       0.85      0.85      0.85       388\n",
      "\n"
     ]
    },
    {
     "data": {
      "image/png": "[encoded data removed]",
      "text/plain": [
       "<Figure size 432x288 with 2 Axes>"
      ]
     },
     "metadata": {
      "needs_background": "light"
     },
     "output_type": "display_data"
    }
   ],
   "source": [
    "run_model(model, param_grid, X_train, X_test, y_train, y_test)"
   ]
  },
  {
   "cell_type": "code",
   "execution_count": 25,
   "id": "ed541f85",
   "metadata": {},
   "outputs": [],
   "source": [
    "from sklearn.linear_model import LogisticRegression"
   ]
  },
  {
   "cell_type": "code",
   "execution_count": 27,
   "id": "753c9307",
   "metadata": {},
   "outputs": [],
   "source": [
    "param_grid = {'clf__penalty': ['l1', 'l2', 'elasticnet'],\n",
    "             'clf__C': [0.001, 0.01, 0.1, 0.5, 1, 10, 100],\n",
    "              'clf__l1_ratio': [0.1, 0.3, 0.5, 0.7, 0.9],\n",
    "             'clf__solver': ['saga'],\n",
    "             'clf__max_iter': [1000]}"
   ]
  },
  {
   "cell_type": "code",
   "execution_count": 28,
   "id": "2f4b5433",
   "metadata": {},
   "outputs": [],
   "source": [
    "model = LogisticRegression()"
   ]
  },
  {
   "cell_type": "code",
   "execution_count": 29,
   "id": "c840ddc4",
   "metadata": {},
   "outputs": [
    {
     "name": "stdout",
     "output_type": "stream",
     "text": [
      "memory                         None\n",
      "steps                          [('tfidf', TfidfVectorizer()), ('clf', LogisticRegression(C=10, l1_ratio=0.1, max_iter=1000, penalty='elasticnet',\n",
      "                   solver='saga'))]\n",
      "verbose                        False\n",
      "tfidf                          TfidfVectorizer()\n",
      "clf                            LogisticRegression(C=10, l1_ratio=0.1, max_iter=1000, penalty='elasticnet',\n",
      "                   solver='saga')\n",
      "tfidf__analyzer                word\n",
      "tfidf__binary                  False\n",
      "tfidf__decode_error            strict\n",
      "tfidf__dtype                   <class 'numpy.float64'>\n",
      "tfidf__encoding                utf-8\n",
      "tfidf__input                   content\n",
      "tfidf__lowercase               True\n",
      "tfidf__max_df                  1.0\n",
      "tfidf__max_features            None\n",
      "tfidf__min_df                  1\n",
      "tfidf__ngram_range             (1, 1)\n",
      "tfidf__norm                    l2\n",
      "tfidf__preprocessor            None\n",
      "tfidf__smooth_idf              True\n",
      "tfidf__stop_words              None\n",
      "tfidf__strip_accents           None\n",
      "tfidf__sublinear_tf            False\n",
      "tfidf__token_pattern           (?u)\\b\\w\\w+\\b\n",
      "tfidf__tokenizer               None\n",
      "tfidf__use_idf                 True\n",
      "tfidf__vocabulary              None\n",
      "clf__C                         10\n",
      "clf__class_weight              None\n",
      "clf__dual                      False\n",
      "clf__fit_intercept             True\n",
      "clf__intercept_scaling         1\n",
      "clf__l1_ratio                  0.1\n",
      "clf__max_iter                  1000\n",
      "clf__multi_class               auto\n",
      "clf__n_jobs                    None\n",
      "clf__penalty                   elasticnet\n",
      "clf__random_state              None\n",
      "clf__solver                    saga\n",
      "clf__tol                       0.0001\n",
      "clf__verbose                   0\n",
      "clf__warm_start                False\n",
      "\n",
      "\n",
      "              precision    recall  f1-score   support\n",
      "\n",
      "         neg       0.84      0.85      0.85       188\n",
      "         pos       0.86      0.85      0.85       200\n",
      "\n",
      "    accuracy                           0.85       388\n",
      "   macro avg       0.85      0.85      0.85       388\n",
      "weighted avg       0.85      0.85      0.85       388\n",
      "\n"
     ]
    },
    {
     "data": {
      "image/png": "[encoded data removed]",
      "text/plain": [
       "<Figure size 432x288 with 2 Axes>"
      ]
     },
     "metadata": {
      "needs_background": "light"
     },
     "output_type": "display_data"
    }
   ],
   "source": [
    "run_model(model, param_grid, X_train, X_test, y_train, y_test)"
   ]
  },
  {
   "cell_type": "code",
   "execution_count": 30,
   "id": "ea1709b9",
   "metadata": {},
   "outputs": [],
   "source": [
    "# changing the threshold value\n",
    "# grid.predict_proba(X_test)\n",
    "# preds_var_thresh = (grid.predict_proba(X_test)[:,0]>=0.55).astype(int)\n",
    "# y_test_map = y_test.map({'pos': 0, 'neg':1})\n",
    "# print(classification_report(y_test_map, preds_var_thresh))"
   ]
  },
  {
   "cell_type": "code",
   "execution_count": 31,
   "id": "74ccc966",
   "metadata": {},
   "outputs": [],
   "source": [
    "from sklearn.ensemble import RandomForestClassifier"
   ]
  },
  {
   "cell_type": "code",
   "execution_count": 32,
   "id": "c44537bf",
   "metadata": {},
   "outputs": [],
   "source": [
    "model = RandomForestClassifier()"
   ]
  },
  {
   "cell_type": "code",
   "execution_count": 33,
   "id": "c4acfc6d",
   "metadata": {},
   "outputs": [],
   "source": [
    "param_grid = {'clf__n_estimators': [100, 200, 300, 400, 500],\n",
    "             'clf__max_depth': [4,6,8, 10, 12, 16, 20],\n",
    "             'clf__max_features': ['auto', 'log2'],\n",
    "             'clf__bootstrap': ['True', 'False'],\n",
    "             'clf__criterion': ['gini', 'entropy']}"
   ]
  },
  {
   "cell_type": "code",
   "execution_count": 34,
   "id": "07c83226",
   "metadata": {},
   "outputs": [
    {
     "name": "stdout",
     "output_type": "stream",
     "text": [
      "memory                         None\n",
      "steps                          [('tfidf', TfidfVectorizer()), ('clf', RandomForestClassifier(bootstrap='True', criterion='entropy', max_depth=20,\n",
      "                       n_estimators=500))]\n",
      "verbose                        False\n",
      "tfidf                          TfidfVectorizer()\n",
      "clf                            RandomForestClassifier(bootstrap='True', criterion='entropy', max_depth=20,\n",
      "                       n_estimators=500)\n",
      "tfidf__analyzer                word\n",
      "tfidf__binary                  False\n",
      "tfidf__decode_error            strict\n",
      "tfidf__dtype                   <class 'numpy.float64'>\n",
      "tfidf__encoding                utf-8\n",
      "tfidf__input                   content\n",
      "tfidf__lowercase               True\n",
      "tfidf__max_df                  1.0\n",
      "tfidf__max_features            None\n",
      "tfidf__min_df                  1\n",
      "tfidf__ngram_range             (1, 1)\n",
      "tfidf__norm                    l2\n",
      "tfidf__preprocessor            None\n",
      "tfidf__smooth_idf              True\n",
      "tfidf__stop_words              None\n",
      "tfidf__strip_accents           None\n",
      "tfidf__sublinear_tf            False\n",
      "tfidf__token_pattern           (?u)\\b\\w\\w+\\b\n",
      "tfidf__tokenizer               None\n",
      "tfidf__use_idf                 True\n",
      "tfidf__vocabulary              None\n",
      "clf__bootstrap                 True\n",
      "clf__ccp_alpha                 0.0\n",
      "clf__class_weight              None\n",
      "clf__criterion                 entropy\n",
      "clf__max_depth                 20\n",
      "clf__max_features              auto\n",
      "clf__max_leaf_nodes            None\n",
      "clf__max_samples               None\n",
      "clf__min_impurity_decrease     0.0\n",
      "clf__min_impurity_split        None\n",
      "clf__min_samples_leaf          1\n",
      "clf__min_samples_split         2\n",
      "clf__min_weight_fraction_leaf  0.0\n",
      "clf__n_estimators              500\n",
      "clf__n_jobs                    None\n",
      "clf__oob_score                 False\n",
      "clf__random_state              None\n",
      "clf__verbose                   0\n",
      "clf__warm_start                False\n",
      "\n",
      "\n",
      "              precision    recall  f1-score   support\n",
      "\n",
      "         neg       0.75      0.87      0.80       188\n",
      "         pos       0.85      0.72      0.78       200\n",
      "\n",
      "    accuracy                           0.79       388\n",
      "   macro avg       0.80      0.80      0.79       388\n",
      "weighted avg       0.80      0.79      0.79       388\n",
      "\n"
     ]
    },
    {
     "data": {
      "image/png": "[encoded data removed]",
      "text/plain": [
       "<Figure size 432x288 with 2 Axes>"
      ]
     },
     "metadata": {
      "needs_background": "light"
     },
     "output_type": "display_data"
    }
   ],
   "source": [
    "run_model(model, param_grid, X_train, X_test, y_train, y_test)"
   ]
  },
  {
   "cell_type": "code",
   "execution_count": 35,
   "id": "ba32f9f6",
   "metadata": {},
   "outputs": [],
   "source": [
    "from sklearn.naive_bayes import MultinomialNB"
   ]
  },
  {
   "cell_type": "code",
   "execution_count": 36,
   "id": "a1f28294",
   "metadata": {},
   "outputs": [],
   "source": [
    "model = MultinomialNB()"
   ]
  },
  {
   "cell_type": "code",
   "execution_count": 39,
   "id": "88e8bbf3",
   "metadata": {},
   "outputs": [],
   "source": [
    "param_grid = {'clf__alpha': np.logspace(0,-9,20)}"
   ]
  },
  {
   "cell_type": "code",
   "execution_count": 40,
   "id": "d4fead44",
   "metadata": {},
   "outputs": [
    {
     "name": "stdout",
     "output_type": "stream",
     "text": [
      "memory                         None\n",
      "steps                          [('tfidf', TfidfVectorizer()), ('clf', MultinomialNB(alpha=0.3359818286283782))]\n",
      "verbose                        False\n",
      "tfidf                          TfidfVectorizer()\n",
      "clf                            MultinomialNB(alpha=0.3359818286283782)\n",
      "tfidf__analyzer                word\n",
      "tfidf__binary                  False\n",
      "tfidf__decode_error            strict\n",
      "tfidf__dtype                   <class 'numpy.float64'>\n",
      "tfidf__encoding                utf-8\n",
      "tfidf__input                   content\n",
      "tfidf__lowercase               True\n",
      "tfidf__max_df                  1.0\n",
      "tfidf__max_features            None\n",
      "tfidf__min_df                  1\n",
      "tfidf__ngram_range             (1, 1)\n",
      "tfidf__norm                    l2\n",
      "tfidf__preprocessor            None\n",
      "tfidf__smooth_idf              True\n",
      "tfidf__stop_words              None\n",
      "tfidf__strip_accents           None\n",
      "tfidf__sublinear_tf            False\n",
      "tfidf__token_pattern           (?u)\\b\\w\\w+\\b\n",
      "tfidf__tokenizer               None\n",
      "tfidf__use_idf                 True\n",
      "tfidf__vocabulary              None\n",
      "clf__alpha                     0.3359818286283782\n",
      "clf__class_prior               None\n",
      "clf__fit_prior                 True\n",
      "\n",
      "\n",
      "              precision    recall  f1-score   support\n",
      "\n",
      "         neg       0.77      0.89      0.83       188\n",
      "         pos       0.88      0.76      0.81       200\n",
      "\n",
      "    accuracy                           0.82       388\n",
      "   macro avg       0.83      0.82      0.82       388\n",
      "weighted avg       0.83      0.82      0.82       388\n",
      "\n"
     ]
    },
    {
     "data": {
      "image/png": "[encoded data removed]",
      "text/plain": [
       "<Figure size 432x288 with 2 Axes>"
      ]
     },
     "metadata": {
      "needs_background": "light"
     },
     "output_type": "display_data"
    }
   ],
   "source": [
    "run_model(model, param_grid, X_train, X_test, y_train, y_test)"
   ]
  },
  {
   "cell_type": "code",
   "execution_count": null,
   "id": "32c059b7",
   "metadata": {},
   "outputs": [],
   "source": []
  },
  {
   "cell_type": "code",
   "execution_count": null,
   "id": "5dc638d8",
   "metadata": {},
   "outputs": [],
   "source": []
  }
 ],
 "metadata": {
  "kernelspec": {
   "display_name": "Python 3 (ipykernel)",
   "language": "python",
   "name": "python3"
  },
  "language_info": {
   "codemirror_mode": {
    "name": "ipython",
    "version": 3
   },
   "file_extension": ".py",
   "mimetype": "text/x-python",
   "name": "python",
   "nbconvert_exporter": "python",
   "pygments_lexer": "ipython3",
   "version": "3.7.3"
  }
 },
 "nbformat": 4,
 "nbformat_minor": 5
}
