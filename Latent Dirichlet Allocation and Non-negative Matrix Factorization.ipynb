{
 "cells": [
  {
   "cell_type": "code",
   "execution_count": 1,
   "id": "bf3ee471",
   "metadata": {},
   "outputs": [],
   "source": [
    "import pandas as pd\n",
    "import numpy as np"
   ]
  },
  {
   "cell_type": "code",
   "execution_count": 2,
   "id": "6f107a7f",
   "metadata": {},
   "outputs": [],
   "source": [
    "df = pd.read_csv('npr.csv')"
   ]
  },
  {
   "cell_type": "code",
   "execution_count": 3,
   "id": "289d91bf",
   "metadata": {},
   "outputs": [
    {
     "data": {
      "text/html": [
       "<div>\n",
       "<style scoped>\n",
       "    .dataframe tbody tr th:only-of-type {\n",
       "        vertical-align: middle;\n",
       "    }\n",
       "\n",
       "    .dataframe tbody tr th {\n",
       "        vertical-align: top;\n",
       "    }\n",
       "\n",
       "    .dataframe thead th {\n",
       "        text-align: right;\n",
       "    }\n",
       "</style>\n",
       "<table border=\"1\" class=\"dataframe\">\n",
       "  <thead>\n",
       "    <tr style=\"text-align: right;\">\n",
       "      <th></th>\n",
       "      <th>Article</th>\n",
       "    </tr>\n",
       "  </thead>\n",
       "  <tbody>\n",
       "    <tr>\n",
       "      <th>0</th>\n",
       "      <td>In the Washington of 2016, even when the polic...</td>\n",
       "    </tr>\n",
       "    <tr>\n",
       "      <th>1</th>\n",
       "      <td>Donald Trump has used Twitter  —   his prefe...</td>\n",
       "    </tr>\n",
       "    <tr>\n",
       "      <th>2</th>\n",
       "      <td>Donald Trump is unabashedly praising Russian...</td>\n",
       "    </tr>\n",
       "    <tr>\n",
       "      <th>3</th>\n",
       "      <td>Updated at 2:50 p. m. ET, Russian President Vl...</td>\n",
       "    </tr>\n",
       "    <tr>\n",
       "      <th>4</th>\n",
       "      <td>From photography, illustration and video, to d...</td>\n",
       "    </tr>\n",
       "  </tbody>\n",
       "</table>\n",
       "</div>"
      ],
      "text/plain": [
       "                                             Article\n",
       "0  In the Washington of 2016, even when the polic...\n",
       "1    Donald Trump has used Twitter  —   his prefe...\n",
       "2    Donald Trump is unabashedly praising Russian...\n",
       "3  Updated at 2:50 p. m. ET, Russian President Vl...\n",
       "4  From photography, illustration and video, to d..."
      ]
     },
     "execution_count": 3,
     "metadata": {},
     "output_type": "execute_result"
    }
   ],
   "source": [
    "df.head()"
   ]
  },
  {
   "cell_type": "code",
   "execution_count": 4,
   "id": "f1718e96",
   "metadata": {},
   "outputs": [],
   "source": [
    "from sklearn.feature_extraction.text import CountVectorizer"
   ]
  },
  {
   "cell_type": "markdown",
   "id": "0e93676e",
   "metadata": {},
   "source": [
    "**`max_df`**` : float in range [0.0, 1.0] or int, default=1.0`<br>\n",
    "When building the vocabulary ignore terms that have a document frequency strictly higher than the given threshold (corpus-specific stop words). If float, the parameter represents a proportion of documents, integer absolute counts. This parameter is ignored if vocabulary is not None.\n",
    "\n",
    "**`min_df`**` : float in range [0.0, 1.0] or int, default=1`<br>\n",
    "When building the vocabulary ignore terms that have a document frequency strictly lower than the given threshold. This value is also called cut-off in the literature. If float, the parameter represents a proportion of documents, integer absolute counts. This parameter is ignored if vocabulary is not None."
   ]
  },
  {
   "cell_type": "code",
   "execution_count": 5,
   "id": "3b078c87",
   "metadata": {},
   "outputs": [],
   "source": [
    "cv = CountVectorizer(max_df=0.95, min_df=2, stop_words='english')"
   ]
  },
  {
   "cell_type": "code",
   "execution_count": 6,
   "id": "a5787440",
   "metadata": {},
   "outputs": [],
   "source": [
    "dtm = cv.fit_transform(df['Article'])"
   ]
  },
  {
   "cell_type": "code",
   "execution_count": 7,
   "id": "53f69465",
   "metadata": {},
   "outputs": [
    {
     "data": {
      "text/plain": [
       "<11992x54777 sparse matrix of type '<class 'numpy.int64'>'\n",
       "\twith 3033388 stored elements in Compressed Sparse Row format>"
      ]
     },
     "execution_count": 7,
     "metadata": {},
     "output_type": "execute_result"
    }
   ],
   "source": [
    "dtm"
   ]
  },
  {
   "cell_type": "code",
   "execution_count": 8,
   "id": "ddd34163",
   "metadata": {},
   "outputs": [],
   "source": [
    "from sklearn.decomposition import LatentDirichletAllocation"
   ]
  },
  {
   "cell_type": "code",
   "execution_count": 9,
   "id": "968a8385",
   "metadata": {},
   "outputs": [],
   "source": [
    "LDA = LatentDirichletAllocation(n_components=10, random_state=42)"
   ]
  },
  {
   "cell_type": "code",
   "execution_count": 10,
   "id": "9335b280",
   "metadata": {},
   "outputs": [
    {
     "data": {
      "text/plain": [
       "LatentDirichletAllocation(random_state=42)"
      ]
     },
     "execution_count": 10,
     "metadata": {},
     "output_type": "execute_result"
    }
   ],
   "source": [
    "LDA.fit(dtm)"
   ]
  },
  {
   "cell_type": "markdown",
   "id": "4caaf707",
   "metadata": {},
   "source": [
    "showing stored words"
   ]
  },
  {
   "cell_type": "code",
   "execution_count": 12,
   "id": "b5c08577",
   "metadata": {},
   "outputs": [
    {
     "data": {
      "text/plain": [
       "54777"
      ]
     },
     "execution_count": 12,
     "metadata": {},
     "output_type": "execute_result"
    }
   ],
   "source": [
    "len(cv.get_feature_names())"
   ]
  },
  {
   "cell_type": "code",
   "execution_count": 14,
   "id": "f200c7e3",
   "metadata": {},
   "outputs": [],
   "source": [
    "import random"
   ]
  },
  {
   "cell_type": "code",
   "execution_count": 17,
   "id": "030519cb",
   "metadata": {},
   "outputs": [
    {
     "name": "stdout",
     "output_type": "stream",
     "text": [
      "fluidity\n",
      "fiber\n",
      "cryopreservation\n",
      "gleaning\n",
      "fridays\n",
      "performed\n",
      "user\n",
      "sumney\n",
      "wgbh\n",
      "schoolteacher\n"
     ]
    }
   ],
   "source": [
    "for i in range(10):\n",
    "    id = random.randint(0,54776)\n",
    "    print(cv.get_feature_names()[id])"
   ]
  },
  {
   "cell_type": "markdown",
   "id": "2151a52c",
   "metadata": {},
   "source": [
    "Showing top words per topic"
   ]
  },
  {
   "cell_type": "code",
   "execution_count": 18,
   "id": "0b3cd9eb",
   "metadata": {},
   "outputs": [
    {
     "data": {
      "text/plain": [
       "10"
      ]
     },
     "execution_count": 18,
     "metadata": {},
     "output_type": "execute_result"
    }
   ],
   "source": [
    "len(LDA.components_)"
   ]
  },
  {
   "cell_type": "code",
   "execution_count": 19,
   "id": "fea48f1f",
   "metadata": {},
   "outputs": [
    {
     "data": {
      "text/plain": [
       "array([[5.11072577e+00, 1.94461867e+03, 1.00001806e-01, ...,\n",
       "        1.00005562e-01, 1.00000000e-01, 1.00001005e-01],\n",
       "       [7.90134677e+00, 9.65122359e+01, 1.00000000e-01, ...,\n",
       "        1.00000000e-01, 1.00000000e-01, 1.00005679e-01],\n",
       "       [5.31852874e+00, 3.00433521e+02, 1.00000000e-01, ...,\n",
       "        6.09994114e+00, 2.09990395e+00, 2.09985534e+00],\n",
       "       ...,\n",
       "       [2.70759028e+01, 5.39924878e+02, 1.00000000e-01, ...,\n",
       "        1.00009334e-01, 1.00000000e-01, 1.00000000e-01],\n",
       "       [1.00044538e-01, 3.22049903e+02, 1.00000000e-01, ...,\n",
       "        1.00002615e-01, 1.00002538e-01, 1.00002208e-01],\n",
       "       [2.79006612e-01, 5.87022720e+02, 1.00000000e-01, ...,\n",
       "        1.00005607e-01, 1.00006588e-01, 1.00000000e-01]])"
      ]
     },
     "execution_count": 19,
     "metadata": {},
     "output_type": "execute_result"
    }
   ],
   "source": [
    "LDA.components_"
   ]
  },
  {
   "cell_type": "code",
   "execution_count": 21,
   "id": "92f3dc4b",
   "metadata": {},
   "outputs": [
    {
     "data": {
      "text/plain": [
       "54777"
      ]
     },
     "execution_count": 21,
     "metadata": {},
     "output_type": "execute_result"
    }
   ],
   "source": [
    "len(LDA.components_[0])"
   ]
  },
  {
   "cell_type": "code",
   "execution_count": 22,
   "id": "f5fe8ad8",
   "metadata": {},
   "outputs": [],
   "source": [
    "single_topic = LDA.components_[0]"
   ]
  },
  {
   "cell_type": "code",
   "execution_count": 23,
   "id": "9e63bd71",
   "metadata": {},
   "outputs": [
    {
     "data": {
      "text/plain": [
       "array([18302,  2475, 44967, ..., 10425, 42561, 42993], dtype=int64)"
      ]
     },
     "execution_count": 23,
     "metadata": {},
     "output_type": "execute_result"
    }
   ],
   "source": [
    "single_topic.argsort()"
   ]
  },
  {
   "cell_type": "code",
   "execution_count": 24,
   "id": "df73a6a2",
   "metadata": {},
   "outputs": [
    {
     "data": {
      "text/plain": [
       "0.10000000000053799"
      ]
     },
     "execution_count": 24,
     "metadata": {},
     "output_type": "execute_result"
    }
   ],
   "source": [
    "#least representative word of this topic\n",
    "single_topic[18302]"
   ]
  },
  {
   "cell_type": "code",
   "execution_count": 25,
   "id": "be540187",
   "metadata": {},
   "outputs": [
    {
     "data": {
      "text/plain": [
       "5183.8298988765355"
      ]
     },
     "execution_count": 25,
     "metadata": {},
     "output_type": "execute_result"
    }
   ],
   "source": [
    "#most representative word of this topic\n",
    "single_topic[42993]"
   ]
  },
  {
   "cell_type": "code",
   "execution_count": 26,
   "id": "32d8ae44",
   "metadata": {},
   "outputs": [
    {
     "data": {
      "text/plain": [
       "array([    1, 18349, 33390, 32089, 10421, 31464, 22673, 10425, 42561,\n",
       "       42993], dtype=int64)"
      ]
     },
     "execution_count": 26,
     "metadata": {},
     "output_type": "execute_result"
    }
   ],
   "source": [
    "#top 10 words for this topic\n",
    "single_topic.argsort()[-10:]"
   ]
  },
  {
   "cell_type": "code",
   "execution_count": 27,
   "id": "9538d777",
   "metadata": {},
   "outputs": [],
   "source": [
    "index = single_topic.argsort()[-10:]"
   ]
  },
  {
   "cell_type": "code",
   "execution_count": 29,
   "id": "374024ba",
   "metadata": {},
   "outputs": [
    {
     "name": "stdout",
     "output_type": "stream",
     "text": [
      "000\n",
      "federal\n",
      "new\n",
      "money\n",
      "companies\n",
      "million\n",
      "health\n",
      "company\n",
      "said\n",
      "says\n"
     ]
    }
   ],
   "source": [
    "for i in index:\n",
    "    print(cv.get_feature_names()[i])"
   ]
  },
  {
   "cell_type": "code",
   "execution_count": 33,
   "id": "7295b8a6",
   "metadata": {},
   "outputs": [
    {
     "name": "stdout",
     "output_type": "stream",
     "text": [
      "The top 15 words for topic #0\n",
      "['people', 'care', 'government', 'year', 'insurance', '000', 'federal', 'new', 'money', 'companies', 'million', 'health', 'company', 'said', 'says']\n",
      "\n",
      "\n",
      "The top 15 words for topic #1\n",
      "['npr', 'intelligence', 'security', 'new', 'told', 'russian', 'campaign', 'obama', 'news', 'white', 'russia', 'house', 'president', 'said', 'trump']\n",
      "\n",
      "\n",
      "The top 15 words for topic #2\n",
      "['know', 'little', 'home', 'make', 'way', 'day', 'water', 'time', 'years', 'people', 'food', 'new', 'just', 'like', 'says']\n",
      "\n",
      "\n",
      "The top 15 words for topic #3\n",
      "['don', 'food', 'work', 'day', 'life', 'time', 'family', 'children', 'years', 'just', 'women', 'world', 'like', 'people', 'says']\n",
      "\n",
      "\n",
      "The top 15 words for topic #4\n",
      "['supreme', 'order', 'city', 'states', 'federal', 'country', 'president', 'rights', 'government', 'people', 'law', 'state', 'said', 'court', 'says']\n",
      "\n",
      "\n",
      "The top 15 words for topic #5\n",
      "['going', 've', 'story', 'life', 'don', 'new', 'way', 'time', 'really', 'know', 'think', 'music', 'people', 'just', 'like']\n",
      "\n",
      "\n",
      "The top 15 words for topic #6\n",
      "['don', 'student', 'think', 'science', 'university', 'people', 'time', 'schools', 'education', 'just', 'new', 'like', 'students', 'school', 'says']\n",
      "\n",
      "\n",
      "The top 15 words for topic #7\n",
      "['north', 'npr', 'officers', 'china', 'city', 'attack', 'reported', 'killed', 'according', 'told', 'says', 'reports', 'people', 'police', 'said']\n",
      "\n",
      "\n",
      "The top 15 words for topic #8\n",
      "['like', 'election', 'vote', 'just', 'president', 'voters', 'party', 'state', 'percent', 'republican', 'campaign', 'people', 'said', 'clinton', 'trump']\n",
      "\n",
      "\n",
      "The top 15 words for topic #9\n",
      "['doctors', 'university', 'brain', 'like', 'research', 'percent', 'care', 'women', 'medical', 'disease', 'patients', 'study', 'people', 'health', 'says']\n",
      "\n",
      "\n"
     ]
    }
   ],
   "source": [
    "for index, topic in enumerate(LDA.components_):\n",
    "    print(f\"The top 15 words for topic #{index}\")\n",
    "    print([cv.get_feature_names()[i] for i in topic.argsort()[-15:]])\n",
    "    print('\\n')"
   ]
  },
  {
   "cell_type": "markdown",
   "id": "622f037c",
   "metadata": {},
   "source": [
    "attaching discovered topic labels to original articles"
   ]
  },
  {
   "cell_type": "code",
   "execution_count": 34,
   "id": "c27b8fd0",
   "metadata": {},
   "outputs": [],
   "source": [
    "topic_results = LDA.transform(dtm)"
   ]
  },
  {
   "cell_type": "code",
   "execution_count": 36,
   "id": "5c55bcea",
   "metadata": {},
   "outputs": [
    {
     "data": {
      "text/plain": [
       "(11992, 10)"
      ]
     },
     "execution_count": 36,
     "metadata": {},
     "output_type": "execute_result"
    }
   ],
   "source": [
    "topic_results.shape"
   ]
  },
  {
   "cell_type": "code",
   "execution_count": 37,
   "id": "26caa075",
   "metadata": {},
   "outputs": [
    {
     "data": {
      "text/plain": [
       "array([8.78101114e-03, 9.11263140e-01, 1.57269537e-04, 1.57265808e-04,\n",
       "       1.57268730e-04, 1.57266519e-04, 1.57271636e-04, 1.57262374e-04,\n",
       "       7.88549762e-02, 1.57267682e-04])"
      ]
     },
     "execution_count": 37,
     "metadata": {},
     "output_type": "execute_result"
    }
   ],
   "source": [
    "topic_results[0]"
   ]
  },
  {
   "cell_type": "code",
   "execution_count": 38,
   "id": "e6b6b924",
   "metadata": {},
   "outputs": [
    {
     "data": {
      "text/plain": [
       "array([0.01, 0.91, 0.  , 0.  , 0.  , 0.  , 0.  , 0.  , 0.08, 0.  ])"
      ]
     },
     "execution_count": 38,
     "metadata": {},
     "output_type": "execute_result"
    }
   ],
   "source": [
    "topic_results[0].round(2)"
   ]
  },
  {
   "cell_type": "code",
   "execution_count": 39,
   "id": "436667fb",
   "metadata": {},
   "outputs": [
    {
     "data": {
      "text/plain": [
       "1"
      ]
     },
     "execution_count": 39,
     "metadata": {},
     "output_type": "execute_result"
    }
   ],
   "source": [
    "topic_results[0].argmax()"
   ]
  },
  {
   "cell_type": "code",
   "execution_count": 40,
   "id": "f7a5e77c",
   "metadata": {},
   "outputs": [],
   "source": [
    "df['topic'] = topic_results.argmax(axis=1)"
   ]
  },
  {
   "cell_type": "code",
   "execution_count": 41,
   "id": "2eff1b9e",
   "metadata": {},
   "outputs": [
    {
     "data": {
      "text/html": [
       "<div>\n",
       "<style scoped>\n",
       "    .dataframe tbody tr th:only-of-type {\n",
       "        vertical-align: middle;\n",
       "    }\n",
       "\n",
       "    .dataframe tbody tr th {\n",
       "        vertical-align: top;\n",
       "    }\n",
       "\n",
       "    .dataframe thead th {\n",
       "        text-align: right;\n",
       "    }\n",
       "</style>\n",
       "<table border=\"1\" class=\"dataframe\">\n",
       "  <thead>\n",
       "    <tr style=\"text-align: right;\">\n",
       "      <th></th>\n",
       "      <th>Article</th>\n",
       "      <th>topic</th>\n",
       "    </tr>\n",
       "  </thead>\n",
       "  <tbody>\n",
       "    <tr>\n",
       "      <th>0</th>\n",
       "      <td>In the Washington of 2016, even when the polic...</td>\n",
       "      <td>1</td>\n",
       "    </tr>\n",
       "    <tr>\n",
       "      <th>1</th>\n",
       "      <td>Donald Trump has used Twitter  —   his prefe...</td>\n",
       "      <td>1</td>\n",
       "    </tr>\n",
       "    <tr>\n",
       "      <th>2</th>\n",
       "      <td>Donald Trump is unabashedly praising Russian...</td>\n",
       "      <td>1</td>\n",
       "    </tr>\n",
       "    <tr>\n",
       "      <th>3</th>\n",
       "      <td>Updated at 2:50 p. m. ET, Russian President Vl...</td>\n",
       "      <td>1</td>\n",
       "    </tr>\n",
       "    <tr>\n",
       "      <th>4</th>\n",
       "      <td>From photography, illustration and video, to d...</td>\n",
       "      <td>6</td>\n",
       "    </tr>\n",
       "    <tr>\n",
       "      <th>...</th>\n",
       "      <td>...</td>\n",
       "      <td>...</td>\n",
       "    </tr>\n",
       "    <tr>\n",
       "      <th>11987</th>\n",
       "      <td>The number of law enforcement officers shot an...</td>\n",
       "      <td>7</td>\n",
       "    </tr>\n",
       "    <tr>\n",
       "      <th>11988</th>\n",
       "      <td>Trump is busy these days with victory tours,...</td>\n",
       "      <td>1</td>\n",
       "    </tr>\n",
       "    <tr>\n",
       "      <th>11989</th>\n",
       "      <td>It’s always interesting for the Goats and Soda...</td>\n",
       "      <td>3</td>\n",
       "    </tr>\n",
       "    <tr>\n",
       "      <th>11990</th>\n",
       "      <td>The election of Donald Trump was a surprise to...</td>\n",
       "      <td>8</td>\n",
       "    </tr>\n",
       "    <tr>\n",
       "      <th>11991</th>\n",
       "      <td>Voters in the English city of Sunderland did s...</td>\n",
       "      <td>4</td>\n",
       "    </tr>\n",
       "  </tbody>\n",
       "</table>\n",
       "<p>11992 rows × 2 columns</p>\n",
       "</div>"
      ],
      "text/plain": [
       "                                                 Article  topic\n",
       "0      In the Washington of 2016, even when the polic...      1\n",
       "1        Donald Trump has used Twitter  —   his prefe...      1\n",
       "2        Donald Trump is unabashedly praising Russian...      1\n",
       "3      Updated at 2:50 p. m. ET, Russian President Vl...      1\n",
       "4      From photography, illustration and video, to d...      6\n",
       "...                                                  ...    ...\n",
       "11987  The number of law enforcement officers shot an...      7\n",
       "11988    Trump is busy these days with victory tours,...      1\n",
       "11989  It’s always interesting for the Goats and Soda...      3\n",
       "11990  The election of Donald Trump was a surprise to...      8\n",
       "11991  Voters in the English city of Sunderland did s...      4\n",
       "\n",
       "[11992 rows x 2 columns]"
      ]
     },
     "execution_count": 41,
     "metadata": {},
     "output_type": "execute_result"
    }
   ],
   "source": [
    "df"
   ]
  },
  {
   "cell_type": "markdown",
   "id": "8fe27e2b",
   "metadata": {},
   "source": [
    "## We could also use Non-negative Matrix Factorization instead of LDA"
   ]
  },
  {
   "cell_type": "code",
   "execution_count": 42,
   "id": "438577ac",
   "metadata": {},
   "outputs": [],
   "source": [
    "from sklearn.feature_extraction.text import TfidfVectorizer"
   ]
  },
  {
   "cell_type": "code",
   "execution_count": 43,
   "id": "20eff74b",
   "metadata": {},
   "outputs": [],
   "source": [
    "tfidf = TfidfVectorizer(max_df=0.95, min_df=2, stop_words='english')"
   ]
  },
  {
   "cell_type": "code",
   "execution_count": 44,
   "id": "f42e8a46",
   "metadata": {},
   "outputs": [],
   "source": [
    "dtm = tfidf.fit_transform(df['Article'])"
   ]
  },
  {
   "cell_type": "markdown",
   "id": "172b20ca",
   "metadata": {},
   "source": [
    "Really, the same procedure for LDA can be use for NMF to label the articles"
   ]
  },
  {
   "cell_type": "code",
   "execution_count": 46,
   "id": "0e076347",
   "metadata": {},
   "outputs": [],
   "source": [
    "from sklearn.decomposition import NMF"
   ]
  },
  {
   "cell_type": "code",
   "execution_count": 47,
   "id": "92c45040",
   "metadata": {},
   "outputs": [],
   "source": [
    "model = NMF(n_components=10, random_state=42)"
   ]
  },
  {
   "cell_type": "code",
   "execution_count": 48,
   "id": "65bc8373",
   "metadata": {},
   "outputs": [
    {
     "name": "stderr",
     "output_type": "stream",
     "text": [
      "C:\\Users\\kaile\\Anaconda3\\lib\\site-packages\\sklearn\\decomposition\\_nmf.py:315: FutureWarning: The 'init' value, when 'init=None' and n_components is less than n_samples and n_features, will be changed from 'nndsvd' to 'nndsvda' in 1.1 (renaming of 0.26).\n",
      "  \"'nndsvda' in 1.1 (renaming of 0.26).\"), FutureWarning)\n"
     ]
    },
    {
     "data": {
      "text/plain": [
       "NMF(n_components=10, random_state=42)"
      ]
     },
     "execution_count": 48,
     "metadata": {},
     "output_type": "execute_result"
    }
   ],
   "source": [
    "model.fit(dtm)"
   ]
  },
  {
   "cell_type": "code",
   "execution_count": 51,
   "id": "048a4d09",
   "metadata": {},
   "outputs": [
    {
     "data": {
      "text/plain": [
       "54777"
      ]
     },
     "execution_count": 51,
     "metadata": {},
     "output_type": "execute_result"
    }
   ],
   "source": [
    "len(tfidf.get_feature_names())"
   ]
  },
  {
   "cell_type": "code",
   "execution_count": 52,
   "id": "1284d1a4",
   "metadata": {},
   "outputs": [
    {
     "name": "stdout",
     "output_type": "stream",
     "text": [
      "tilting\n",
      "nonconforming\n",
      "oxygen\n",
      "buffet\n",
      "eggs\n",
      "unveils\n",
      "prophylactic\n",
      "reyna\n",
      "teething\n",
      "otters\n"
     ]
    }
   ],
   "source": [
    "for i in range(10):\n",
    "    id = random.randint(0,54776)\n",
    "    print(tfidf.get_feature_names()[id])"
   ]
  },
  {
   "cell_type": "code",
   "execution_count": 53,
   "id": "83688f47",
   "metadata": {},
   "outputs": [
    {
     "data": {
      "text/plain": [
       "10"
      ]
     },
     "execution_count": 53,
     "metadata": {},
     "output_type": "execute_result"
    }
   ],
   "source": [
    "len(model.components_)"
   ]
  },
  {
   "cell_type": "code",
   "execution_count": 54,
   "id": "f085a9d6",
   "metadata": {},
   "outputs": [
    {
     "data": {
      "text/plain": [
       "array([[0.00076005, 0.26692258, 0.        , ..., 0.00266869, 0.00035543,\n",
       "        0.        ],\n",
       "       [0.        , 0.00066787, 0.        , ..., 0.        , 0.        ,\n",
       "        0.        ],\n",
       "       [0.        , 0.09803908, 0.        , ..., 0.        , 0.        ,\n",
       "        0.        ],\n",
       "       ...,\n",
       "       [0.        , 0.03090463, 0.        , ..., 0.        , 0.        ,\n",
       "        0.        ],\n",
       "       [0.00429197, 0.04813308, 0.        , ..., 0.        , 0.        ,\n",
       "        0.        ],\n",
       "       [0.00445153, 0.        , 0.        , ..., 0.        , 0.        ,\n",
       "        0.        ]])"
      ]
     },
     "execution_count": 54,
     "metadata": {},
     "output_type": "execute_result"
    }
   ],
   "source": [
    "model.components_"
   ]
  },
  {
   "cell_type": "code",
   "execution_count": 59,
   "id": "44a26761",
   "metadata": {},
   "outputs": [
    {
     "data": {
      "text/plain": [
       "(10, 54777)"
      ]
     },
     "execution_count": 59,
     "metadata": {},
     "output_type": "execute_result"
    }
   ],
   "source": [
    "model.components_.shape"
   ]
  },
  {
   "cell_type": "code",
   "execution_count": 60,
   "id": "e06fc064",
   "metadata": {},
   "outputs": [
    {
     "data": {
      "text/plain": [
       "array([27388, 27031, 27030, ..., 19307, 36283, 42993], dtype=int64)"
      ]
     },
     "execution_count": 60,
     "metadata": {},
     "output_type": "execute_result"
    }
   ],
   "source": [
    "model.components_[0].argsort()"
   ]
  },
  {
   "cell_type": "code",
   "execution_count": 62,
   "id": "95186008",
   "metadata": {},
   "outputs": [
    {
     "data": {
      "text/plain": [
       "35137"
      ]
     },
     "execution_count": 62,
     "metadata": {},
     "output_type": "execute_result"
    }
   ],
   "source": [
    "#least representative word of this topic\n",
    "model.components_[0].argsort()[27388]"
   ]
  },
  {
   "cell_type": "code",
   "execution_count": 61,
   "id": "c634a4d3",
   "metadata": {},
   "outputs": [
    {
     "data": {
      "text/plain": [
       "30405"
      ]
     },
     "execution_count": 61,
     "metadata": {},
     "output_type": "execute_result"
    }
   ],
   "source": [
    "#most representative word of this topic\n",
    "model.components_[0].argsort()[42993]"
   ]
  },
  {
   "cell_type": "code",
   "execution_count": 63,
   "id": "fa1a4a5d",
   "metadata": {},
   "outputs": [],
   "source": [
    "#top 10 words for this topic\n",
    "index = model.components_[0].argsort()[-10:]"
   ]
  },
  {
   "cell_type": "code",
   "execution_count": 64,
   "id": "80845161",
   "metadata": {},
   "outputs": [
    {
     "name": "stdout",
     "output_type": "stream",
     "text": [
      "just\n",
      "company\n",
      "study\n",
      "new\n",
      "percent\n",
      "like\n",
      "water\n",
      "food\n",
      "people\n",
      "says\n"
     ]
    }
   ],
   "source": [
    "for i in index:\n",
    "    print(tfidf.get_feature_names()[i])"
   ]
  },
  {
   "cell_type": "code",
   "execution_count": 65,
   "id": "4c79e3a1",
   "metadata": {},
   "outputs": [
    {
     "name": "stdout",
     "output_type": "stream",
     "text": [
      "The top 15 words for topic #0\n",
      "['year', 'university', 'workers', '000', 'years', 'just', 'company', 'study', 'new', 'percent', 'like', 'water', 'food', 'people', 'says']\n",
      "\n",
      "\n",
      "The top 15 words for topic #1\n",
      "['administration', 'cruz', 'election', 'pence', 'gop', 'presidential', 'obama', 'house', 'white', 'republican', 'donald', 'campaign', 'said', 'president', 'trump']\n",
      "\n",
      "\n",
      "The top 15 words for topic #2\n",
      "['patients', 'repeal', 'law', 'act', 'republicans', 'tax', 'people', 'plan', 'affordable', 'obamacare', 'coverage', 'medicaid', 'insurance', 'care', 'health']\n",
      "\n",
      "\n",
      "The top 15 words for topic #3\n",
      "['assad', 'iran', 'iraq', 'north', 'china', 'aleppo', 'war', 'korea', 'said', 'forces', 'russia', 'military', 'syrian', 'syria', 'isis']\n",
      "\n",
      "\n",
      "The top 15 words for topic #4\n",
      "['cruz', 'election', 'primary', 'democrats', 'percent', 'party', 'vote', 'state', 'delegates', 'democratic', 'hillary', 'campaign', 'voters', 'sanders', 'clinton']\n",
      "\n",
      "\n",
      "The top 15 words for topic #5\n",
      "['book', 'love', 'women', 'way', 'time', 'life', 'album', 'song', 'people', 'really', 'know', 'think', 'just', 'like', 'music']\n",
      "\n",
      "\n",
      "The top 15 words for topic #6\n",
      "['program', 'child', 'teacher', 'high', 'devos', 'parents', 'children', 'college', 'kids', 'teachers', 'student', 'education', 'schools', 'school', 'students']\n",
      "\n",
      "\n",
      "The top 15 words for topic #7\n",
      "['cdc', 'babies', 'infected', 'brazil', 'outbreak', 'pregnant', 'microcephaly', 'cases', 'health', 'disease', 'mosquitoes', 'mosquito', 'women', 'virus', 'zika']\n",
      "\n",
      "\n",
      "The top 15 words for topic #8\n",
      "['department', 'enforcement', 'killed', 'city', 'gun', 'people', 'law', 'reports', 'attack', 'shooting', 'officer', 'black', 'said', 'officers', 'police']\n",
      "\n",
      "\n",
      "The top 15 words for topic #9\n",
      "['law', 'supreme', 'russian', 'russia', 'intelligence', 'said', 'investigation', 'committee', 'house', 'justice', 'president', 'senate', 'fbi', 'court', 'comey']\n",
      "\n",
      "\n"
     ]
    }
   ],
   "source": [
    "for index, topic in enumerate(model.components_):\n",
    "    print(f\"The top 15 words for topic #{index}\")\n",
    "    print([tfidf.get_feature_names()[i] for i in topic.argsort()[-15:]])\n",
    "    print('\\n')"
   ]
  },
  {
   "cell_type": "markdown",
   "id": "b68a5645",
   "metadata": {},
   "source": [
    "let's read in the same file again but to a different df for this NMF study"
   ]
  },
  {
   "cell_type": "code",
   "execution_count": 66,
   "id": "60b04e75",
   "metadata": {},
   "outputs": [],
   "source": [
    "nmf_df = pd.read_csv('npr.csv')"
   ]
  },
  {
   "cell_type": "code",
   "execution_count": 67,
   "id": "18179f01",
   "metadata": {},
   "outputs": [
    {
     "data": {
      "text/html": [
       "<div>\n",
       "<style scoped>\n",
       "    .dataframe tbody tr th:only-of-type {\n",
       "        vertical-align: middle;\n",
       "    }\n",
       "\n",
       "    .dataframe tbody tr th {\n",
       "        vertical-align: top;\n",
       "    }\n",
       "\n",
       "    .dataframe thead th {\n",
       "        text-align: right;\n",
       "    }\n",
       "</style>\n",
       "<table border=\"1\" class=\"dataframe\">\n",
       "  <thead>\n",
       "    <tr style=\"text-align: right;\">\n",
       "      <th></th>\n",
       "      <th>Article</th>\n",
       "    </tr>\n",
       "  </thead>\n",
       "  <tbody>\n",
       "    <tr>\n",
       "      <th>0</th>\n",
       "      <td>In the Washington of 2016, even when the polic...</td>\n",
       "    </tr>\n",
       "    <tr>\n",
       "      <th>1</th>\n",
       "      <td>Donald Trump has used Twitter  —   his prefe...</td>\n",
       "    </tr>\n",
       "    <tr>\n",
       "      <th>2</th>\n",
       "      <td>Donald Trump is unabashedly praising Russian...</td>\n",
       "    </tr>\n",
       "    <tr>\n",
       "      <th>3</th>\n",
       "      <td>Updated at 2:50 p. m. ET, Russian President Vl...</td>\n",
       "    </tr>\n",
       "    <tr>\n",
       "      <th>4</th>\n",
       "      <td>From photography, illustration and video, to d...</td>\n",
       "    </tr>\n",
       "  </tbody>\n",
       "</table>\n",
       "</div>"
      ],
      "text/plain": [
       "                                             Article\n",
       "0  In the Washington of 2016, even when the polic...\n",
       "1    Donald Trump has used Twitter  —   his prefe...\n",
       "2    Donald Trump is unabashedly praising Russian...\n",
       "3  Updated at 2:50 p. m. ET, Russian President Vl...\n",
       "4  From photography, illustration and video, to d..."
      ]
     },
     "execution_count": 67,
     "metadata": {},
     "output_type": "execute_result"
    }
   ],
   "source": [
    "nmf_df.head()"
   ]
  },
  {
   "cell_type": "code",
   "execution_count": 76,
   "id": "ea0accea",
   "metadata": {},
   "outputs": [],
   "source": [
    "topic_results = model.transform(dtm)"
   ]
  },
  {
   "cell_type": "code",
   "execution_count": 77,
   "id": "da1c79ce",
   "metadata": {},
   "outputs": [],
   "source": [
    "nmf_df['topic'] = topic_results.argmax(axis=1)"
   ]
  },
  {
   "cell_type": "code",
   "execution_count": 83,
   "id": "77934f91",
   "metadata": {},
   "outputs": [
    {
     "data": {
      "text/html": [
       "<div>\n",
       "<style scoped>\n",
       "    .dataframe tbody tr th:only-of-type {\n",
       "        vertical-align: middle;\n",
       "    }\n",
       "\n",
       "    .dataframe tbody tr th {\n",
       "        vertical-align: top;\n",
       "    }\n",
       "\n",
       "    .dataframe thead th {\n",
       "        text-align: right;\n",
       "    }\n",
       "</style>\n",
       "<table border=\"1\" class=\"dataframe\">\n",
       "  <thead>\n",
       "    <tr style=\"text-align: right;\">\n",
       "      <th></th>\n",
       "      <th>Article</th>\n",
       "      <th>topic</th>\n",
       "    </tr>\n",
       "  </thead>\n",
       "  <tbody>\n",
       "    <tr>\n",
       "      <th>0</th>\n",
       "      <td>In the Washington of 2016, even when the polic...</td>\n",
       "      <td>1</td>\n",
       "    </tr>\n",
       "    <tr>\n",
       "      <th>1</th>\n",
       "      <td>Donald Trump has used Twitter  —   his prefe...</td>\n",
       "      <td>1</td>\n",
       "    </tr>\n",
       "    <tr>\n",
       "      <th>2</th>\n",
       "      <td>Donald Trump is unabashedly praising Russian...</td>\n",
       "      <td>1</td>\n",
       "    </tr>\n",
       "    <tr>\n",
       "      <th>3</th>\n",
       "      <td>Updated at 2:50 p. m. ET, Russian President Vl...</td>\n",
       "      <td>3</td>\n",
       "    </tr>\n",
       "    <tr>\n",
       "      <th>4</th>\n",
       "      <td>From photography, illustration and video, to d...</td>\n",
       "      <td>6</td>\n",
       "    </tr>\n",
       "    <tr>\n",
       "      <th>...</th>\n",
       "      <td>...</td>\n",
       "      <td>...</td>\n",
       "    </tr>\n",
       "    <tr>\n",
       "      <th>11987</th>\n",
       "      <td>The number of law enforcement officers shot an...</td>\n",
       "      <td>8</td>\n",
       "    </tr>\n",
       "    <tr>\n",
       "      <th>11988</th>\n",
       "      <td>Trump is busy these days with victory tours,...</td>\n",
       "      <td>1</td>\n",
       "    </tr>\n",
       "    <tr>\n",
       "      <th>11989</th>\n",
       "      <td>It’s always interesting for the Goats and Soda...</td>\n",
       "      <td>7</td>\n",
       "    </tr>\n",
       "    <tr>\n",
       "      <th>11990</th>\n",
       "      <td>The election of Donald Trump was a surprise to...</td>\n",
       "      <td>4</td>\n",
       "    </tr>\n",
       "    <tr>\n",
       "      <th>11991</th>\n",
       "      <td>Voters in the English city of Sunderland did s...</td>\n",
       "      <td>0</td>\n",
       "    </tr>\n",
       "  </tbody>\n",
       "</table>\n",
       "<p>11992 rows × 2 columns</p>\n",
       "</div>"
      ],
      "text/plain": [
       "                                                 Article  topic\n",
       "0      In the Washington of 2016, even when the polic...      1\n",
       "1        Donald Trump has used Twitter  —   his prefe...      1\n",
       "2        Donald Trump is unabashedly praising Russian...      1\n",
       "3      Updated at 2:50 p. m. ET, Russian President Vl...      3\n",
       "4      From photography, illustration and video, to d...      6\n",
       "...                                                  ...    ...\n",
       "11987  The number of law enforcement officers shot an...      8\n",
       "11988    Trump is busy these days with victory tours,...      1\n",
       "11989  It’s always interesting for the Goats and Soda...      7\n",
       "11990  The election of Donald Trump was a surprise to...      4\n",
       "11991  Voters in the English city of Sunderland did s...      0\n",
       "\n",
       "[11992 rows x 2 columns]"
      ]
     },
     "execution_count": 83,
     "metadata": {},
     "output_type": "execute_result"
    }
   ],
   "source": [
    "nmf_df"
   ]
  },
  {
   "cell_type": "code",
   "execution_count": 84,
   "id": "71478f08",
   "metadata": {},
   "outputs": [],
   "source": [
    "topic_dict = {0:'Study',1:'election',2:'obamacare',3:'Syria',4:'democratic - party, elections',5:'women - lifestyle',\n",
    "              6:'education',7:'healthcare',8:'Police',9:'Russia investigation'}"
   ]
  },
  {
   "cell_type": "code",
   "execution_count": 85,
   "id": "614a5041",
   "metadata": {},
   "outputs": [],
   "source": [
    "nmf_df['topic label'] = nmf_df['topic'].map(topic_dict)"
   ]
  },
  {
   "cell_type": "code",
   "execution_count": 86,
   "id": "71388aad",
   "metadata": {},
   "outputs": [
    {
     "data": {
      "text/html": [
       "<div>\n",
       "<style scoped>\n",
       "    .dataframe tbody tr th:only-of-type {\n",
       "        vertical-align: middle;\n",
       "    }\n",
       "\n",
       "    .dataframe tbody tr th {\n",
       "        vertical-align: top;\n",
       "    }\n",
       "\n",
       "    .dataframe thead th {\n",
       "        text-align: right;\n",
       "    }\n",
       "</style>\n",
       "<table border=\"1\" class=\"dataframe\">\n",
       "  <thead>\n",
       "    <tr style=\"text-align: right;\">\n",
       "      <th></th>\n",
       "      <th>Article</th>\n",
       "      <th>topic</th>\n",
       "      <th>topic label</th>\n",
       "    </tr>\n",
       "  </thead>\n",
       "  <tbody>\n",
       "    <tr>\n",
       "      <th>0</th>\n",
       "      <td>In the Washington of 2016, even when the polic...</td>\n",
       "      <td>1</td>\n",
       "      <td>election</td>\n",
       "    </tr>\n",
       "    <tr>\n",
       "      <th>1</th>\n",
       "      <td>Donald Trump has used Twitter  —   his prefe...</td>\n",
       "      <td>1</td>\n",
       "      <td>election</td>\n",
       "    </tr>\n",
       "    <tr>\n",
       "      <th>2</th>\n",
       "      <td>Donald Trump is unabashedly praising Russian...</td>\n",
       "      <td>1</td>\n",
       "      <td>election</td>\n",
       "    </tr>\n",
       "    <tr>\n",
       "      <th>3</th>\n",
       "      <td>Updated at 2:50 p. m. ET, Russian President Vl...</td>\n",
       "      <td>3</td>\n",
       "      <td>Syria</td>\n",
       "    </tr>\n",
       "    <tr>\n",
       "      <th>4</th>\n",
       "      <td>From photography, illustration and video, to d...</td>\n",
       "      <td>6</td>\n",
       "      <td>education</td>\n",
       "    </tr>\n",
       "    <tr>\n",
       "      <th>...</th>\n",
       "      <td>...</td>\n",
       "      <td>...</td>\n",
       "      <td>...</td>\n",
       "    </tr>\n",
       "    <tr>\n",
       "      <th>11987</th>\n",
       "      <td>The number of law enforcement officers shot an...</td>\n",
       "      <td>8</td>\n",
       "      <td>Police</td>\n",
       "    </tr>\n",
       "    <tr>\n",
       "      <th>11988</th>\n",
       "      <td>Trump is busy these days with victory tours,...</td>\n",
       "      <td>1</td>\n",
       "      <td>election</td>\n",
       "    </tr>\n",
       "    <tr>\n",
       "      <th>11989</th>\n",
       "      <td>It’s always interesting for the Goats and Soda...</td>\n",
       "      <td>7</td>\n",
       "      <td>healthcare</td>\n",
       "    </tr>\n",
       "    <tr>\n",
       "      <th>11990</th>\n",
       "      <td>The election of Donald Trump was a surprise to...</td>\n",
       "      <td>4</td>\n",
       "      <td>democratic - party, elections</td>\n",
       "    </tr>\n",
       "    <tr>\n",
       "      <th>11991</th>\n",
       "      <td>Voters in the English city of Sunderland did s...</td>\n",
       "      <td>0</td>\n",
       "      <td>Study</td>\n",
       "    </tr>\n",
       "  </tbody>\n",
       "</table>\n",
       "<p>11992 rows × 3 columns</p>\n",
       "</div>"
      ],
      "text/plain": [
       "                                                 Article  topic  \\\n",
       "0      In the Washington of 2016, even when the polic...      1   \n",
       "1        Donald Trump has used Twitter  —   his prefe...      1   \n",
       "2        Donald Trump is unabashedly praising Russian...      1   \n",
       "3      Updated at 2:50 p. m. ET, Russian President Vl...      3   \n",
       "4      From photography, illustration and video, to d...      6   \n",
       "...                                                  ...    ...   \n",
       "11987  The number of law enforcement officers shot an...      8   \n",
       "11988    Trump is busy these days with victory tours,...      1   \n",
       "11989  It’s always interesting for the Goats and Soda...      7   \n",
       "11990  The election of Donald Trump was a surprise to...      4   \n",
       "11991  Voters in the English city of Sunderland did s...      0   \n",
       "\n",
       "                         topic label  \n",
       "0                           election  \n",
       "1                           election  \n",
       "2                           election  \n",
       "3                              Syria  \n",
       "4                          education  \n",
       "...                              ...  \n",
       "11987                         Police  \n",
       "11988                       election  \n",
       "11989                     healthcare  \n",
       "11990  democratic - party, elections  \n",
       "11991                          Study  \n",
       "\n",
       "[11992 rows x 3 columns]"
      ]
     },
     "execution_count": 86,
     "metadata": {},
     "output_type": "execute_result"
    }
   ],
   "source": [
    "nmf_df"
   ]
  },
  {
   "cell_type": "code",
   "execution_count": null,
   "id": "200de632",
   "metadata": {},
   "outputs": [],
   "source": []
  }
 ],
 "metadata": {
  "kernelspec": {
   "display_name": "Python 3 (ipykernel)",
   "language": "python",
   "name": "python3"
  },
  "language_info": {
   "codemirror_mode": {
    "name": "ipython",
    "version": 3
   },
   "file_extension": ".py",
   "mimetype": "text/x-python",
   "name": "python",
   "nbconvert_exporter": "python",
   "pygments_lexer": "ipython3",
   "version": "3.7.3"
  }
 },
 "nbformat": 4,
 "nbformat_minor": 5
}
