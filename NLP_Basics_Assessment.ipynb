{
 "cells": [
  {
   "cell_type": "markdown",
   "id": "388b1082",
   "metadata": {},
   "source": [
    "For this assessment we'll be using the short story [_An Occurrence at Owl Creek Bridge_](https://en.wikipedia.org/wiki/An_Occurrence_at_Owl_Creek_Bridge) by Ambrose Bierce (1890). <br>The story is in the public domain; the text file was obtained from [Project Gutenberg](https://www.gutenberg.org/ebooks/375.txt.utf-8)."
   ]
  },
  {
   "cell_type": "code",
   "execution_count": 1,
   "id": "e51c0204",
   "metadata": {},
   "outputs": [],
   "source": [
    "import spacy\n",
    "nlp = spacy.load('en_core_web_sm')"
   ]
  },
  {
   "cell_type": "code",
   "execution_count": 2,
   "id": "2e62c7e5",
   "metadata": {},
   "outputs": [],
   "source": [
    "with open('../TextFiles/owlcreek.txt') as f:\n",
    "    doc = nlp(f.read())"
   ]
  },
  {
   "cell_type": "markdown",
   "id": "ffecb960",
   "metadata": {},
   "source": [
    "Reproduce the segment of text from the txt file"
   ]
  },
  {
   "cell_type": "code",
   "execution_count": 4,
   "id": "d8c209a8",
   "metadata": {},
   "outputs": [
    {
     "data": {
      "text/plain": [
       "AN OCCURRENCE AT OWL CREEK BRIDGE\n",
       "\n",
       "by Ambrose Bierce\n",
       "\n",
       "I\n",
       "\n",
       "A man stood upon a railroad bridge in northern Alabama, looking down\n",
       "into the swift water twenty feet below.  "
      ]
     },
     "execution_count": 4,
     "metadata": {},
     "output_type": "execute_result"
    }
   ],
   "source": [
    "doc[:36]"
   ]
  },
  {
   "cell_type": "code",
   "execution_count": 3,
   "id": "4e0aca51",
   "metadata": {},
   "outputs": [
    {
     "data": {
      "text/plain": [
       "AN OCCURRENCE AT OWL CREEK BRIDGE\n",
       "\n",
       "by Ambrose Bierce\n",
       "\n",
       "I\n",
       "\n",
       "A man stood upon a railroad bridge in northern Alabama, looking down\n",
       "into the swift water twenty feet below.  "
      ]
     },
     "execution_count": 3,
     "metadata": {},
     "output_type": "execute_result"
    }
   ],
   "source": []
  },
  {
   "cell_type": "markdown",
   "id": "ec607908",
   "metadata": {},
   "source": [
    "How many tokens are contained in this file?"
   ]
  },
  {
   "cell_type": "code",
   "execution_count": 5,
   "id": "dd0f9969",
   "metadata": {},
   "outputs": [
    {
     "data": {
      "text/plain": [
       "4835"
      ]
     },
     "execution_count": 5,
     "metadata": {},
     "output_type": "execute_result"
    }
   ],
   "source": [
    "len(doc)"
   ]
  },
  {
   "cell_type": "markdown",
   "id": "358d4854",
   "metadata": {},
   "source": [
    "**How many sentences are contained in the file?**"
   ]
  },
  {
   "cell_type": "code",
   "execution_count": 7,
   "id": "cf48ead3",
   "metadata": {},
   "outputs": [],
   "source": [
    "sent_list = [sent for sent in doc.sents]"
   ]
  },
  {
   "cell_type": "code",
   "execution_count": 8,
   "id": "a1d055b6",
   "metadata": {},
   "outputs": [
    {
     "data": {
      "text/plain": [
       "212"
      ]
     },
     "execution_count": 8,
     "metadata": {},
     "output_type": "execute_result"
    }
   ],
   "source": [
    "len(sent_list)"
   ]
  },
  {
   "cell_type": "markdown",
   "id": "bf20992a",
   "metadata": {},
   "source": [
    "**Print the second sentence in the document**"
   ]
  },
  {
   "cell_type": "code",
   "execution_count": 10,
   "id": "cf1b8943",
   "metadata": {},
   "outputs": [
    {
     "data": {
      "text/plain": [
       " The man's hands were behind\n",
       "his back, the wrists bound with a cord."
      ]
     },
     "execution_count": 10,
     "metadata": {},
     "output_type": "execute_result"
    }
   ],
   "source": [
    "sent_list[1]"
   ]
  },
  {
   "cell_type": "markdown",
   "id": "0986d9af",
   "metadata": {},
   "source": [
    "**5. For each token in the sentence above, print its `text`, `POS` tag, `dep` tag and `lemma`<br>**\n",
    "**CHALLENGE: Have values line up in columns in the print output.**"
   ]
  },
  {
   "cell_type": "code",
   "execution_count": 12,
   "id": "82bf0f26",
   "metadata": {},
   "outputs": [
    {
     "name": "stdout",
     "output_type": "stream",
     "text": [
      "  \t SPACE \t dep \t  \n",
      "The \t DET \t det \t the\n",
      "man \t NOUN \t poss \t man\n",
      "'s \t PART \t case \t 's\n",
      "hands \t NOUN \t nsubj \t hand\n",
      "were \t AUX \t ROOT \t be\n",
      "behind \t ADP \t prep \t behind\n",
      "\n",
      " \t SPACE \t dep \t \n",
      "\n",
      "his \t PRON \t poss \t his\n",
      "back \t NOUN \t attr \t back\n",
      ", \t PUNCT \t punct \t ,\n",
      "the \t DET \t det \t the\n",
      "wrists \t NOUN \t appos \t wrist\n",
      "bound \t VERB \t acl \t bind\n",
      "with \t ADP \t prep \t with\n",
      "a \t DET \t det \t a\n",
      "cord \t NOUN \t pobj \t cord\n",
      ". \t PUNCT \t punct \t .\n"
     ]
    }
   ],
   "source": [
    "for token in sent_list[1]:\n",
    "    print(token.text, '\\t', token.pos_, '\\t', token.dep_, '\\t', token.lemma_)"
   ]
  },
  {
   "cell_type": "code",
   "execution_count": 15,
   "id": "9060993b",
   "metadata": {},
   "outputs": [
    {
     "name": "stdout",
     "output_type": "stream",
     "text": [
      "                SPACE      dep                       \n",
      "The             DET        det             the       \n",
      "man             NOUN       poss            man       \n",
      "'s              PART       case            's        \n",
      "hands           NOUN       nsubj           hand      \n",
      "were            AUX        ROOT            be        \n",
      "behind          ADP        prep            behind    \n",
      "\n",
      "               SPACE      dep             \n",
      "         \n",
      "his             PRON       poss            his       \n",
      "back            NOUN       attr            back      \n",
      ",               PUNCT      punct           ,         \n",
      "the             DET        det             the       \n",
      "wrists          NOUN       appos           wrist     \n",
      "bound           VERB       acl             bind      \n",
      "with            ADP        prep            with      \n",
      "a               DET        det             a         \n",
      "cord            NOUN       pobj            cord      \n",
      ".               PUNCT      punct           .         \n"
     ]
    }
   ],
   "source": [
    "for token in sent_list[1]:\n",
    "    print(f\"{token.text:{15}} {token.pos_:{10}} {token.dep_:{15}} {token.lemma_:{10}}\")"
   ]
  },
  {
   "cell_type": "markdown",
   "id": "c1d99ea3",
   "metadata": {},
   "source": [
    "**Write a matcher called 'Swimming' that finds both occurrences of the phrase \"swimming vigorously\" in the text**<br>"
   ]
  },
  {
   "cell_type": "code",
   "execution_count": 16,
   "id": "50840bb2",
   "metadata": {},
   "outputs": [],
   "source": [
    "from spacy.matcher import Matcher\n",
    "matcher = Matcher(nlp.vocab)"
   ]
  },
  {
   "cell_type": "code",
   "execution_count": 17,
   "id": "7b4144ca",
   "metadata": {},
   "outputs": [],
   "source": [
    "pattern = [[{'LOWER': 'swimmingvigorously'}, ],\n",
    "           [{'LOWER': 'swimming'}, {'IS_SPACE': True, 'OP':'*'}, {'LOWER': 'vigorously'}]]"
   ]
  },
  {
   "cell_type": "code",
   "execution_count": 19,
   "id": "1ad58c8d",
   "metadata": {},
   "outputs": [],
   "source": [
    "matcher.remove('SwimmingVigorously')"
   ]
  },
  {
   "cell_type": "code",
   "execution_count": 20,
   "id": "8f51a957",
   "metadata": {},
   "outputs": [],
   "source": [
    "matcher.add('SwimmingVigorously', pattern)"
   ]
  },
  {
   "cell_type": "code",
   "execution_count": 21,
   "id": "5bea5417",
   "metadata": {},
   "outputs": [],
   "source": [
    "found_matches = matcher(doc)"
   ]
  },
  {
   "cell_type": "code",
   "execution_count": 22,
   "id": "7681b9db",
   "metadata": {},
   "outputs": [
    {
     "data": {
      "text/plain": [
       "[(13245044497498710760, 1274, 1277), (13245044497498710760, 3609, 3612)]"
      ]
     },
     "execution_count": 22,
     "metadata": {},
     "output_type": "execute_result"
    }
   ],
   "source": [
    "found_matches"
   ]
  },
  {
   "cell_type": "markdown",
   "id": "a0afbf5e",
   "metadata": {},
   "source": [
    "**Print the text surrounding each found match**"
   ]
  },
  {
   "cell_type": "code",
   "execution_count": 26,
   "id": "1262a48a",
   "metadata": {},
   "outputs": [
    {
     "name": "stdout",
     "output_type": "stream",
     "text": [
      " By diving I could evade the bullets and, swimming\n",
      "vigorously, reach the bank, take to the woods and\n",
      "\n",
      "saw all this over his shoulder; he was now swimming\n",
      "vigorously with the current.  His brain was as energetic\n",
      "\n"
     ]
    }
   ],
   "source": [
    "for id, start, end in found_matches:\n",
    "    print(doc[start-10:end+10])\n",
    "    print('')"
   ]
  },
  {
   "cell_type": "markdown",
   "id": "6b7cbcad",
   "metadata": {},
   "source": [
    "**EXTRA CREDIT:<br>Print the *sentence* that contains each found match**"
   ]
  },
  {
   "cell_type": "code",
   "execution_count": 27,
   "id": "0320b00a",
   "metadata": {},
   "outputs": [
    {
     "name": "stdout",
     "output_type": "stream",
     "text": [
      "3595 3616\n",
      "\n",
      "\n",
      "The hunted man saw all this over his shoulder; he was now swimming\n",
      "vigorously with the current.\n"
     ]
    }
   ],
   "source": [
    "for sent in sent_list:\n",
    "    if (found_matches[1][2] < sent.end):\n",
    "        print(sent.start, sent.end)\n",
    "        print(sent)\n",
    "        break"
   ]
  },
  {
   "cell_type": "code",
   "execution_count": 28,
   "id": "424a0a56",
   "metadata": {},
   "outputs": [
    {
     "name": "stdout",
     "output_type": "stream",
     "text": [
      "1264 1291\n",
      " By diving I could evade the bullets and, swimming\n",
      "vigorously, reach the bank, take to the woods and get away home.\n"
     ]
    }
   ],
   "source": [
    "for sent in sent_list:\n",
    "    if (found_matches[0][2] < sent.end):\n",
    "        print(sent.start, sent.end)\n",
    "        print(sent)\n",
    "        break"
   ]
  },
  {
   "cell_type": "code",
   "execution_count": null,
   "id": "197284ac",
   "metadata": {},
   "outputs": [],
   "source": []
  },
  {
   "cell_type": "code",
   "execution_count": null,
   "id": "a9f4e64e",
   "metadata": {},
   "outputs": [],
   "source": []
  }
 ],
 "metadata": {
  "kernelspec": {
   "display_name": "Python 3 (ipykernel)",
   "language": "python",
   "name": "python3"
  },
  "language_info": {
   "codemirror_mode": {
    "name": "ipython",
    "version": 3
   },
   "file_extension": ".py",
   "mimetype": "text/x-python",
   "name": "python",
   "nbconvert_exporter": "python",
   "pygments_lexer": "ipython3",
   "version": "3.7.3"
  }
 },
 "nbformat": 4,
 "nbformat_minor": 5
}
