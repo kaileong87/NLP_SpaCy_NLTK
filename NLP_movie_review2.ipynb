{
 "cells": [
  {
   "cell_type": "markdown",
   "id": "6ca9a54f",
   "metadata": {},
   "source": [
    "The **moviereviews2.tsv** dataset contains the text of 6000 movie reviews. 3000 are positive, 3000 are negative, and the text has been preprocessed as a tab-delimited file. As before, labels are given as `pos` and `neg`.\n",
    "\n",
    "For more information on this dataset visit http://ai.stanford.edu/~amaas/data/sentiment/"
   ]
  },
  {
   "cell_type": "code",
   "execution_count": 1,
   "id": "be895046",
   "metadata": {},
   "outputs": [],
   "source": [
    "import pandas as pd\n",
    "import numpy as np\n",
    "import matplotlib.pyplot as plt\n",
    "import seaborn as sns"
   ]
  },
  {
   "cell_type": "code",
   "execution_count": 3,
   "id": "ab493787",
   "metadata": {},
   "outputs": [],
   "source": [
    "df = pd.read_csv('../TextFiles/moviereviews2.tsv', sep='\\t')"
   ]
  },
  {
   "cell_type": "code",
   "execution_count": 4,
   "id": "5ade2ce9",
   "metadata": {},
   "outputs": [
    {
     "data": {
      "text/html": [
       "<div>\n",
       "<style scoped>\n",
       "    .dataframe tbody tr th:only-of-type {\n",
       "        vertical-align: middle;\n",
       "    }\n",
       "\n",
       "    .dataframe tbody tr th {\n",
       "        vertical-align: top;\n",
       "    }\n",
       "\n",
       "    .dataframe thead th {\n",
       "        text-align: right;\n",
       "    }\n",
       "</style>\n",
       "<table border=\"1\" class=\"dataframe\">\n",
       "  <thead>\n",
       "    <tr style=\"text-align: right;\">\n",
       "      <th></th>\n",
       "      <th>label</th>\n",
       "      <th>review</th>\n",
       "    </tr>\n",
       "  </thead>\n",
       "  <tbody>\n",
       "    <tr>\n",
       "      <th>0</th>\n",
       "      <td>pos</td>\n",
       "      <td>I loved this movie and will watch it again. Or...</td>\n",
       "    </tr>\n",
       "    <tr>\n",
       "      <th>1</th>\n",
       "      <td>pos</td>\n",
       "      <td>A warm, touching movie that has a fantasy-like...</td>\n",
       "    </tr>\n",
       "    <tr>\n",
       "      <th>2</th>\n",
       "      <td>pos</td>\n",
       "      <td>I was not expecting the powerful filmmaking ex...</td>\n",
       "    </tr>\n",
       "    <tr>\n",
       "      <th>3</th>\n",
       "      <td>neg</td>\n",
       "      <td>This so-called \"documentary\" tries to tell tha...</td>\n",
       "    </tr>\n",
       "    <tr>\n",
       "      <th>4</th>\n",
       "      <td>pos</td>\n",
       "      <td>This show has been my escape from reality for ...</td>\n",
       "    </tr>\n",
       "    <tr>\n",
       "      <th>...</th>\n",
       "      <td>...</td>\n",
       "      <td>...</td>\n",
       "    </tr>\n",
       "    <tr>\n",
       "      <th>5995</th>\n",
       "      <td>pos</td>\n",
       "      <td>Of the three remakes of this plot, I like them...</td>\n",
       "    </tr>\n",
       "    <tr>\n",
       "      <th>5996</th>\n",
       "      <td>neg</td>\n",
       "      <td>Poor Whoopi Goldberg. Imagine her at a friend'...</td>\n",
       "    </tr>\n",
       "    <tr>\n",
       "      <th>5997</th>\n",
       "      <td>neg</td>\n",
       "      <td>Honestly before I watched this movie, I had he...</td>\n",
       "    </tr>\n",
       "    <tr>\n",
       "      <th>5998</th>\n",
       "      <td>pos</td>\n",
       "      <td>This movie is essentially shot on a hand held ...</td>\n",
       "    </tr>\n",
       "    <tr>\n",
       "      <th>5999</th>\n",
       "      <td>pos</td>\n",
       "      <td>It has singing. It has drama. It has comedy. I...</td>\n",
       "    </tr>\n",
       "  </tbody>\n",
       "</table>\n",
       "<p>6000 rows × 2 columns</p>\n",
       "</div>"
      ],
      "text/plain": [
       "     label                                             review\n",
       "0      pos  I loved this movie and will watch it again. Or...\n",
       "1      pos  A warm, touching movie that has a fantasy-like...\n",
       "2      pos  I was not expecting the powerful filmmaking ex...\n",
       "3      neg  This so-called \"documentary\" tries to tell tha...\n",
       "4      pos  This show has been my escape from reality for ...\n",
       "...    ...                                                ...\n",
       "5995   pos  Of the three remakes of this plot, I like them...\n",
       "5996   neg  Poor Whoopi Goldberg. Imagine her at a friend'...\n",
       "5997   neg  Honestly before I watched this movie, I had he...\n",
       "5998   pos  This movie is essentially shot on a hand held ...\n",
       "5999   pos  It has singing. It has drama. It has comedy. I...\n",
       "\n",
       "[6000 rows x 2 columns]"
      ]
     },
     "execution_count": 4,
     "metadata": {},
     "output_type": "execute_result"
    }
   ],
   "source": [
    "df"
   ]
  },
  {
   "cell_type": "code",
   "execution_count": 5,
   "id": "1072bf45",
   "metadata": {},
   "outputs": [
    {
     "data": {
      "text/plain": [
       "label      0\n",
       "review    20\n",
       "dtype: int64"
      ]
     },
     "execution_count": 5,
     "metadata": {},
     "output_type": "execute_result"
    }
   ],
   "source": [
    "df.isnull().sum()"
   ]
  },
  {
   "cell_type": "code",
   "execution_count": 6,
   "id": "9e6866c0",
   "metadata": {},
   "outputs": [],
   "source": [
    "df = df.dropna()"
   ]
  },
  {
   "cell_type": "code",
   "execution_count": 7,
   "id": "46069d1d",
   "metadata": {},
   "outputs": [
    {
     "data": {
      "text/plain": [
       "label     0\n",
       "review    0\n",
       "dtype: int64"
      ]
     },
     "execution_count": 7,
     "metadata": {},
     "output_type": "execute_result"
    }
   ],
   "source": [
    "df.isnull().sum()"
   ]
  },
  {
   "cell_type": "code",
   "execution_count": 9,
   "id": "30a957fa",
   "metadata": {},
   "outputs": [],
   "source": [
    "%config Completer.use_jedi = False"
   ]
  },
  {
   "cell_type": "code",
   "execution_count": 11,
   "id": "ed184e8d",
   "metadata": {},
   "outputs": [
    {
     "data": {
      "text/html": [
       "<div>\n",
       "<style scoped>\n",
       "    .dataframe tbody tr th:only-of-type {\n",
       "        vertical-align: middle;\n",
       "    }\n",
       "\n",
       "    .dataframe tbody tr th {\n",
       "        vertical-align: top;\n",
       "    }\n",
       "\n",
       "    .dataframe thead th {\n",
       "        text-align: right;\n",
       "    }\n",
       "</style>\n",
       "<table border=\"1\" class=\"dataframe\">\n",
       "  <thead>\n",
       "    <tr style=\"text-align: right;\">\n",
       "      <th></th>\n",
       "      <th>label</th>\n",
       "      <th>review</th>\n",
       "    </tr>\n",
       "  </thead>\n",
       "  <tbody>\n",
       "  </tbody>\n",
       "</table>\n",
       "</div>"
      ],
      "text/plain": [
       "Empty DataFrame\n",
       "Columns: [label, review]\n",
       "Index: []"
      ]
     },
     "execution_count": 11,
     "metadata": {},
     "output_type": "execute_result"
    }
   ],
   "source": [
    "df[df['review'].str.isspace()]"
   ]
  },
  {
   "cell_type": "code",
   "execution_count": 13,
   "id": "c6383856",
   "metadata": {},
   "outputs": [
    {
     "data": {
      "text/plain": [
       "pos    2990\n",
       "neg    2990\n",
       "Name: label, dtype: int64"
      ]
     },
     "execution_count": 13,
     "metadata": {},
     "output_type": "execute_result"
    }
   ],
   "source": [
    "df['label'].value_counts()"
   ]
  },
  {
   "cell_type": "code",
   "execution_count": 14,
   "id": "aa8d3f4c",
   "metadata": {},
   "outputs": [],
   "source": [
    "from sklearn.feature_extraction.text import TfidfVectorizer\n",
    "from sklearn.model_selection import train_test_split"
   ]
  },
  {
   "cell_type": "code",
   "execution_count": 15,
   "id": "62ad7242",
   "metadata": {},
   "outputs": [],
   "source": [
    "X = df['review']\n",
    "y = df['label']"
   ]
  },
  {
   "cell_type": "code",
   "execution_count": 16,
   "id": "1d1a796f",
   "metadata": {},
   "outputs": [],
   "source": [
    "X_train, X_test, y_train, y_test = train_test_split(X, y, test_size=0.2, random_state=42)"
   ]
  },
  {
   "cell_type": "code",
   "execution_count": 17,
   "id": "77fd0119",
   "metadata": {},
   "outputs": [],
   "source": [
    "from sklearn.pipeline import Pipeline"
   ]
  },
  {
   "cell_type": "code",
   "execution_count": 18,
   "id": "d34aa8a5",
   "metadata": {},
   "outputs": [],
   "source": [
    "from sklearn.model_selection import GridSearchCV"
   ]
  },
  {
   "cell_type": "code",
   "execution_count": 19,
   "id": "3d468a34",
   "metadata": {},
   "outputs": [],
   "source": [
    "from sklearn.naive_bayes import MultinomialNB"
   ]
  },
  {
   "cell_type": "code",
   "execution_count": 50,
   "id": "0fd7bbfc",
   "metadata": {},
   "outputs": [],
   "source": [
    "from sklearn.metrics import plot_confusion_matrix, classification_report"
   ]
  },
  {
   "cell_type": "code",
   "execution_count": 98,
   "id": "52c41cec",
   "metadata": {},
   "outputs": [],
   "source": [
    "model = MultinomialNB()"
   ]
  },
  {
   "cell_type": "code",
   "execution_count": 99,
   "id": "6a11cdbe",
   "metadata": {},
   "outputs": [],
   "source": [
    "pipe = Pipeline([('tfidf', TfidfVectorizer()),\n",
    "                 ('clf', model)\n",
    "                ])"
   ]
  },
  {
   "cell_type": "code",
   "execution_count": 100,
   "id": "4c0afc55",
   "metadata": {},
   "outputs": [],
   "source": [
    "param_grid = {'clf__alpha': np.logspace(0,-9,20)}"
   ]
  },
  {
   "cell_type": "code",
   "execution_count": 101,
   "id": "fc148983",
   "metadata": {},
   "outputs": [],
   "source": [
    "grid = GridSearchCV(pipe, param_grid, cv=5, scoring='accuracy')"
   ]
  },
  {
   "cell_type": "code",
   "execution_count": 102,
   "id": "206fafcc",
   "metadata": {},
   "outputs": [
    {
     "data": {
      "text/plain": [
       "GridSearchCV(cv=5,\n",
       "             estimator=Pipeline(steps=[('tfidf', TfidfVectorizer()),\n",
       "                                       ('clf', MultinomialNB())]),\n",
       "             param_grid={'clf__alpha': array([1.00000000e+00, 3.35981829e-01, 1.12883789e-01, 3.79269019e-02,\n",
       "       1.27427499e-02, 4.28133240e-03, 1.43844989e-03, 4.83293024e-04,\n",
       "       1.62377674e-04, 5.45559478e-05, 1.83298071e-05, 6.15848211e-06,\n",
       "       2.06913808e-06, 6.95192796e-07, 2.33572147e-07, 7.84759970e-08,\n",
       "       2.63665090e-08, 8.85866790e-09, 2.97635144e-09, 1.00000000e-09])},\n",
       "             scoring='accuracy')"
      ]
     },
     "execution_count": 102,
     "metadata": {},
     "output_type": "execute_result"
    }
   ],
   "source": [
    "grid.fit(X_train, y_train)"
   ]
  },
  {
   "cell_type": "code",
   "execution_count": 104,
   "id": "9d1bd4b4",
   "metadata": {},
   "outputs": [],
   "source": [
    "# grid.best_estimator_.get_params()"
   ]
  },
  {
   "cell_type": "code",
   "execution_count": 105,
   "id": "d192ef3b",
   "metadata": {},
   "outputs": [],
   "source": [
    "y_preds = grid.predict(X_test)"
   ]
  },
  {
   "cell_type": "code",
   "execution_count": 106,
   "id": "3c644695",
   "metadata": {},
   "outputs": [
    {
     "data": {
      "text/plain": [
       "<sklearn.metrics._plot.confusion_matrix.ConfusionMatrixDisplay at 0x17ab2cfc940>"
      ]
     },
     "execution_count": 106,
     "metadata": {},
     "output_type": "execute_result"
    },
    {
     "data": {
      "image/png": "[encoded data removed]",
      "text/plain": [
       "<Figure size 432x288 with 2 Axes>"
      ]
     },
     "metadata": {
      "needs_background": "light"
     },
     "output_type": "display_data"
    }
   ],
   "source": [
    "plot_confusion_matrix(grid, X_test, y_test)"
   ]
  },
  {
   "cell_type": "code",
   "execution_count": 107,
   "id": "935f885c",
   "metadata": {},
   "outputs": [
    {
     "name": "stdout",
     "output_type": "stream",
     "text": [
      "              precision    recall  f1-score   support\n",
      "\n",
      "         neg       0.91      0.91      0.91       596\n",
      "         pos       0.91      0.91      0.91       600\n",
      "\n",
      "    accuracy                           0.91      1196\n",
      "   macro avg       0.91      0.91      0.91      1196\n",
      "weighted avg       0.91      0.91      0.91      1196\n",
      "\n"
     ]
    }
   ],
   "source": [
    "print(classification_report(y_test, y_preds))"
   ]
  },
  {
   "cell_type": "code",
   "execution_count": 54,
   "id": "5e98f959",
   "metadata": {},
   "outputs": [],
   "source": [
    "from sklearn.linear_model import LogisticRegression"
   ]
  },
  {
   "cell_type": "code",
   "execution_count": 108,
   "id": "c7469d89",
   "metadata": {},
   "outputs": [],
   "source": [
    "model = LogisticRegression()"
   ]
  },
  {
   "cell_type": "code",
   "execution_count": 109,
   "id": "65ffcaea",
   "metadata": {},
   "outputs": [],
   "source": [
    "param_grid = {'clf__penalty': ['l1', 'l2', 'elasticnet'],\n",
    "             'clf__C': [0.001, 0.01, 0.1, 0.5, 1, 10, 100],\n",
    "             'clf__l1_ratio': [0.1, 0.3, 0.5, 0.7, 0.9],\n",
    "             'clf__solver': ['saga'],\n",
    "             'clf__max_iter': [1000]}"
   ]
  },
  {
   "cell_type": "code",
   "execution_count": 112,
   "id": "0d7b616f",
   "metadata": {},
   "outputs": [],
   "source": [
    "pipe = Pipeline([('tfidf', TfidfVectorizer()),\n",
    "                 ('clf', model)\n",
    "                ])"
   ]
  },
  {
   "cell_type": "code",
   "execution_count": 113,
   "id": "51fdac91",
   "metadata": {},
   "outputs": [],
   "source": [
    "grid = GridSearchCV(pipe, param_grid, cv=5, scoring='accuracy')"
   ]
  },
  {
   "cell_type": "code",
   "execution_count": 114,
   "id": "b88aa10d",
   "metadata": {},
   "outputs": [
    {
     "name": "stderr",
     "output_type": "stream",
     "text": [
      "C:\\Users\\kaile\\Anaconda3\\lib\\site-packages\\sklearn\\linear_model\\_logistic.py:1319: UserWarning: l1_ratio parameter is only used when penalty is 'elasticnet'. Got (penalty=l1)\n",
      "  \"(penalty={})\".format(self.penalty))\n",
      "C:\\Users\\kaile\\Anaconda3\\lib\\site-packages\\sklearn\\linear_model\\_logistic.py:1319: UserWarning: l1_ratio parameter is only used when penalty is 'elasticnet'. Got (penalty=l1)\n",
      "  \"(penalty={})\".format(self.penalty))\n",
      "C:\\Users\\kaile\\Anaconda3\\lib\\site-packages\\sklearn\\linear_model\\_logistic.py:1319: UserWarning: l1_ratio parameter is only used when penalty is 'elasticnet'. Got (penalty=l1)\n",
      "  \"(penalty={})\".format(self.penalty))\n",
      "C:\\Users\\kaile\\Anaconda3\\lib\\site-packages\\sklearn\\linear_model\\_logistic.py:1319: UserWarning: l1_ratio parameter is only used when penalty is 'elasticnet'. Got (penalty=l1)\n",
      "  \"(penalty={})\".format(self.penalty))\n",
      "C:\\Users\\kaile\\Anaconda3\\lib\\site-packages\\sklearn\\linear_model\\_logistic.py:1319: UserWarning: l1_ratio parameter is only used when penalty is 'elasticnet'. Got (penalty=l1)\n",
      "  \"(penalty={})\".format(self.penalty))\n",
      "C:\\Users\\kaile\\Anaconda3\\lib\\site-packages\\sklearn\\linear_model\\_logistic.py:1319: UserWarning: l1_ratio parameter is only used when penalty is 'elasticnet'. Got (penalty=l2)\n",
      "  \"(penalty={})\".format(self.penalty))\n",
      "C:\\Users\\kaile\\Anaconda3\\lib\\site-packages\\sklearn\\linear_model\\_logistic.py:1319: UserWarning: l1_ratio parameter is only used when penalty is 'elasticnet'. Got (penalty=l2)\n",
      "  \"(penalty={})\".format(self.penalty))\n",
      "C:\\Users\\kaile\\Anaconda3\\lib\\site-packages\\sklearn\\linear_model\\_logistic.py:1319: UserWarning: l1_ratio parameter is only used when penalty is 'elasticnet'. Got (penalty=l2)\n",
      "  \"(penalty={})\".format(self.penalty))\n",
      "C:\\Users\\kaile\\Anaconda3\\lib\\site-packages\\sklearn\\linear_model\\_logistic.py:1319: UserWarning: l1_ratio parameter is only used when penalty is 'elasticnet'. Got (penalty=l2)\n",
      "  \"(penalty={})\".format(self.penalty))\n",
      "C:\\Users\\kaile\\Anaconda3\\lib\\site-packages\\sklearn\\linear_model\\_logistic.py:1319: UserWarning: l1_ratio parameter is only used when penalty is 'elasticnet'. Got (penalty=l2)\n",
      "  \"(penalty={})\".format(self.penalty))\n",
      "C:\\Users\\kaile\\Anaconda3\\lib\\site-packages\\sklearn\\linear_model\\_logistic.py:1319: UserWarning: l1_ratio parameter is only used when penalty is 'elasticnet'. Got (penalty=l1)\n",
      "  \"(penalty={})\".format(self.penalty))\n",
      "C:\\Users\\kaile\\Anaconda3\\lib\\site-packages\\sklearn\\linear_model\\_logistic.py:1319: UserWarning: l1_ratio parameter is only used when penalty is 'elasticnet'. Got (penalty=l1)\n",
      "  \"(penalty={})\".format(self.penalty))\n",
      "C:\\Users\\kaile\\Anaconda3\\lib\\site-packages\\sklearn\\linear_model\\_logistic.py:1319: UserWarning: l1_ratio parameter is only used when penalty is 'elasticnet'. Got (penalty=l1)\n",
      "  \"(penalty={})\".format(self.penalty))\n",
      "C:\\Users\\kaile\\Anaconda3\\lib\\site-packages\\sklearn\\linear_model\\_logistic.py:1319: UserWarning: l1_ratio parameter is only used when penalty is 'elasticnet'. Got (penalty=l1)\n",
      "  \"(penalty={})\".format(self.penalty))\n",
      "C:\\Users\\kaile\\Anaconda3\\lib\\site-packages\\sklearn\\linear_model\\_logistic.py:1319: UserWarning: l1_ratio parameter is only used when penalty is 'elasticnet'. Got (penalty=l1)\n",
      "  \"(penalty={})\".format(self.penalty))\n",
      "C:\\Users\\kaile\\Anaconda3\\lib\\site-packages\\sklearn\\linear_model\\_logistic.py:1319: UserWarning: l1_ratio parameter is only used when penalty is 'elasticnet'. Got (penalty=l2)\n",
      "  \"(penalty={})\".format(self.penalty))\n",
      "C:\\Users\\kaile\\Anaconda3\\lib\\site-packages\\sklearn\\linear_model\\_logistic.py:1319: UserWarning: l1_ratio parameter is only used when penalty is 'elasticnet'. Got (penalty=l2)\n",
      "  \"(penalty={})\".format(self.penalty))\n",
      "C:\\Users\\kaile\\Anaconda3\\lib\\site-packages\\sklearn\\linear_model\\_logistic.py:1319: UserWarning: l1_ratio parameter is only used when penalty is 'elasticnet'. Got (penalty=l2)\n",
      "  \"(penalty={})\".format(self.penalty))\n",
      "C:\\Users\\kaile\\Anaconda3\\lib\\site-packages\\sklearn\\linear_model\\_logistic.py:1319: UserWarning: l1_ratio parameter is only used when penalty is 'elasticnet'. Got (penalty=l2)\n",
      "  \"(penalty={})\".format(self.penalty))\n",
      "C:\\Users\\kaile\\Anaconda3\\lib\\site-packages\\sklearn\\linear_model\\_logistic.py:1319: UserWarning: l1_ratio parameter is only used when penalty is 'elasticnet'. Got (penalty=l2)\n",
      "  \"(penalty={})\".format(self.penalty))\n",
      "C:\\Users\\kaile\\Anaconda3\\lib\\site-packages\\sklearn\\linear_model\\_logistic.py:1319: UserWarning: l1_ratio parameter is only used when penalty is 'elasticnet'. Got (penalty=l1)\n",
      "  \"(penalty={})\".format(self.penalty))\n",
      "C:\\Users\\kaile\\Anaconda3\\lib\\site-packages\\sklearn\\linear_model\\_logistic.py:1319: UserWarning: l1_ratio parameter is only used when penalty is 'elasticnet'. Got (penalty=l1)\n",
      "  \"(penalty={})\".format(self.penalty))\n",
      "C:\\Users\\kaile\\Anaconda3\\lib\\site-packages\\sklearn\\linear_model\\_logistic.py:1319: UserWarning: l1_ratio parameter is only used when penalty is 'elasticnet'. Got (penalty=l1)\n",
      "  \"(penalty={})\".format(self.penalty))\n",
      "C:\\Users\\kaile\\Anaconda3\\lib\\site-packages\\sklearn\\linear_model\\_logistic.py:1319: UserWarning: l1_ratio parameter is only used when penalty is 'elasticnet'. Got (penalty=l1)\n",
      "  \"(penalty={})\".format(self.penalty))\n",
      "C:\\Users\\kaile\\Anaconda3\\lib\\site-packages\\sklearn\\linear_model\\_logistic.py:1319: UserWarning: l1_ratio parameter is only used when penalty is 'elasticnet'. Got (penalty=l1)\n",
      "  \"(penalty={})\".format(self.penalty))\n",
      "C:\\Users\\kaile\\Anaconda3\\lib\\site-packages\\sklearn\\linear_model\\_logistic.py:1319: UserWarning: l1_ratio parameter is only used when penalty is 'elasticnet'. Got (penalty=l2)\n",
      "  \"(penalty={})\".format(self.penalty))\n",
      "C:\\Users\\kaile\\Anaconda3\\lib\\site-packages\\sklearn\\linear_model\\_logistic.py:1319: UserWarning: l1_ratio parameter is only used when penalty is 'elasticnet'. Got (penalty=l2)\n",
      "  \"(penalty={})\".format(self.penalty))\n",
      "C:\\Users\\kaile\\Anaconda3\\lib\\site-packages\\sklearn\\linear_model\\_logistic.py:1319: UserWarning: l1_ratio parameter is only used when penalty is 'elasticnet'. Got (penalty=l2)\n",
      "  \"(penalty={})\".format(self.penalty))\n",
      "C:\\Users\\kaile\\Anaconda3\\lib\\site-packages\\sklearn\\linear_model\\_logistic.py:1319: UserWarning: l1_ratio parameter is only used when penalty is 'elasticnet'. Got (penalty=l2)\n",
      "  \"(penalty={})\".format(self.penalty))\n",
      "C:\\Users\\kaile\\Anaconda3\\lib\\site-packages\\sklearn\\linear_model\\_logistic.py:1319: UserWarning: l1_ratio parameter is only used when penalty is 'elasticnet'. Got (penalty=l2)\n",
      "  \"(penalty={})\".format(self.penalty))\n",
      "C:\\Users\\kaile\\Anaconda3\\lib\\site-packages\\sklearn\\linear_model\\_logistic.py:1319: UserWarning: l1_ratio parameter is only used when penalty is 'elasticnet'. Got (penalty=l1)\n",
      "  \"(penalty={})\".format(self.penalty))\n",
      "C:\\Users\\kaile\\Anaconda3\\lib\\site-packages\\sklearn\\linear_model\\_logistic.py:1319: UserWarning: l1_ratio parameter is only used when penalty is 'elasticnet'. Got (penalty=l1)\n",
      "  \"(penalty={})\".format(self.penalty))\n",
      "C:\\Users\\kaile\\Anaconda3\\lib\\site-packages\\sklearn\\linear_model\\_logistic.py:1319: UserWarning: l1_ratio parameter is only used when penalty is 'elasticnet'. Got (penalty=l1)\n",
      "  \"(penalty={})\".format(self.penalty))\n",
      "C:\\Users\\kaile\\Anaconda3\\lib\\site-packages\\sklearn\\linear_model\\_logistic.py:1319: UserWarning: l1_ratio parameter is only used when penalty is 'elasticnet'. Got (penalty=l1)\n",
      "  \"(penalty={})\".format(self.penalty))\n",
      "C:\\Users\\kaile\\Anaconda3\\lib\\site-packages\\sklearn\\linear_model\\_logistic.py:1319: UserWarning: l1_ratio parameter is only used when penalty is 'elasticnet'. Got (penalty=l1)\n",
      "  \"(penalty={})\".format(self.penalty))\n",
      "C:\\Users\\kaile\\Anaconda3\\lib\\site-packages\\sklearn\\linear_model\\_logistic.py:1319: UserWarning: l1_ratio parameter is only used when penalty is 'elasticnet'. Got (penalty=l2)\n",
      "  \"(penalty={})\".format(self.penalty))\n",
      "C:\\Users\\kaile\\Anaconda3\\lib\\site-packages\\sklearn\\linear_model\\_logistic.py:1319: UserWarning: l1_ratio parameter is only used when penalty is 'elasticnet'. Got (penalty=l2)\n",
      "  \"(penalty={})\".format(self.penalty))\n",
      "C:\\Users\\kaile\\Anaconda3\\lib\\site-packages\\sklearn\\linear_model\\_logistic.py:1319: UserWarning: l1_ratio parameter is only used when penalty is 'elasticnet'. Got (penalty=l2)\n",
      "  \"(penalty={})\".format(self.penalty))\n",
      "C:\\Users\\kaile\\Anaconda3\\lib\\site-packages\\sklearn\\linear_model\\_logistic.py:1319: UserWarning: l1_ratio parameter is only used when penalty is 'elasticnet'. Got (penalty=l2)\n",
      "  \"(penalty={})\".format(self.penalty))\n"
     ]
    },
    {
     "name": "stderr",
     "output_type": "stream",
     "text": [
      "C:\\Users\\kaile\\Anaconda3\\lib\\site-packages\\sklearn\\linear_model\\_logistic.py:1319: UserWarning: l1_ratio parameter is only used when penalty is 'elasticnet'. Got (penalty=l2)\n",
      "  \"(penalty={})\".format(self.penalty))\n",
      "C:\\Users\\kaile\\Anaconda3\\lib\\site-packages\\sklearn\\linear_model\\_logistic.py:1319: UserWarning: l1_ratio parameter is only used when penalty is 'elasticnet'. Got (penalty=l1)\n",
      "  \"(penalty={})\".format(self.penalty))\n",
      "C:\\Users\\kaile\\Anaconda3\\lib\\site-packages\\sklearn\\linear_model\\_logistic.py:1319: UserWarning: l1_ratio parameter is only used when penalty is 'elasticnet'. Got (penalty=l1)\n",
      "  \"(penalty={})\".format(self.penalty))\n",
      "C:\\Users\\kaile\\Anaconda3\\lib\\site-packages\\sklearn\\linear_model\\_logistic.py:1319: UserWarning: l1_ratio parameter is only used when penalty is 'elasticnet'. Got (penalty=l1)\n",
      "  \"(penalty={})\".format(self.penalty))\n",
      "C:\\Users\\kaile\\Anaconda3\\lib\\site-packages\\sklearn\\linear_model\\_logistic.py:1319: UserWarning: l1_ratio parameter is only used when penalty is 'elasticnet'. Got (penalty=l1)\n",
      "  \"(penalty={})\".format(self.penalty))\n",
      "C:\\Users\\kaile\\Anaconda3\\lib\\site-packages\\sklearn\\linear_model\\_logistic.py:1319: UserWarning: l1_ratio parameter is only used when penalty is 'elasticnet'. Got (penalty=l1)\n",
      "  \"(penalty={})\".format(self.penalty))\n",
      "C:\\Users\\kaile\\Anaconda3\\lib\\site-packages\\sklearn\\linear_model\\_logistic.py:1319: UserWarning: l1_ratio parameter is only used when penalty is 'elasticnet'. Got (penalty=l2)\n",
      "  \"(penalty={})\".format(self.penalty))\n",
      "C:\\Users\\kaile\\Anaconda3\\lib\\site-packages\\sklearn\\linear_model\\_logistic.py:1319: UserWarning: l1_ratio parameter is only used when penalty is 'elasticnet'. Got (penalty=l2)\n",
      "  \"(penalty={})\".format(self.penalty))\n",
      "C:\\Users\\kaile\\Anaconda3\\lib\\site-packages\\sklearn\\linear_model\\_logistic.py:1319: UserWarning: l1_ratio parameter is only used when penalty is 'elasticnet'. Got (penalty=l2)\n",
      "  \"(penalty={})\".format(self.penalty))\n",
      "C:\\Users\\kaile\\Anaconda3\\lib\\site-packages\\sklearn\\linear_model\\_logistic.py:1319: UserWarning: l1_ratio parameter is only used when penalty is 'elasticnet'. Got (penalty=l2)\n",
      "  \"(penalty={})\".format(self.penalty))\n",
      "C:\\Users\\kaile\\Anaconda3\\lib\\site-packages\\sklearn\\linear_model\\_logistic.py:1319: UserWarning: l1_ratio parameter is only used when penalty is 'elasticnet'. Got (penalty=l2)\n",
      "  \"(penalty={})\".format(self.penalty))\n",
      "C:\\Users\\kaile\\Anaconda3\\lib\\site-packages\\sklearn\\linear_model\\_logistic.py:1319: UserWarning: l1_ratio parameter is only used when penalty is 'elasticnet'. Got (penalty=l1)\n",
      "  \"(penalty={})\".format(self.penalty))\n",
      "C:\\Users\\kaile\\Anaconda3\\lib\\site-packages\\sklearn\\linear_model\\_logistic.py:1319: UserWarning: l1_ratio parameter is only used when penalty is 'elasticnet'. Got (penalty=l1)\n",
      "  \"(penalty={})\".format(self.penalty))\n",
      "C:\\Users\\kaile\\Anaconda3\\lib\\site-packages\\sklearn\\linear_model\\_logistic.py:1319: UserWarning: l1_ratio parameter is only used when penalty is 'elasticnet'. Got (penalty=l1)\n",
      "  \"(penalty={})\".format(self.penalty))\n",
      "C:\\Users\\kaile\\Anaconda3\\lib\\site-packages\\sklearn\\linear_model\\_logistic.py:1319: UserWarning: l1_ratio parameter is only used when penalty is 'elasticnet'. Got (penalty=l1)\n",
      "  \"(penalty={})\".format(self.penalty))\n",
      "C:\\Users\\kaile\\Anaconda3\\lib\\site-packages\\sklearn\\linear_model\\_logistic.py:1319: UserWarning: l1_ratio parameter is only used when penalty is 'elasticnet'. Got (penalty=l1)\n",
      "  \"(penalty={})\".format(self.penalty))\n",
      "C:\\Users\\kaile\\Anaconda3\\lib\\site-packages\\sklearn\\linear_model\\_logistic.py:1319: UserWarning: l1_ratio parameter is only used when penalty is 'elasticnet'. Got (penalty=l2)\n",
      "  \"(penalty={})\".format(self.penalty))\n",
      "C:\\Users\\kaile\\Anaconda3\\lib\\site-packages\\sklearn\\linear_model\\_logistic.py:1319: UserWarning: l1_ratio parameter is only used when penalty is 'elasticnet'. Got (penalty=l2)\n",
      "  \"(penalty={})\".format(self.penalty))\n",
      "C:\\Users\\kaile\\Anaconda3\\lib\\site-packages\\sklearn\\linear_model\\_logistic.py:1319: UserWarning: l1_ratio parameter is only used when penalty is 'elasticnet'. Got (penalty=l2)\n",
      "  \"(penalty={})\".format(self.penalty))\n",
      "C:\\Users\\kaile\\Anaconda3\\lib\\site-packages\\sklearn\\linear_model\\_logistic.py:1319: UserWarning: l1_ratio parameter is only used when penalty is 'elasticnet'. Got (penalty=l2)\n",
      "  \"(penalty={})\".format(self.penalty))\n",
      "C:\\Users\\kaile\\Anaconda3\\lib\\site-packages\\sklearn\\linear_model\\_logistic.py:1319: UserWarning: l1_ratio parameter is only used when penalty is 'elasticnet'. Got (penalty=l2)\n",
      "  \"(penalty={})\".format(self.penalty))\n",
      "C:\\Users\\kaile\\Anaconda3\\lib\\site-packages\\sklearn\\linear_model\\_logistic.py:1319: UserWarning: l1_ratio parameter is only used when penalty is 'elasticnet'. Got (penalty=l1)\n",
      "  \"(penalty={})\".format(self.penalty))\n",
      "C:\\Users\\kaile\\Anaconda3\\lib\\site-packages\\sklearn\\linear_model\\_logistic.py:1319: UserWarning: l1_ratio parameter is only used when penalty is 'elasticnet'. Got (penalty=l1)\n",
      "  \"(penalty={})\".format(self.penalty))\n",
      "C:\\Users\\kaile\\Anaconda3\\lib\\site-packages\\sklearn\\linear_model\\_logistic.py:1319: UserWarning: l1_ratio parameter is only used when penalty is 'elasticnet'. Got (penalty=l1)\n",
      "  \"(penalty={})\".format(self.penalty))\n",
      "C:\\Users\\kaile\\Anaconda3\\lib\\site-packages\\sklearn\\linear_model\\_logistic.py:1319: UserWarning: l1_ratio parameter is only used when penalty is 'elasticnet'. Got (penalty=l1)\n",
      "  \"(penalty={})\".format(self.penalty))\n",
      "C:\\Users\\kaile\\Anaconda3\\lib\\site-packages\\sklearn\\linear_model\\_logistic.py:1319: UserWarning: l1_ratio parameter is only used when penalty is 'elasticnet'. Got (penalty=l1)\n",
      "  \"(penalty={})\".format(self.penalty))\n",
      "C:\\Users\\kaile\\Anaconda3\\lib\\site-packages\\sklearn\\linear_model\\_logistic.py:1319: UserWarning: l1_ratio parameter is only used when penalty is 'elasticnet'. Got (penalty=l2)\n",
      "  \"(penalty={})\".format(self.penalty))\n",
      "C:\\Users\\kaile\\Anaconda3\\lib\\site-packages\\sklearn\\linear_model\\_logistic.py:1319: UserWarning: l1_ratio parameter is only used when penalty is 'elasticnet'. Got (penalty=l2)\n",
      "  \"(penalty={})\".format(self.penalty))\n",
      "C:\\Users\\kaile\\Anaconda3\\lib\\site-packages\\sklearn\\linear_model\\_logistic.py:1319: UserWarning: l1_ratio parameter is only used when penalty is 'elasticnet'. Got (penalty=l2)\n",
      "  \"(penalty={})\".format(self.penalty))\n",
      "C:\\Users\\kaile\\Anaconda3\\lib\\site-packages\\sklearn\\linear_model\\_logistic.py:1319: UserWarning: l1_ratio parameter is only used when penalty is 'elasticnet'. Got (penalty=l2)\n",
      "  \"(penalty={})\".format(self.penalty))\n",
      "C:\\Users\\kaile\\Anaconda3\\lib\\site-packages\\sklearn\\linear_model\\_logistic.py:1319: UserWarning: l1_ratio parameter is only used when penalty is 'elasticnet'. Got (penalty=l2)\n",
      "  \"(penalty={})\".format(self.penalty))\n",
      "C:\\Users\\kaile\\Anaconda3\\lib\\site-packages\\sklearn\\linear_model\\_logistic.py:1319: UserWarning: l1_ratio parameter is only used when penalty is 'elasticnet'. Got (penalty=l1)\n",
      "  \"(penalty={})\".format(self.penalty))\n",
      "C:\\Users\\kaile\\Anaconda3\\lib\\site-packages\\sklearn\\linear_model\\_logistic.py:1319: UserWarning: l1_ratio parameter is only used when penalty is 'elasticnet'. Got (penalty=l1)\n",
      "  \"(penalty={})\".format(self.penalty))\n",
      "C:\\Users\\kaile\\Anaconda3\\lib\\site-packages\\sklearn\\linear_model\\_logistic.py:1319: UserWarning: l1_ratio parameter is only used when penalty is 'elasticnet'. Got (penalty=l1)\n",
      "  \"(penalty={})\".format(self.penalty))\n",
      "C:\\Users\\kaile\\Anaconda3\\lib\\site-packages\\sklearn\\linear_model\\_logistic.py:1319: UserWarning: l1_ratio parameter is only used when penalty is 'elasticnet'. Got (penalty=l1)\n",
      "  \"(penalty={})\".format(self.penalty))\n",
      "C:\\Users\\kaile\\Anaconda3\\lib\\site-packages\\sklearn\\linear_model\\_logistic.py:1319: UserWarning: l1_ratio parameter is only used when penalty is 'elasticnet'. Got (penalty=l1)\n",
      "  \"(penalty={})\".format(self.penalty))\n",
      "C:\\Users\\kaile\\Anaconda3\\lib\\site-packages\\sklearn\\linear_model\\_logistic.py:1319: UserWarning: l1_ratio parameter is only used when penalty is 'elasticnet'. Got (penalty=l2)\n",
      "  \"(penalty={})\".format(self.penalty))\n",
      "C:\\Users\\kaile\\Anaconda3\\lib\\site-packages\\sklearn\\linear_model\\_logistic.py:1319: UserWarning: l1_ratio parameter is only used when penalty is 'elasticnet'. Got (penalty=l2)\n",
      "  \"(penalty={})\".format(self.penalty))\n",
      "C:\\Users\\kaile\\Anaconda3\\lib\\site-packages\\sklearn\\linear_model\\_logistic.py:1319: UserWarning: l1_ratio parameter is only used when penalty is 'elasticnet'. Got (penalty=l2)\n",
      "  \"(penalty={})\".format(self.penalty))\n"
     ]
    },
    {
     "name": "stderr",
     "output_type": "stream",
     "text": [
      "C:\\Users\\kaile\\Anaconda3\\lib\\site-packages\\sklearn\\linear_model\\_logistic.py:1319: UserWarning: l1_ratio parameter is only used when penalty is 'elasticnet'. Got (penalty=l2)\n",
      "  \"(penalty={})\".format(self.penalty))\n",
      "C:\\Users\\kaile\\Anaconda3\\lib\\site-packages\\sklearn\\linear_model\\_logistic.py:1319: UserWarning: l1_ratio parameter is only used when penalty is 'elasticnet'. Got (penalty=l2)\n",
      "  \"(penalty={})\".format(self.penalty))\n",
      "C:\\Users\\kaile\\Anaconda3\\lib\\site-packages\\sklearn\\linear_model\\_logistic.py:1319: UserWarning: l1_ratio parameter is only used when penalty is 'elasticnet'. Got (penalty=l1)\n",
      "  \"(penalty={})\".format(self.penalty))\n",
      "C:\\Users\\kaile\\Anaconda3\\lib\\site-packages\\sklearn\\linear_model\\_logistic.py:1319: UserWarning: l1_ratio parameter is only used when penalty is 'elasticnet'. Got (penalty=l1)\n",
      "  \"(penalty={})\".format(self.penalty))\n",
      "C:\\Users\\kaile\\Anaconda3\\lib\\site-packages\\sklearn\\linear_model\\_logistic.py:1319: UserWarning: l1_ratio parameter is only used when penalty is 'elasticnet'. Got (penalty=l1)\n",
      "  \"(penalty={})\".format(self.penalty))\n",
      "C:\\Users\\kaile\\Anaconda3\\lib\\site-packages\\sklearn\\linear_model\\_logistic.py:1319: UserWarning: l1_ratio parameter is only used when penalty is 'elasticnet'. Got (penalty=l1)\n",
      "  \"(penalty={})\".format(self.penalty))\n",
      "C:\\Users\\kaile\\Anaconda3\\lib\\site-packages\\sklearn\\linear_model\\_logistic.py:1319: UserWarning: l1_ratio parameter is only used when penalty is 'elasticnet'. Got (penalty=l1)\n",
      "  \"(penalty={})\".format(self.penalty))\n",
      "C:\\Users\\kaile\\Anaconda3\\lib\\site-packages\\sklearn\\linear_model\\_logistic.py:1319: UserWarning: l1_ratio parameter is only used when penalty is 'elasticnet'. Got (penalty=l2)\n",
      "  \"(penalty={})\".format(self.penalty))\n",
      "C:\\Users\\kaile\\Anaconda3\\lib\\site-packages\\sklearn\\linear_model\\_logistic.py:1319: UserWarning: l1_ratio parameter is only used when penalty is 'elasticnet'. Got (penalty=l2)\n",
      "  \"(penalty={})\".format(self.penalty))\n",
      "C:\\Users\\kaile\\Anaconda3\\lib\\site-packages\\sklearn\\linear_model\\_logistic.py:1319: UserWarning: l1_ratio parameter is only used when penalty is 'elasticnet'. Got (penalty=l2)\n",
      "  \"(penalty={})\".format(self.penalty))\n",
      "C:\\Users\\kaile\\Anaconda3\\lib\\site-packages\\sklearn\\linear_model\\_logistic.py:1319: UserWarning: l1_ratio parameter is only used when penalty is 'elasticnet'. Got (penalty=l2)\n",
      "  \"(penalty={})\".format(self.penalty))\n",
      "C:\\Users\\kaile\\Anaconda3\\lib\\site-packages\\sklearn\\linear_model\\_logistic.py:1319: UserWarning: l1_ratio parameter is only used when penalty is 'elasticnet'. Got (penalty=l2)\n",
      "  \"(penalty={})\".format(self.penalty))\n",
      "C:\\Users\\kaile\\Anaconda3\\lib\\site-packages\\sklearn\\linear_model\\_logistic.py:1319: UserWarning: l1_ratio parameter is only used when penalty is 'elasticnet'. Got (penalty=l1)\n",
      "  \"(penalty={})\".format(self.penalty))\n",
      "C:\\Users\\kaile\\Anaconda3\\lib\\site-packages\\sklearn\\linear_model\\_logistic.py:1319: UserWarning: l1_ratio parameter is only used when penalty is 'elasticnet'. Got (penalty=l1)\n",
      "  \"(penalty={})\".format(self.penalty))\n",
      "C:\\Users\\kaile\\Anaconda3\\lib\\site-packages\\sklearn\\linear_model\\_logistic.py:1319: UserWarning: l1_ratio parameter is only used when penalty is 'elasticnet'. Got (penalty=l1)\n",
      "  \"(penalty={})\".format(self.penalty))\n",
      "C:\\Users\\kaile\\Anaconda3\\lib\\site-packages\\sklearn\\linear_model\\_logistic.py:1319: UserWarning: l1_ratio parameter is only used when penalty is 'elasticnet'. Got (penalty=l1)\n",
      "  \"(penalty={})\".format(self.penalty))\n",
      "C:\\Users\\kaile\\Anaconda3\\lib\\site-packages\\sklearn\\linear_model\\_logistic.py:1319: UserWarning: l1_ratio parameter is only used when penalty is 'elasticnet'. Got (penalty=l1)\n",
      "  \"(penalty={})\".format(self.penalty))\n",
      "C:\\Users\\kaile\\Anaconda3\\lib\\site-packages\\sklearn\\linear_model\\_logistic.py:1319: UserWarning: l1_ratio parameter is only used when penalty is 'elasticnet'. Got (penalty=l2)\n",
      "  \"(penalty={})\".format(self.penalty))\n",
      "C:\\Users\\kaile\\Anaconda3\\lib\\site-packages\\sklearn\\linear_model\\_logistic.py:1319: UserWarning: l1_ratio parameter is only used when penalty is 'elasticnet'. Got (penalty=l2)\n",
      "  \"(penalty={})\".format(self.penalty))\n",
      "C:\\Users\\kaile\\Anaconda3\\lib\\site-packages\\sklearn\\linear_model\\_logistic.py:1319: UserWarning: l1_ratio parameter is only used when penalty is 'elasticnet'. Got (penalty=l2)\n",
      "  \"(penalty={})\".format(self.penalty))\n",
      "C:\\Users\\kaile\\Anaconda3\\lib\\site-packages\\sklearn\\linear_model\\_logistic.py:1319: UserWarning: l1_ratio parameter is only used when penalty is 'elasticnet'. Got (penalty=l2)\n",
      "  \"(penalty={})\".format(self.penalty))\n",
      "C:\\Users\\kaile\\Anaconda3\\lib\\site-packages\\sklearn\\linear_model\\_logistic.py:1319: UserWarning: l1_ratio parameter is only used when penalty is 'elasticnet'. Got (penalty=l2)\n",
      "  \"(penalty={})\".format(self.penalty))\n",
      "C:\\Users\\kaile\\Anaconda3\\lib\\site-packages\\sklearn\\linear_model\\_logistic.py:1319: UserWarning: l1_ratio parameter is only used when penalty is 'elasticnet'. Got (penalty=l1)\n",
      "  \"(penalty={})\".format(self.penalty))\n",
      "C:\\Users\\kaile\\Anaconda3\\lib\\site-packages\\sklearn\\linear_model\\_logistic.py:1319: UserWarning: l1_ratio parameter is only used when penalty is 'elasticnet'. Got (penalty=l1)\n",
      "  \"(penalty={})\".format(self.penalty))\n",
      "C:\\Users\\kaile\\Anaconda3\\lib\\site-packages\\sklearn\\linear_model\\_logistic.py:1319: UserWarning: l1_ratio parameter is only used when penalty is 'elasticnet'. Got (penalty=l1)\n",
      "  \"(penalty={})\".format(self.penalty))\n",
      "C:\\Users\\kaile\\Anaconda3\\lib\\site-packages\\sklearn\\linear_model\\_logistic.py:1319: UserWarning: l1_ratio parameter is only used when penalty is 'elasticnet'. Got (penalty=l1)\n",
      "  \"(penalty={})\".format(self.penalty))\n",
      "C:\\Users\\kaile\\Anaconda3\\lib\\site-packages\\sklearn\\linear_model\\_logistic.py:1319: UserWarning: l1_ratio parameter is only used when penalty is 'elasticnet'. Got (penalty=l1)\n",
      "  \"(penalty={})\".format(self.penalty))\n",
      "C:\\Users\\kaile\\Anaconda3\\lib\\site-packages\\sklearn\\linear_model\\_logistic.py:1319: UserWarning: l1_ratio parameter is only used when penalty is 'elasticnet'. Got (penalty=l2)\n",
      "  \"(penalty={})\".format(self.penalty))\n",
      "C:\\Users\\kaile\\Anaconda3\\lib\\site-packages\\sklearn\\linear_model\\_logistic.py:1319: UserWarning: l1_ratio parameter is only used when penalty is 'elasticnet'. Got (penalty=l2)\n",
      "  \"(penalty={})\".format(self.penalty))\n",
      "C:\\Users\\kaile\\Anaconda3\\lib\\site-packages\\sklearn\\linear_model\\_logistic.py:1319: UserWarning: l1_ratio parameter is only used when penalty is 'elasticnet'. Got (penalty=l2)\n",
      "  \"(penalty={})\".format(self.penalty))\n",
      "C:\\Users\\kaile\\Anaconda3\\lib\\site-packages\\sklearn\\linear_model\\_logistic.py:1319: UserWarning: l1_ratio parameter is only used when penalty is 'elasticnet'. Got (penalty=l2)\n",
      "  \"(penalty={})\".format(self.penalty))\n",
      "C:\\Users\\kaile\\Anaconda3\\lib\\site-packages\\sklearn\\linear_model\\_logistic.py:1319: UserWarning: l1_ratio parameter is only used when penalty is 'elasticnet'. Got (penalty=l2)\n",
      "  \"(penalty={})\".format(self.penalty))\n",
      "C:\\Users\\kaile\\Anaconda3\\lib\\site-packages\\sklearn\\linear_model\\_logistic.py:1319: UserWarning: l1_ratio parameter is only used when penalty is 'elasticnet'. Got (penalty=l1)\n",
      "  \"(penalty={})\".format(self.penalty))\n",
      "C:\\Users\\kaile\\Anaconda3\\lib\\site-packages\\sklearn\\linear_model\\_logistic.py:1319: UserWarning: l1_ratio parameter is only used when penalty is 'elasticnet'. Got (penalty=l1)\n",
      "  \"(penalty={})\".format(self.penalty))\n",
      "C:\\Users\\kaile\\Anaconda3\\lib\\site-packages\\sklearn\\linear_model\\_logistic.py:1319: UserWarning: l1_ratio parameter is only used when penalty is 'elasticnet'. Got (penalty=l1)\n",
      "  \"(penalty={})\".format(self.penalty))\n",
      "C:\\Users\\kaile\\Anaconda3\\lib\\site-packages\\sklearn\\linear_model\\_logistic.py:1319: UserWarning: l1_ratio parameter is only used when penalty is 'elasticnet'. Got (penalty=l1)\n",
      "  \"(penalty={})\".format(self.penalty))\n",
      "C:\\Users\\kaile\\Anaconda3\\lib\\site-packages\\sklearn\\linear_model\\_logistic.py:1319: UserWarning: l1_ratio parameter is only used when penalty is 'elasticnet'. Got (penalty=l1)\n",
      "  \"(penalty={})\".format(self.penalty))\n",
      "C:\\Users\\kaile\\Anaconda3\\lib\\site-packages\\sklearn\\linear_model\\_logistic.py:1319: UserWarning: l1_ratio parameter is only used when penalty is 'elasticnet'. Got (penalty=l2)\n",
      "  \"(penalty={})\".format(self.penalty))\n",
      "C:\\Users\\kaile\\Anaconda3\\lib\\site-packages\\sklearn\\linear_model\\_logistic.py:1319: UserWarning: l1_ratio parameter is only used when penalty is 'elasticnet'. Got (penalty=l2)\n",
      "  \"(penalty={})\".format(self.penalty))\n"
     ]
    },
    {
     "name": "stderr",
     "output_type": "stream",
     "text": [
      "C:\\Users\\kaile\\Anaconda3\\lib\\site-packages\\sklearn\\linear_model\\_logistic.py:1319: UserWarning: l1_ratio parameter is only used when penalty is 'elasticnet'. Got (penalty=l2)\n",
      "  \"(penalty={})\".format(self.penalty))\n",
      "C:\\Users\\kaile\\Anaconda3\\lib\\site-packages\\sklearn\\linear_model\\_logistic.py:1319: UserWarning: l1_ratio parameter is only used when penalty is 'elasticnet'. Got (penalty=l2)\n",
      "  \"(penalty={})\".format(self.penalty))\n",
      "C:\\Users\\kaile\\Anaconda3\\lib\\site-packages\\sklearn\\linear_model\\_logistic.py:1319: UserWarning: l1_ratio parameter is only used when penalty is 'elasticnet'. Got (penalty=l2)\n",
      "  \"(penalty={})\".format(self.penalty))\n",
      "C:\\Users\\kaile\\Anaconda3\\lib\\site-packages\\sklearn\\linear_model\\_logistic.py:1319: UserWarning: l1_ratio parameter is only used when penalty is 'elasticnet'. Got (penalty=l1)\n",
      "  \"(penalty={})\".format(self.penalty))\n",
      "C:\\Users\\kaile\\Anaconda3\\lib\\site-packages\\sklearn\\linear_model\\_logistic.py:1319: UserWarning: l1_ratio parameter is only used when penalty is 'elasticnet'. Got (penalty=l1)\n",
      "  \"(penalty={})\".format(self.penalty))\n",
      "C:\\Users\\kaile\\Anaconda3\\lib\\site-packages\\sklearn\\linear_model\\_logistic.py:1319: UserWarning: l1_ratio parameter is only used when penalty is 'elasticnet'. Got (penalty=l1)\n",
      "  \"(penalty={})\".format(self.penalty))\n",
      "C:\\Users\\kaile\\Anaconda3\\lib\\site-packages\\sklearn\\linear_model\\_logistic.py:1319: UserWarning: l1_ratio parameter is only used when penalty is 'elasticnet'. Got (penalty=l1)\n",
      "  \"(penalty={})\".format(self.penalty))\n",
      "C:\\Users\\kaile\\Anaconda3\\lib\\site-packages\\sklearn\\linear_model\\_logistic.py:1319: UserWarning: l1_ratio parameter is only used when penalty is 'elasticnet'. Got (penalty=l1)\n",
      "  \"(penalty={})\".format(self.penalty))\n",
      "C:\\Users\\kaile\\Anaconda3\\lib\\site-packages\\sklearn\\linear_model\\_logistic.py:1319: UserWarning: l1_ratio parameter is only used when penalty is 'elasticnet'. Got (penalty=l2)\n",
      "  \"(penalty={})\".format(self.penalty))\n",
      "C:\\Users\\kaile\\Anaconda3\\lib\\site-packages\\sklearn\\linear_model\\_logistic.py:1319: UserWarning: l1_ratio parameter is only used when penalty is 'elasticnet'. Got (penalty=l2)\n",
      "  \"(penalty={})\".format(self.penalty))\n",
      "C:\\Users\\kaile\\Anaconda3\\lib\\site-packages\\sklearn\\linear_model\\_logistic.py:1319: UserWarning: l1_ratio parameter is only used when penalty is 'elasticnet'. Got (penalty=l2)\n",
      "  \"(penalty={})\".format(self.penalty))\n",
      "C:\\Users\\kaile\\Anaconda3\\lib\\site-packages\\sklearn\\linear_model\\_logistic.py:1319: UserWarning: l1_ratio parameter is only used when penalty is 'elasticnet'. Got (penalty=l2)\n",
      "  \"(penalty={})\".format(self.penalty))\n",
      "C:\\Users\\kaile\\Anaconda3\\lib\\site-packages\\sklearn\\linear_model\\_logistic.py:1319: UserWarning: l1_ratio parameter is only used when penalty is 'elasticnet'. Got (penalty=l2)\n",
      "  \"(penalty={})\".format(self.penalty))\n",
      "C:\\Users\\kaile\\Anaconda3\\lib\\site-packages\\sklearn\\linear_model\\_logistic.py:1319: UserWarning: l1_ratio parameter is only used when penalty is 'elasticnet'. Got (penalty=l1)\n",
      "  \"(penalty={})\".format(self.penalty))\n",
      "C:\\Users\\kaile\\Anaconda3\\lib\\site-packages\\sklearn\\linear_model\\_logistic.py:1319: UserWarning: l1_ratio parameter is only used when penalty is 'elasticnet'. Got (penalty=l1)\n",
      "  \"(penalty={})\".format(self.penalty))\n",
      "C:\\Users\\kaile\\Anaconda3\\lib\\site-packages\\sklearn\\linear_model\\_logistic.py:1319: UserWarning: l1_ratio parameter is only used when penalty is 'elasticnet'. Got (penalty=l1)\n",
      "  \"(penalty={})\".format(self.penalty))\n",
      "C:\\Users\\kaile\\Anaconda3\\lib\\site-packages\\sklearn\\linear_model\\_logistic.py:1319: UserWarning: l1_ratio parameter is only used when penalty is 'elasticnet'. Got (penalty=l1)\n",
      "  \"(penalty={})\".format(self.penalty))\n",
      "C:\\Users\\kaile\\Anaconda3\\lib\\site-packages\\sklearn\\linear_model\\_logistic.py:1319: UserWarning: l1_ratio parameter is only used when penalty is 'elasticnet'. Got (penalty=l1)\n",
      "  \"(penalty={})\".format(self.penalty))\n",
      "C:\\Users\\kaile\\Anaconda3\\lib\\site-packages\\sklearn\\linear_model\\_logistic.py:1319: UserWarning: l1_ratio parameter is only used when penalty is 'elasticnet'. Got (penalty=l2)\n",
      "  \"(penalty={})\".format(self.penalty))\n",
      "C:\\Users\\kaile\\Anaconda3\\lib\\site-packages\\sklearn\\linear_model\\_logistic.py:1319: UserWarning: l1_ratio parameter is only used when penalty is 'elasticnet'. Got (penalty=l2)\n",
      "  \"(penalty={})\".format(self.penalty))\n",
      "C:\\Users\\kaile\\Anaconda3\\lib\\site-packages\\sklearn\\linear_model\\_logistic.py:1319: UserWarning: l1_ratio parameter is only used when penalty is 'elasticnet'. Got (penalty=l2)\n",
      "  \"(penalty={})\".format(self.penalty))\n",
      "C:\\Users\\kaile\\Anaconda3\\lib\\site-packages\\sklearn\\linear_model\\_logistic.py:1319: UserWarning: l1_ratio parameter is only used when penalty is 'elasticnet'. Got (penalty=l2)\n",
      "  \"(penalty={})\".format(self.penalty))\n",
      "C:\\Users\\kaile\\Anaconda3\\lib\\site-packages\\sklearn\\linear_model\\_logistic.py:1319: UserWarning: l1_ratio parameter is only used when penalty is 'elasticnet'. Got (penalty=l2)\n",
      "  \"(penalty={})\".format(self.penalty))\n",
      "C:\\Users\\kaile\\Anaconda3\\lib\\site-packages\\sklearn\\linear_model\\_logistic.py:1319: UserWarning: l1_ratio parameter is only used when penalty is 'elasticnet'. Got (penalty=l1)\n",
      "  \"(penalty={})\".format(self.penalty))\n",
      "C:\\Users\\kaile\\Anaconda3\\lib\\site-packages\\sklearn\\linear_model\\_logistic.py:1319: UserWarning: l1_ratio parameter is only used when penalty is 'elasticnet'. Got (penalty=l1)\n",
      "  \"(penalty={})\".format(self.penalty))\n",
      "C:\\Users\\kaile\\Anaconda3\\lib\\site-packages\\sklearn\\linear_model\\_logistic.py:1319: UserWarning: l1_ratio parameter is only used when penalty is 'elasticnet'. Got (penalty=l1)\n",
      "  \"(penalty={})\".format(self.penalty))\n",
      "C:\\Users\\kaile\\Anaconda3\\lib\\site-packages\\sklearn\\linear_model\\_logistic.py:1319: UserWarning: l1_ratio parameter is only used when penalty is 'elasticnet'. Got (penalty=l1)\n",
      "  \"(penalty={})\".format(self.penalty))\n",
      "C:\\Users\\kaile\\Anaconda3\\lib\\site-packages\\sklearn\\linear_model\\_logistic.py:1319: UserWarning: l1_ratio parameter is only used when penalty is 'elasticnet'. Got (penalty=l1)\n",
      "  \"(penalty={})\".format(self.penalty))\n",
      "C:\\Users\\kaile\\Anaconda3\\lib\\site-packages\\sklearn\\linear_model\\_logistic.py:1319: UserWarning: l1_ratio parameter is only used when penalty is 'elasticnet'. Got (penalty=l2)\n",
      "  \"(penalty={})\".format(self.penalty))\n",
      "C:\\Users\\kaile\\Anaconda3\\lib\\site-packages\\sklearn\\linear_model\\_logistic.py:1319: UserWarning: l1_ratio parameter is only used when penalty is 'elasticnet'. Got (penalty=l2)\n",
      "  \"(penalty={})\".format(self.penalty))\n",
      "C:\\Users\\kaile\\Anaconda3\\lib\\site-packages\\sklearn\\linear_model\\_logistic.py:1319: UserWarning: l1_ratio parameter is only used when penalty is 'elasticnet'. Got (penalty=l2)\n",
      "  \"(penalty={})\".format(self.penalty))\n",
      "C:\\Users\\kaile\\Anaconda3\\lib\\site-packages\\sklearn\\linear_model\\_logistic.py:1319: UserWarning: l1_ratio parameter is only used when penalty is 'elasticnet'. Got (penalty=l2)\n",
      "  \"(penalty={})\".format(self.penalty))\n",
      "C:\\Users\\kaile\\Anaconda3\\lib\\site-packages\\sklearn\\linear_model\\_logistic.py:1319: UserWarning: l1_ratio parameter is only used when penalty is 'elasticnet'. Got (penalty=l2)\n",
      "  \"(penalty={})\".format(self.penalty))\n",
      "C:\\Users\\kaile\\Anaconda3\\lib\\site-packages\\sklearn\\linear_model\\_logistic.py:1319: UserWarning: l1_ratio parameter is only used when penalty is 'elasticnet'. Got (penalty=l1)\n",
      "  \"(penalty={})\".format(self.penalty))\n",
      "C:\\Users\\kaile\\Anaconda3\\lib\\site-packages\\sklearn\\linear_model\\_logistic.py:1319: UserWarning: l1_ratio parameter is only used when penalty is 'elasticnet'. Got (penalty=l1)\n",
      "  \"(penalty={})\".format(self.penalty))\n",
      "C:\\Users\\kaile\\Anaconda3\\lib\\site-packages\\sklearn\\linear_model\\_logistic.py:1319: UserWarning: l1_ratio parameter is only used when penalty is 'elasticnet'. Got (penalty=l1)\n",
      "  \"(penalty={})\".format(self.penalty))\n",
      "C:\\Users\\kaile\\Anaconda3\\lib\\site-packages\\sklearn\\linear_model\\_logistic.py:1319: UserWarning: l1_ratio parameter is only used when penalty is 'elasticnet'. Got (penalty=l1)\n",
      "  \"(penalty={})\".format(self.penalty))\n",
      "C:\\Users\\kaile\\Anaconda3\\lib\\site-packages\\sklearn\\linear_model\\_logistic.py:1319: UserWarning: l1_ratio parameter is only used when penalty is 'elasticnet'. Got (penalty=l1)\n",
      "  \"(penalty={})\".format(self.penalty))\n",
      "C:\\Users\\kaile\\Anaconda3\\lib\\site-packages\\sklearn\\linear_model\\_logistic.py:1319: UserWarning: l1_ratio parameter is only used when penalty is 'elasticnet'. Got (penalty=l2)\n",
      "  \"(penalty={})\".format(self.penalty))\n"
     ]
    },
    {
     "name": "stderr",
     "output_type": "stream",
     "text": [
      "C:\\Users\\kaile\\Anaconda3\\lib\\site-packages\\sklearn\\linear_model\\_logistic.py:1319: UserWarning: l1_ratio parameter is only used when penalty is 'elasticnet'. Got (penalty=l2)\n",
      "  \"(penalty={})\".format(self.penalty))\n",
      "C:\\Users\\kaile\\Anaconda3\\lib\\site-packages\\sklearn\\linear_model\\_logistic.py:1319: UserWarning: l1_ratio parameter is only used when penalty is 'elasticnet'. Got (penalty=l2)\n",
      "  \"(penalty={})\".format(self.penalty))\n",
      "C:\\Users\\kaile\\Anaconda3\\lib\\site-packages\\sklearn\\linear_model\\_logistic.py:1319: UserWarning: l1_ratio parameter is only used when penalty is 'elasticnet'. Got (penalty=l2)\n",
      "  \"(penalty={})\".format(self.penalty))\n",
      "C:\\Users\\kaile\\Anaconda3\\lib\\site-packages\\sklearn\\linear_model\\_logistic.py:1319: UserWarning: l1_ratio parameter is only used when penalty is 'elasticnet'. Got (penalty=l2)\n",
      "  \"(penalty={})\".format(self.penalty))\n",
      "C:\\Users\\kaile\\Anaconda3\\lib\\site-packages\\sklearn\\linear_model\\_logistic.py:1319: UserWarning: l1_ratio parameter is only used when penalty is 'elasticnet'. Got (penalty=l1)\n",
      "  \"(penalty={})\".format(self.penalty))\n",
      "C:\\Users\\kaile\\Anaconda3\\lib\\site-packages\\sklearn\\linear_model\\_logistic.py:1319: UserWarning: l1_ratio parameter is only used when penalty is 'elasticnet'. Got (penalty=l1)\n",
      "  \"(penalty={})\".format(self.penalty))\n",
      "C:\\Users\\kaile\\Anaconda3\\lib\\site-packages\\sklearn\\linear_model\\_logistic.py:1319: UserWarning: l1_ratio parameter is only used when penalty is 'elasticnet'. Got (penalty=l1)\n",
      "  \"(penalty={})\".format(self.penalty))\n",
      "C:\\Users\\kaile\\Anaconda3\\lib\\site-packages\\sklearn\\linear_model\\_logistic.py:1319: UserWarning: l1_ratio parameter is only used when penalty is 'elasticnet'. Got (penalty=l1)\n",
      "  \"(penalty={})\".format(self.penalty))\n",
      "C:\\Users\\kaile\\Anaconda3\\lib\\site-packages\\sklearn\\linear_model\\_logistic.py:1319: UserWarning: l1_ratio parameter is only used when penalty is 'elasticnet'. Got (penalty=l1)\n",
      "  \"(penalty={})\".format(self.penalty))\n",
      "C:\\Users\\kaile\\Anaconda3\\lib\\site-packages\\sklearn\\linear_model\\_logistic.py:1319: UserWarning: l1_ratio parameter is only used when penalty is 'elasticnet'. Got (penalty=l2)\n",
      "  \"(penalty={})\".format(self.penalty))\n",
      "C:\\Users\\kaile\\Anaconda3\\lib\\site-packages\\sklearn\\linear_model\\_logistic.py:1319: UserWarning: l1_ratio parameter is only used when penalty is 'elasticnet'. Got (penalty=l2)\n",
      "  \"(penalty={})\".format(self.penalty))\n",
      "C:\\Users\\kaile\\Anaconda3\\lib\\site-packages\\sklearn\\linear_model\\_logistic.py:1319: UserWarning: l1_ratio parameter is only used when penalty is 'elasticnet'. Got (penalty=l2)\n",
      "  \"(penalty={})\".format(self.penalty))\n",
      "C:\\Users\\kaile\\Anaconda3\\lib\\site-packages\\sklearn\\linear_model\\_logistic.py:1319: UserWarning: l1_ratio parameter is only used when penalty is 'elasticnet'. Got (penalty=l2)\n",
      "  \"(penalty={})\".format(self.penalty))\n",
      "C:\\Users\\kaile\\Anaconda3\\lib\\site-packages\\sklearn\\linear_model\\_logistic.py:1319: UserWarning: l1_ratio parameter is only used when penalty is 'elasticnet'. Got (penalty=l2)\n",
      "  \"(penalty={})\".format(self.penalty))\n",
      "C:\\Users\\kaile\\Anaconda3\\lib\\site-packages\\sklearn\\linear_model\\_logistic.py:1319: UserWarning: l1_ratio parameter is only used when penalty is 'elasticnet'. Got (penalty=l1)\n",
      "  \"(penalty={})\".format(self.penalty))\n",
      "C:\\Users\\kaile\\Anaconda3\\lib\\site-packages\\sklearn\\linear_model\\_logistic.py:1319: UserWarning: l1_ratio parameter is only used when penalty is 'elasticnet'. Got (penalty=l1)\n",
      "  \"(penalty={})\".format(self.penalty))\n",
      "C:\\Users\\kaile\\Anaconda3\\lib\\site-packages\\sklearn\\linear_model\\_logistic.py:1319: UserWarning: l1_ratio parameter is only used when penalty is 'elasticnet'. Got (penalty=l1)\n",
      "  \"(penalty={})\".format(self.penalty))\n",
      "C:\\Users\\kaile\\Anaconda3\\lib\\site-packages\\sklearn\\linear_model\\_logistic.py:1319: UserWarning: l1_ratio parameter is only used when penalty is 'elasticnet'. Got (penalty=l1)\n",
      "  \"(penalty={})\".format(self.penalty))\n",
      "C:\\Users\\kaile\\Anaconda3\\lib\\site-packages\\sklearn\\linear_model\\_logistic.py:1319: UserWarning: l1_ratio parameter is only used when penalty is 'elasticnet'. Got (penalty=l1)\n",
      "  \"(penalty={})\".format(self.penalty))\n",
      "C:\\Users\\kaile\\Anaconda3\\lib\\site-packages\\sklearn\\linear_model\\_logistic.py:1319: UserWarning: l1_ratio parameter is only used when penalty is 'elasticnet'. Got (penalty=l2)\n",
      "  \"(penalty={})\".format(self.penalty))\n",
      "C:\\Users\\kaile\\Anaconda3\\lib\\site-packages\\sklearn\\linear_model\\_logistic.py:1319: UserWarning: l1_ratio parameter is only used when penalty is 'elasticnet'. Got (penalty=l2)\n",
      "  \"(penalty={})\".format(self.penalty))\n",
      "C:\\Users\\kaile\\Anaconda3\\lib\\site-packages\\sklearn\\linear_model\\_logistic.py:1319: UserWarning: l1_ratio parameter is only used when penalty is 'elasticnet'. Got (penalty=l2)\n",
      "  \"(penalty={})\".format(self.penalty))\n",
      "C:\\Users\\kaile\\Anaconda3\\lib\\site-packages\\sklearn\\linear_model\\_logistic.py:1319: UserWarning: l1_ratio parameter is only used when penalty is 'elasticnet'. Got (penalty=l2)\n",
      "  \"(penalty={})\".format(self.penalty))\n",
      "C:\\Users\\kaile\\Anaconda3\\lib\\site-packages\\sklearn\\linear_model\\_logistic.py:1319: UserWarning: l1_ratio parameter is only used when penalty is 'elasticnet'. Got (penalty=l2)\n",
      "  \"(penalty={})\".format(self.penalty))\n",
      "C:\\Users\\kaile\\Anaconda3\\lib\\site-packages\\sklearn\\linear_model\\_logistic.py:1319: UserWarning: l1_ratio parameter is only used when penalty is 'elasticnet'. Got (penalty=l1)\n",
      "  \"(penalty={})\".format(self.penalty))\n",
      "C:\\Users\\kaile\\Anaconda3\\lib\\site-packages\\sklearn\\linear_model\\_logistic.py:1319: UserWarning: l1_ratio parameter is only used when penalty is 'elasticnet'. Got (penalty=l1)\n",
      "  \"(penalty={})\".format(self.penalty))\n",
      "C:\\Users\\kaile\\Anaconda3\\lib\\site-packages\\sklearn\\linear_model\\_logistic.py:1319: UserWarning: l1_ratio parameter is only used when penalty is 'elasticnet'. Got (penalty=l1)\n",
      "  \"(penalty={})\".format(self.penalty))\n",
      "C:\\Users\\kaile\\Anaconda3\\lib\\site-packages\\sklearn\\linear_model\\_logistic.py:1319: UserWarning: l1_ratio parameter is only used when penalty is 'elasticnet'. Got (penalty=l1)\n",
      "  \"(penalty={})\".format(self.penalty))\n",
      "C:\\Users\\kaile\\Anaconda3\\lib\\site-packages\\sklearn\\linear_model\\_logistic.py:1319: UserWarning: l1_ratio parameter is only used when penalty is 'elasticnet'. Got (penalty=l1)\n",
      "  \"(penalty={})\".format(self.penalty))\n",
      "C:\\Users\\kaile\\Anaconda3\\lib\\site-packages\\sklearn\\linear_model\\_logistic.py:1319: UserWarning: l1_ratio parameter is only used when penalty is 'elasticnet'. Got (penalty=l2)\n",
      "  \"(penalty={})\".format(self.penalty))\n",
      "C:\\Users\\kaile\\Anaconda3\\lib\\site-packages\\sklearn\\linear_model\\_logistic.py:1319: UserWarning: l1_ratio parameter is only used when penalty is 'elasticnet'. Got (penalty=l2)\n",
      "  \"(penalty={})\".format(self.penalty))\n",
      "C:\\Users\\kaile\\Anaconda3\\lib\\site-packages\\sklearn\\linear_model\\_logistic.py:1319: UserWarning: l1_ratio parameter is only used when penalty is 'elasticnet'. Got (penalty=l2)\n",
      "  \"(penalty={})\".format(self.penalty))\n",
      "C:\\Users\\kaile\\Anaconda3\\lib\\site-packages\\sklearn\\linear_model\\_logistic.py:1319: UserWarning: l1_ratio parameter is only used when penalty is 'elasticnet'. Got (penalty=l2)\n",
      "  \"(penalty={})\".format(self.penalty))\n",
      "C:\\Users\\kaile\\Anaconda3\\lib\\site-packages\\sklearn\\linear_model\\_logistic.py:1319: UserWarning: l1_ratio parameter is only used when penalty is 'elasticnet'. Got (penalty=l2)\n",
      "  \"(penalty={})\".format(self.penalty))\n",
      "C:\\Users\\kaile\\Anaconda3\\lib\\site-packages\\sklearn\\linear_model\\_logistic.py:1319: UserWarning: l1_ratio parameter is only used when penalty is 'elasticnet'. Got (penalty=l1)\n",
      "  \"(penalty={})\".format(self.penalty))\n",
      "C:\\Users\\kaile\\Anaconda3\\lib\\site-packages\\sklearn\\linear_model\\_logistic.py:1319: UserWarning: l1_ratio parameter is only used when penalty is 'elasticnet'. Got (penalty=l1)\n",
      "  \"(penalty={})\".format(self.penalty))\n",
      "C:\\Users\\kaile\\Anaconda3\\lib\\site-packages\\sklearn\\linear_model\\_logistic.py:1319: UserWarning: l1_ratio parameter is only used when penalty is 'elasticnet'. Got (penalty=l1)\n",
      "  \"(penalty={})\".format(self.penalty))\n",
      "C:\\Users\\kaile\\Anaconda3\\lib\\site-packages\\sklearn\\linear_model\\_logistic.py:1319: UserWarning: l1_ratio parameter is only used when penalty is 'elasticnet'. Got (penalty=l1)\n",
      "  \"(penalty={})\".format(self.penalty))\n",
      "C:\\Users\\kaile\\Anaconda3\\lib\\site-packages\\sklearn\\linear_model\\_logistic.py:1319: UserWarning: l1_ratio parameter is only used when penalty is 'elasticnet'. Got (penalty=l1)\n",
      "  \"(penalty={})\".format(self.penalty))\n"
     ]
    },
    {
     "name": "stderr",
     "output_type": "stream",
     "text": [
      "C:\\Users\\kaile\\Anaconda3\\lib\\site-packages\\sklearn\\linear_model\\_logistic.py:1319: UserWarning: l1_ratio parameter is only used when penalty is 'elasticnet'. Got (penalty=l2)\n",
      "  \"(penalty={})\".format(self.penalty))\n",
      "C:\\Users\\kaile\\Anaconda3\\lib\\site-packages\\sklearn\\linear_model\\_logistic.py:1319: UserWarning: l1_ratio parameter is only used when penalty is 'elasticnet'. Got (penalty=l2)\n",
      "  \"(penalty={})\".format(self.penalty))\n",
      "C:\\Users\\kaile\\Anaconda3\\lib\\site-packages\\sklearn\\linear_model\\_logistic.py:1319: UserWarning: l1_ratio parameter is only used when penalty is 'elasticnet'. Got (penalty=l2)\n",
      "  \"(penalty={})\".format(self.penalty))\n",
      "C:\\Users\\kaile\\Anaconda3\\lib\\site-packages\\sklearn\\linear_model\\_logistic.py:1319: UserWarning: l1_ratio parameter is only used when penalty is 'elasticnet'. Got (penalty=l2)\n",
      "  \"(penalty={})\".format(self.penalty))\n",
      "C:\\Users\\kaile\\Anaconda3\\lib\\site-packages\\sklearn\\linear_model\\_logistic.py:1319: UserWarning: l1_ratio parameter is only used when penalty is 'elasticnet'. Got (penalty=l2)\n",
      "  \"(penalty={})\".format(self.penalty))\n",
      "C:\\Users\\kaile\\Anaconda3\\lib\\site-packages\\sklearn\\linear_model\\_logistic.py:1319: UserWarning: l1_ratio parameter is only used when penalty is 'elasticnet'. Got (penalty=l1)\n",
      "  \"(penalty={})\".format(self.penalty))\n",
      "C:\\Users\\kaile\\Anaconda3\\lib\\site-packages\\sklearn\\linear_model\\_logistic.py:1319: UserWarning: l1_ratio parameter is only used when penalty is 'elasticnet'. Got (penalty=l1)\n",
      "  \"(penalty={})\".format(self.penalty))\n",
      "C:\\Users\\kaile\\Anaconda3\\lib\\site-packages\\sklearn\\linear_model\\_logistic.py:1319: UserWarning: l1_ratio parameter is only used when penalty is 'elasticnet'. Got (penalty=l1)\n",
      "  \"(penalty={})\".format(self.penalty))\n",
      "C:\\Users\\kaile\\Anaconda3\\lib\\site-packages\\sklearn\\linear_model\\_logistic.py:1319: UserWarning: l1_ratio parameter is only used when penalty is 'elasticnet'. Got (penalty=l1)\n",
      "  \"(penalty={})\".format(self.penalty))\n",
      "C:\\Users\\kaile\\Anaconda3\\lib\\site-packages\\sklearn\\linear_model\\_logistic.py:1319: UserWarning: l1_ratio parameter is only used when penalty is 'elasticnet'. Got (penalty=l1)\n",
      "  \"(penalty={})\".format(self.penalty))\n",
      "C:\\Users\\kaile\\Anaconda3\\lib\\site-packages\\sklearn\\linear_model\\_logistic.py:1319: UserWarning: l1_ratio parameter is only used when penalty is 'elasticnet'. Got (penalty=l2)\n",
      "  \"(penalty={})\".format(self.penalty))\n",
      "C:\\Users\\kaile\\Anaconda3\\lib\\site-packages\\sklearn\\linear_model\\_logistic.py:1319: UserWarning: l1_ratio parameter is only used when penalty is 'elasticnet'. Got (penalty=l2)\n",
      "  \"(penalty={})\".format(self.penalty))\n",
      "C:\\Users\\kaile\\Anaconda3\\lib\\site-packages\\sklearn\\linear_model\\_logistic.py:1319: UserWarning: l1_ratio parameter is only used when penalty is 'elasticnet'. Got (penalty=l2)\n",
      "  \"(penalty={})\".format(self.penalty))\n",
      "C:\\Users\\kaile\\Anaconda3\\lib\\site-packages\\sklearn\\linear_model\\_logistic.py:1319: UserWarning: l1_ratio parameter is only used when penalty is 'elasticnet'. Got (penalty=l2)\n",
      "  \"(penalty={})\".format(self.penalty))\n",
      "C:\\Users\\kaile\\Anaconda3\\lib\\site-packages\\sklearn\\linear_model\\_logistic.py:1319: UserWarning: l1_ratio parameter is only used when penalty is 'elasticnet'. Got (penalty=l2)\n",
      "  \"(penalty={})\".format(self.penalty))\n",
      "C:\\Users\\kaile\\Anaconda3\\lib\\site-packages\\sklearn\\linear_model\\_logistic.py:1319: UserWarning: l1_ratio parameter is only used when penalty is 'elasticnet'. Got (penalty=l1)\n",
      "  \"(penalty={})\".format(self.penalty))\n",
      "C:\\Users\\kaile\\Anaconda3\\lib\\site-packages\\sklearn\\linear_model\\_logistic.py:1319: UserWarning: l1_ratio parameter is only used when penalty is 'elasticnet'. Got (penalty=l1)\n",
      "  \"(penalty={})\".format(self.penalty))\n",
      "C:\\Users\\kaile\\Anaconda3\\lib\\site-packages\\sklearn\\linear_model\\_logistic.py:1319: UserWarning: l1_ratio parameter is only used when penalty is 'elasticnet'. Got (penalty=l1)\n",
      "  \"(penalty={})\".format(self.penalty))\n",
      "C:\\Users\\kaile\\Anaconda3\\lib\\site-packages\\sklearn\\linear_model\\_logistic.py:1319: UserWarning: l1_ratio parameter is only used when penalty is 'elasticnet'. Got (penalty=l1)\n",
      "  \"(penalty={})\".format(self.penalty))\n",
      "C:\\Users\\kaile\\Anaconda3\\lib\\site-packages\\sklearn\\linear_model\\_logistic.py:1319: UserWarning: l1_ratio parameter is only used when penalty is 'elasticnet'. Got (penalty=l1)\n",
      "  \"(penalty={})\".format(self.penalty))\n",
      "C:\\Users\\kaile\\Anaconda3\\lib\\site-packages\\sklearn\\linear_model\\_logistic.py:1319: UserWarning: l1_ratio parameter is only used when penalty is 'elasticnet'. Got (penalty=l2)\n",
      "  \"(penalty={})\".format(self.penalty))\n",
      "C:\\Users\\kaile\\Anaconda3\\lib\\site-packages\\sklearn\\linear_model\\_logistic.py:1319: UserWarning: l1_ratio parameter is only used when penalty is 'elasticnet'. Got (penalty=l2)\n",
      "  \"(penalty={})\".format(self.penalty))\n",
      "C:\\Users\\kaile\\Anaconda3\\lib\\site-packages\\sklearn\\linear_model\\_logistic.py:1319: UserWarning: l1_ratio parameter is only used when penalty is 'elasticnet'. Got (penalty=l2)\n",
      "  \"(penalty={})\".format(self.penalty))\n",
      "C:\\Users\\kaile\\Anaconda3\\lib\\site-packages\\sklearn\\linear_model\\_logistic.py:1319: UserWarning: l1_ratio parameter is only used when penalty is 'elasticnet'. Got (penalty=l2)\n",
      "  \"(penalty={})\".format(self.penalty))\n",
      "C:\\Users\\kaile\\Anaconda3\\lib\\site-packages\\sklearn\\linear_model\\_logistic.py:1319: UserWarning: l1_ratio parameter is only used when penalty is 'elasticnet'. Got (penalty=l2)\n",
      "  \"(penalty={})\".format(self.penalty))\n",
      "C:\\Users\\kaile\\Anaconda3\\lib\\site-packages\\sklearn\\linear_model\\_logistic.py:1319: UserWarning: l1_ratio parameter is only used when penalty is 'elasticnet'. Got (penalty=l1)\n",
      "  \"(penalty={})\".format(self.penalty))\n",
      "C:\\Users\\kaile\\Anaconda3\\lib\\site-packages\\sklearn\\linear_model\\_logistic.py:1319: UserWarning: l1_ratio parameter is only used when penalty is 'elasticnet'. Got (penalty=l1)\n",
      "  \"(penalty={})\".format(self.penalty))\n",
      "C:\\Users\\kaile\\Anaconda3\\lib\\site-packages\\sklearn\\linear_model\\_logistic.py:1319: UserWarning: l1_ratio parameter is only used when penalty is 'elasticnet'. Got (penalty=l1)\n",
      "  \"(penalty={})\".format(self.penalty))\n",
      "C:\\Users\\kaile\\Anaconda3\\lib\\site-packages\\sklearn\\linear_model\\_logistic.py:1319: UserWarning: l1_ratio parameter is only used when penalty is 'elasticnet'. Got (penalty=l1)\n",
      "  \"(penalty={})\".format(self.penalty))\n",
      "C:\\Users\\kaile\\Anaconda3\\lib\\site-packages\\sklearn\\linear_model\\_logistic.py:1319: UserWarning: l1_ratio parameter is only used when penalty is 'elasticnet'. Got (penalty=l1)\n",
      "  \"(penalty={})\".format(self.penalty))\n",
      "C:\\Users\\kaile\\Anaconda3\\lib\\site-packages\\sklearn\\linear_model\\_logistic.py:1319: UserWarning: l1_ratio parameter is only used when penalty is 'elasticnet'. Got (penalty=l2)\n",
      "  \"(penalty={})\".format(self.penalty))\n",
      "C:\\Users\\kaile\\Anaconda3\\lib\\site-packages\\sklearn\\linear_model\\_logistic.py:1319: UserWarning: l1_ratio parameter is only used when penalty is 'elasticnet'. Got (penalty=l2)\n",
      "  \"(penalty={})\".format(self.penalty))\n",
      "C:\\Users\\kaile\\Anaconda3\\lib\\site-packages\\sklearn\\linear_model\\_logistic.py:1319: UserWarning: l1_ratio parameter is only used when penalty is 'elasticnet'. Got (penalty=l2)\n",
      "  \"(penalty={})\".format(self.penalty))\n",
      "C:\\Users\\kaile\\Anaconda3\\lib\\site-packages\\sklearn\\linear_model\\_logistic.py:1319: UserWarning: l1_ratio parameter is only used when penalty is 'elasticnet'. Got (penalty=l2)\n",
      "  \"(penalty={})\".format(self.penalty))\n",
      "C:\\Users\\kaile\\Anaconda3\\lib\\site-packages\\sklearn\\linear_model\\_logistic.py:1319: UserWarning: l1_ratio parameter is only used when penalty is 'elasticnet'. Got (penalty=l2)\n",
      "  \"(penalty={})\".format(self.penalty))\n",
      "C:\\Users\\kaile\\Anaconda3\\lib\\site-packages\\sklearn\\linear_model\\_logistic.py:1319: UserWarning: l1_ratio parameter is only used when penalty is 'elasticnet'. Got (penalty=l1)\n",
      "  \"(penalty={})\".format(self.penalty))\n",
      "C:\\Users\\kaile\\Anaconda3\\lib\\site-packages\\sklearn\\linear_model\\_logistic.py:1319: UserWarning: l1_ratio parameter is only used when penalty is 'elasticnet'. Got (penalty=l1)\n",
      "  \"(penalty={})\".format(self.penalty))\n",
      "C:\\Users\\kaile\\Anaconda3\\lib\\site-packages\\sklearn\\linear_model\\_logistic.py:1319: UserWarning: l1_ratio parameter is only used when penalty is 'elasticnet'. Got (penalty=l1)\n",
      "  \"(penalty={})\".format(self.penalty))\n",
      "C:\\Users\\kaile\\Anaconda3\\lib\\site-packages\\sklearn\\linear_model\\_logistic.py:1319: UserWarning: l1_ratio parameter is only used when penalty is 'elasticnet'. Got (penalty=l1)\n",
      "  \"(penalty={})\".format(self.penalty))\n"
     ]
    },
    {
     "name": "stderr",
     "output_type": "stream",
     "text": [
      "C:\\Users\\kaile\\Anaconda3\\lib\\site-packages\\sklearn\\linear_model\\_logistic.py:1319: UserWarning: l1_ratio parameter is only used when penalty is 'elasticnet'. Got (penalty=l1)\n",
      "  \"(penalty={})\".format(self.penalty))\n",
      "C:\\Users\\kaile\\Anaconda3\\lib\\site-packages\\sklearn\\linear_model\\_logistic.py:1319: UserWarning: l1_ratio parameter is only used when penalty is 'elasticnet'. Got (penalty=l2)\n",
      "  \"(penalty={})\".format(self.penalty))\n",
      "C:\\Users\\kaile\\Anaconda3\\lib\\site-packages\\sklearn\\linear_model\\_logistic.py:1319: UserWarning: l1_ratio parameter is only used when penalty is 'elasticnet'. Got (penalty=l2)\n",
      "  \"(penalty={})\".format(self.penalty))\n",
      "C:\\Users\\kaile\\Anaconda3\\lib\\site-packages\\sklearn\\linear_model\\_logistic.py:1319: UserWarning: l1_ratio parameter is only used when penalty is 'elasticnet'. Got (penalty=l2)\n",
      "  \"(penalty={})\".format(self.penalty))\n",
      "C:\\Users\\kaile\\Anaconda3\\lib\\site-packages\\sklearn\\linear_model\\_logistic.py:1319: UserWarning: l1_ratio parameter is only used when penalty is 'elasticnet'. Got (penalty=l2)\n",
      "  \"(penalty={})\".format(self.penalty))\n",
      "C:\\Users\\kaile\\Anaconda3\\lib\\site-packages\\sklearn\\linear_model\\_logistic.py:1319: UserWarning: l1_ratio parameter is only used when penalty is 'elasticnet'. Got (penalty=l2)\n",
      "  \"(penalty={})\".format(self.penalty))\n",
      "C:\\Users\\kaile\\Anaconda3\\lib\\site-packages\\sklearn\\linear_model\\_logistic.py:1319: UserWarning: l1_ratio parameter is only used when penalty is 'elasticnet'. Got (penalty=l1)\n",
      "  \"(penalty={})\".format(self.penalty))\n",
      "C:\\Users\\kaile\\Anaconda3\\lib\\site-packages\\sklearn\\linear_model\\_logistic.py:1319: UserWarning: l1_ratio parameter is only used when penalty is 'elasticnet'. Got (penalty=l1)\n",
      "  \"(penalty={})\".format(self.penalty))\n",
      "C:\\Users\\kaile\\Anaconda3\\lib\\site-packages\\sklearn\\linear_model\\_logistic.py:1319: UserWarning: l1_ratio parameter is only used when penalty is 'elasticnet'. Got (penalty=l1)\n",
      "  \"(penalty={})\".format(self.penalty))\n",
      "C:\\Users\\kaile\\Anaconda3\\lib\\site-packages\\sklearn\\linear_model\\_logistic.py:1319: UserWarning: l1_ratio parameter is only used when penalty is 'elasticnet'. Got (penalty=l1)\n",
      "  \"(penalty={})\".format(self.penalty))\n",
      "C:\\Users\\kaile\\Anaconda3\\lib\\site-packages\\sklearn\\linear_model\\_logistic.py:1319: UserWarning: l1_ratio parameter is only used when penalty is 'elasticnet'. Got (penalty=l1)\n",
      "  \"(penalty={})\".format(self.penalty))\n",
      "C:\\Users\\kaile\\Anaconda3\\lib\\site-packages\\sklearn\\linear_model\\_logistic.py:1319: UserWarning: l1_ratio parameter is only used when penalty is 'elasticnet'. Got (penalty=l2)\n",
      "  \"(penalty={})\".format(self.penalty))\n",
      "C:\\Users\\kaile\\Anaconda3\\lib\\site-packages\\sklearn\\linear_model\\_logistic.py:1319: UserWarning: l1_ratio parameter is only used when penalty is 'elasticnet'. Got (penalty=l2)\n",
      "  \"(penalty={})\".format(self.penalty))\n",
      "C:\\Users\\kaile\\Anaconda3\\lib\\site-packages\\sklearn\\linear_model\\_logistic.py:1319: UserWarning: l1_ratio parameter is only used when penalty is 'elasticnet'. Got (penalty=l2)\n",
      "  \"(penalty={})\".format(self.penalty))\n",
      "C:\\Users\\kaile\\Anaconda3\\lib\\site-packages\\sklearn\\linear_model\\_logistic.py:1319: UserWarning: l1_ratio parameter is only used when penalty is 'elasticnet'. Got (penalty=l2)\n",
      "  \"(penalty={})\".format(self.penalty))\n",
      "C:\\Users\\kaile\\Anaconda3\\lib\\site-packages\\sklearn\\linear_model\\_logistic.py:1319: UserWarning: l1_ratio parameter is only used when penalty is 'elasticnet'. Got (penalty=l2)\n",
      "  \"(penalty={})\".format(self.penalty))\n",
      "C:\\Users\\kaile\\Anaconda3\\lib\\site-packages\\sklearn\\linear_model\\_logistic.py:1319: UserWarning: l1_ratio parameter is only used when penalty is 'elasticnet'. Got (penalty=l1)\n",
      "  \"(penalty={})\".format(self.penalty))\n",
      "C:\\Users\\kaile\\Anaconda3\\lib\\site-packages\\sklearn\\linear_model\\_logistic.py:1319: UserWarning: l1_ratio parameter is only used when penalty is 'elasticnet'. Got (penalty=l1)\n",
      "  \"(penalty={})\".format(self.penalty))\n",
      "C:\\Users\\kaile\\Anaconda3\\lib\\site-packages\\sklearn\\linear_model\\_logistic.py:1319: UserWarning: l1_ratio parameter is only used when penalty is 'elasticnet'. Got (penalty=l1)\n",
      "  \"(penalty={})\".format(self.penalty))\n",
      "C:\\Users\\kaile\\Anaconda3\\lib\\site-packages\\sklearn\\linear_model\\_logistic.py:1319: UserWarning: l1_ratio parameter is only used when penalty is 'elasticnet'. Got (penalty=l1)\n",
      "  \"(penalty={})\".format(self.penalty))\n",
      "C:\\Users\\kaile\\Anaconda3\\lib\\site-packages\\sklearn\\linear_model\\_sag.py:329: ConvergenceWarning: The max_iter was reached which means the coef_ did not converge\n",
      "  \"the coef_ did not converge\", ConvergenceWarning)\n",
      "C:\\Users\\kaile\\Anaconda3\\lib\\site-packages\\sklearn\\linear_model\\_logistic.py:1319: UserWarning: l1_ratio parameter is only used when penalty is 'elasticnet'. Got (penalty=l1)\n",
      "  \"(penalty={})\".format(self.penalty))\n",
      "C:\\Users\\kaile\\Anaconda3\\lib\\site-packages\\sklearn\\linear_model\\_logistic.py:1319: UserWarning: l1_ratio parameter is only used when penalty is 'elasticnet'. Got (penalty=l2)\n",
      "  \"(penalty={})\".format(self.penalty))\n",
      "C:\\Users\\kaile\\Anaconda3\\lib\\site-packages\\sklearn\\linear_model\\_logistic.py:1319: UserWarning: l1_ratio parameter is only used when penalty is 'elasticnet'. Got (penalty=l2)\n",
      "  \"(penalty={})\".format(self.penalty))\n",
      "C:\\Users\\kaile\\Anaconda3\\lib\\site-packages\\sklearn\\linear_model\\_logistic.py:1319: UserWarning: l1_ratio parameter is only used when penalty is 'elasticnet'. Got (penalty=l2)\n",
      "  \"(penalty={})\".format(self.penalty))\n",
      "C:\\Users\\kaile\\Anaconda3\\lib\\site-packages\\sklearn\\linear_model\\_logistic.py:1319: UserWarning: l1_ratio parameter is only used when penalty is 'elasticnet'. Got (penalty=l2)\n",
      "  \"(penalty={})\".format(self.penalty))\n",
      "C:\\Users\\kaile\\Anaconda3\\lib\\site-packages\\sklearn\\linear_model\\_logistic.py:1319: UserWarning: l1_ratio parameter is only used when penalty is 'elasticnet'. Got (penalty=l2)\n",
      "  \"(penalty={})\".format(self.penalty))\n",
      "C:\\Users\\kaile\\Anaconda3\\lib\\site-packages\\sklearn\\linear_model\\_logistic.py:1319: UserWarning: l1_ratio parameter is only used when penalty is 'elasticnet'. Got (penalty=l1)\n",
      "  \"(penalty={})\".format(self.penalty))\n",
      "C:\\Users\\kaile\\Anaconda3\\lib\\site-packages\\sklearn\\linear_model\\_logistic.py:1319: UserWarning: l1_ratio parameter is only used when penalty is 'elasticnet'. Got (penalty=l1)\n",
      "  \"(penalty={})\".format(self.penalty))\n",
      "C:\\Users\\kaile\\Anaconda3\\lib\\site-packages\\sklearn\\linear_model\\_logistic.py:1319: UserWarning: l1_ratio parameter is only used when penalty is 'elasticnet'. Got (penalty=l1)\n",
      "  \"(penalty={})\".format(self.penalty))\n",
      "C:\\Users\\kaile\\Anaconda3\\lib\\site-packages\\sklearn\\linear_model\\_logistic.py:1319: UserWarning: l1_ratio parameter is only used when penalty is 'elasticnet'. Got (penalty=l1)\n",
      "  \"(penalty={})\".format(self.penalty))\n",
      "C:\\Users\\kaile\\Anaconda3\\lib\\site-packages\\sklearn\\linear_model\\_sag.py:329: ConvergenceWarning: The max_iter was reached which means the coef_ did not converge\n",
      "  \"the coef_ did not converge\", ConvergenceWarning)\n",
      "C:\\Users\\kaile\\Anaconda3\\lib\\site-packages\\sklearn\\linear_model\\_logistic.py:1319: UserWarning: l1_ratio parameter is only used when penalty is 'elasticnet'. Got (penalty=l1)\n",
      "  \"(penalty={})\".format(self.penalty))\n",
      "C:\\Users\\kaile\\Anaconda3\\lib\\site-packages\\sklearn\\linear_model\\_logistic.py:1319: UserWarning: l1_ratio parameter is only used when penalty is 'elasticnet'. Got (penalty=l2)\n",
      "  \"(penalty={})\".format(self.penalty))\n",
      "C:\\Users\\kaile\\Anaconda3\\lib\\site-packages\\sklearn\\linear_model\\_logistic.py:1319: UserWarning: l1_ratio parameter is only used when penalty is 'elasticnet'. Got (penalty=l2)\n",
      "  \"(penalty={})\".format(self.penalty))\n",
      "C:\\Users\\kaile\\Anaconda3\\lib\\site-packages\\sklearn\\linear_model\\_logistic.py:1319: UserWarning: l1_ratio parameter is only used when penalty is 'elasticnet'. Got (penalty=l2)\n",
      "  \"(penalty={})\".format(self.penalty))\n",
      "C:\\Users\\kaile\\Anaconda3\\lib\\site-packages\\sklearn\\linear_model\\_logistic.py:1319: UserWarning: l1_ratio parameter is only used when penalty is 'elasticnet'. Got (penalty=l2)\n",
      "  \"(penalty={})\".format(self.penalty))\n",
      "C:\\Users\\kaile\\Anaconda3\\lib\\site-packages\\sklearn\\linear_model\\_logistic.py:1319: UserWarning: l1_ratio parameter is only used when penalty is 'elasticnet'. Got (penalty=l2)\n",
      "  \"(penalty={})\".format(self.penalty))\n",
      "C:\\Users\\kaile\\Anaconda3\\lib\\site-packages\\sklearn\\linear_model\\_logistic.py:1319: UserWarning: l1_ratio parameter is only used when penalty is 'elasticnet'. Got (penalty=l1)\n",
      "  \"(penalty={})\".format(self.penalty))\n"
     ]
    },
    {
     "name": "stderr",
     "output_type": "stream",
     "text": [
      "C:\\Users\\kaile\\Anaconda3\\lib\\site-packages\\sklearn\\linear_model\\_logistic.py:1319: UserWarning: l1_ratio parameter is only used when penalty is 'elasticnet'. Got (penalty=l1)\n",
      "  \"(penalty={})\".format(self.penalty))\n",
      "C:\\Users\\kaile\\Anaconda3\\lib\\site-packages\\sklearn\\linear_model\\_logistic.py:1319: UserWarning: l1_ratio parameter is only used when penalty is 'elasticnet'. Got (penalty=l1)\n",
      "  \"(penalty={})\".format(self.penalty))\n",
      "C:\\Users\\kaile\\Anaconda3\\lib\\site-packages\\sklearn\\linear_model\\_logistic.py:1319: UserWarning: l1_ratio parameter is only used when penalty is 'elasticnet'. Got (penalty=l1)\n",
      "  \"(penalty={})\".format(self.penalty))\n",
      "C:\\Users\\kaile\\Anaconda3\\lib\\site-packages\\sklearn\\linear_model\\_sag.py:329: ConvergenceWarning: The max_iter was reached which means the coef_ did not converge\n",
      "  \"the coef_ did not converge\", ConvergenceWarning)\n",
      "C:\\Users\\kaile\\Anaconda3\\lib\\site-packages\\sklearn\\linear_model\\_logistic.py:1319: UserWarning: l1_ratio parameter is only used when penalty is 'elasticnet'. Got (penalty=l1)\n",
      "  \"(penalty={})\".format(self.penalty))\n",
      "C:\\Users\\kaile\\Anaconda3\\lib\\site-packages\\sklearn\\linear_model\\_logistic.py:1319: UserWarning: l1_ratio parameter is only used when penalty is 'elasticnet'. Got (penalty=l2)\n",
      "  \"(penalty={})\".format(self.penalty))\n",
      "C:\\Users\\kaile\\Anaconda3\\lib\\site-packages\\sklearn\\linear_model\\_logistic.py:1319: UserWarning: l1_ratio parameter is only used when penalty is 'elasticnet'. Got (penalty=l2)\n",
      "  \"(penalty={})\".format(self.penalty))\n",
      "C:\\Users\\kaile\\Anaconda3\\lib\\site-packages\\sklearn\\linear_model\\_logistic.py:1319: UserWarning: l1_ratio parameter is only used when penalty is 'elasticnet'. Got (penalty=l2)\n",
      "  \"(penalty={})\".format(self.penalty))\n",
      "C:\\Users\\kaile\\Anaconda3\\lib\\site-packages\\sklearn\\linear_model\\_logistic.py:1319: UserWarning: l1_ratio parameter is only used when penalty is 'elasticnet'. Got (penalty=l2)\n",
      "  \"(penalty={})\".format(self.penalty))\n",
      "C:\\Users\\kaile\\Anaconda3\\lib\\site-packages\\sklearn\\linear_model\\_logistic.py:1319: UserWarning: l1_ratio parameter is only used when penalty is 'elasticnet'. Got (penalty=l2)\n",
      "  \"(penalty={})\".format(self.penalty))\n",
      "C:\\Users\\kaile\\Anaconda3\\lib\\site-packages\\sklearn\\linear_model\\_logistic.py:1319: UserWarning: l1_ratio parameter is only used when penalty is 'elasticnet'. Got (penalty=l1)\n",
      "  \"(penalty={})\".format(self.penalty))\n",
      "C:\\Users\\kaile\\Anaconda3\\lib\\site-packages\\sklearn\\linear_model\\_logistic.py:1319: UserWarning: l1_ratio parameter is only used when penalty is 'elasticnet'. Got (penalty=l1)\n",
      "  \"(penalty={})\".format(self.penalty))\n",
      "C:\\Users\\kaile\\Anaconda3\\lib\\site-packages\\sklearn\\linear_model\\_logistic.py:1319: UserWarning: l1_ratio parameter is only used when penalty is 'elasticnet'. Got (penalty=l1)\n",
      "  \"(penalty={})\".format(self.penalty))\n",
      "C:\\Users\\kaile\\Anaconda3\\lib\\site-packages\\sklearn\\linear_model\\_logistic.py:1319: UserWarning: l1_ratio parameter is only used when penalty is 'elasticnet'. Got (penalty=l1)\n",
      "  \"(penalty={})\".format(self.penalty))\n",
      "C:\\Users\\kaile\\Anaconda3\\lib\\site-packages\\sklearn\\linear_model\\_sag.py:329: ConvergenceWarning: The max_iter was reached which means the coef_ did not converge\n",
      "  \"the coef_ did not converge\", ConvergenceWarning)\n",
      "C:\\Users\\kaile\\Anaconda3\\lib\\site-packages\\sklearn\\linear_model\\_logistic.py:1319: UserWarning: l1_ratio parameter is only used when penalty is 'elasticnet'. Got (penalty=l1)\n",
      "  \"(penalty={})\".format(self.penalty))\n",
      "C:\\Users\\kaile\\Anaconda3\\lib\\site-packages\\sklearn\\linear_model\\_logistic.py:1319: UserWarning: l1_ratio parameter is only used when penalty is 'elasticnet'. Got (penalty=l2)\n",
      "  \"(penalty={})\".format(self.penalty))\n",
      "C:\\Users\\kaile\\Anaconda3\\lib\\site-packages\\sklearn\\linear_model\\_logistic.py:1319: UserWarning: l1_ratio parameter is only used when penalty is 'elasticnet'. Got (penalty=l2)\n",
      "  \"(penalty={})\".format(self.penalty))\n",
      "C:\\Users\\kaile\\Anaconda3\\lib\\site-packages\\sklearn\\linear_model\\_logistic.py:1319: UserWarning: l1_ratio parameter is only used when penalty is 'elasticnet'. Got (penalty=l2)\n",
      "  \"(penalty={})\".format(self.penalty))\n",
      "C:\\Users\\kaile\\Anaconda3\\lib\\site-packages\\sklearn\\linear_model\\_logistic.py:1319: UserWarning: l1_ratio parameter is only used when penalty is 'elasticnet'. Got (penalty=l2)\n",
      "  \"(penalty={})\".format(self.penalty))\n",
      "C:\\Users\\kaile\\Anaconda3\\lib\\site-packages\\sklearn\\linear_model\\_logistic.py:1319: UserWarning: l1_ratio parameter is only used when penalty is 'elasticnet'. Got (penalty=l2)\n",
      "  \"(penalty={})\".format(self.penalty))\n",
      "C:\\Users\\kaile\\Anaconda3\\lib\\site-packages\\sklearn\\linear_model\\_logistic.py:1319: UserWarning: l1_ratio parameter is only used when penalty is 'elasticnet'. Got (penalty=l1)\n",
      "  \"(penalty={})\".format(self.penalty))\n",
      "C:\\Users\\kaile\\Anaconda3\\lib\\site-packages\\sklearn\\linear_model\\_logistic.py:1319: UserWarning: l1_ratio parameter is only used when penalty is 'elasticnet'. Got (penalty=l1)\n",
      "  \"(penalty={})\".format(self.penalty))\n",
      "C:\\Users\\kaile\\Anaconda3\\lib\\site-packages\\sklearn\\linear_model\\_logistic.py:1319: UserWarning: l1_ratio parameter is only used when penalty is 'elasticnet'. Got (penalty=l1)\n",
      "  \"(penalty={})\".format(self.penalty))\n",
      "C:\\Users\\kaile\\Anaconda3\\lib\\site-packages\\sklearn\\linear_model\\_logistic.py:1319: UserWarning: l1_ratio parameter is only used when penalty is 'elasticnet'. Got (penalty=l1)\n",
      "  \"(penalty={})\".format(self.penalty))\n",
      "C:\\Users\\kaile\\Anaconda3\\lib\\site-packages\\sklearn\\linear_model\\_sag.py:329: ConvergenceWarning: The max_iter was reached which means the coef_ did not converge\n",
      "  \"the coef_ did not converge\", ConvergenceWarning)\n",
      "C:\\Users\\kaile\\Anaconda3\\lib\\site-packages\\sklearn\\linear_model\\_logistic.py:1319: UserWarning: l1_ratio parameter is only used when penalty is 'elasticnet'. Got (penalty=l1)\n",
      "  \"(penalty={})\".format(self.penalty))\n",
      "C:\\Users\\kaile\\Anaconda3\\lib\\site-packages\\sklearn\\linear_model\\_logistic.py:1319: UserWarning: l1_ratio parameter is only used when penalty is 'elasticnet'. Got (penalty=l2)\n",
      "  \"(penalty={})\".format(self.penalty))\n",
      "C:\\Users\\kaile\\Anaconda3\\lib\\site-packages\\sklearn\\linear_model\\_logistic.py:1319: UserWarning: l1_ratio parameter is only used when penalty is 'elasticnet'. Got (penalty=l2)\n",
      "  \"(penalty={})\".format(self.penalty))\n",
      "C:\\Users\\kaile\\Anaconda3\\lib\\site-packages\\sklearn\\linear_model\\_logistic.py:1319: UserWarning: l1_ratio parameter is only used when penalty is 'elasticnet'. Got (penalty=l2)\n",
      "  \"(penalty={})\".format(self.penalty))\n",
      "C:\\Users\\kaile\\Anaconda3\\lib\\site-packages\\sklearn\\linear_model\\_logistic.py:1319: UserWarning: l1_ratio parameter is only used when penalty is 'elasticnet'. Got (penalty=l2)\n",
      "  \"(penalty={})\".format(self.penalty))\n",
      "C:\\Users\\kaile\\Anaconda3\\lib\\site-packages\\sklearn\\linear_model\\_logistic.py:1319: UserWarning: l1_ratio parameter is only used when penalty is 'elasticnet'. Got (penalty=l2)\n",
      "  \"(penalty={})\".format(self.penalty))\n",
      "C:\\Users\\kaile\\Anaconda3\\lib\\site-packages\\sklearn\\linear_model\\_logistic.py:1319: UserWarning: l1_ratio parameter is only used when penalty is 'elasticnet'. Got (penalty=l1)\n",
      "  \"(penalty={})\".format(self.penalty))\n",
      "C:\\Users\\kaile\\Anaconda3\\lib\\site-packages\\sklearn\\linear_model\\_sag.py:329: ConvergenceWarning: The max_iter was reached which means the coef_ did not converge\n",
      "  \"the coef_ did not converge\", ConvergenceWarning)\n",
      "C:\\Users\\kaile\\Anaconda3\\lib\\site-packages\\sklearn\\linear_model\\_logistic.py:1319: UserWarning: l1_ratio parameter is only used when penalty is 'elasticnet'. Got (penalty=l1)\n",
      "  \"(penalty={})\".format(self.penalty))\n",
      "C:\\Users\\kaile\\Anaconda3\\lib\\site-packages\\sklearn\\linear_model\\_sag.py:329: ConvergenceWarning: The max_iter was reached which means the coef_ did not converge\n",
      "  \"the coef_ did not converge\", ConvergenceWarning)\n",
      "C:\\Users\\kaile\\Anaconda3\\lib\\site-packages\\sklearn\\linear_model\\_logistic.py:1319: UserWarning: l1_ratio parameter is only used when penalty is 'elasticnet'. Got (penalty=l1)\n",
      "  \"(penalty={})\".format(self.penalty))\n",
      "C:\\Users\\kaile\\Anaconda3\\lib\\site-packages\\sklearn\\linear_model\\_sag.py:329: ConvergenceWarning: The max_iter was reached which means the coef_ did not converge\n",
      "  \"the coef_ did not converge\", ConvergenceWarning)\n",
      "C:\\Users\\kaile\\Anaconda3\\lib\\site-packages\\sklearn\\linear_model\\_logistic.py:1319: UserWarning: l1_ratio parameter is only used when penalty is 'elasticnet'. Got (penalty=l1)\n",
      "  \"(penalty={})\".format(self.penalty))\n"
     ]
    },
    {
     "name": "stderr",
     "output_type": "stream",
     "text": [
      "C:\\Users\\kaile\\Anaconda3\\lib\\site-packages\\sklearn\\linear_model\\_sag.py:329: ConvergenceWarning: The max_iter was reached which means the coef_ did not converge\n",
      "  \"the coef_ did not converge\", ConvergenceWarning)\n",
      "C:\\Users\\kaile\\Anaconda3\\lib\\site-packages\\sklearn\\linear_model\\_logistic.py:1319: UserWarning: l1_ratio parameter is only used when penalty is 'elasticnet'. Got (penalty=l1)\n",
      "  \"(penalty={})\".format(self.penalty))\n",
      "C:\\Users\\kaile\\Anaconda3\\lib\\site-packages\\sklearn\\linear_model\\_sag.py:329: ConvergenceWarning: The max_iter was reached which means the coef_ did not converge\n",
      "  \"the coef_ did not converge\", ConvergenceWarning)\n",
      "C:\\Users\\kaile\\Anaconda3\\lib\\site-packages\\sklearn\\linear_model\\_logistic.py:1319: UserWarning: l1_ratio parameter is only used when penalty is 'elasticnet'. Got (penalty=l2)\n",
      "  \"(penalty={})\".format(self.penalty))\n",
      "C:\\Users\\kaile\\Anaconda3\\lib\\site-packages\\sklearn\\linear_model\\_logistic.py:1319: UserWarning: l1_ratio parameter is only used when penalty is 'elasticnet'. Got (penalty=l2)\n",
      "  \"(penalty={})\".format(self.penalty))\n",
      "C:\\Users\\kaile\\Anaconda3\\lib\\site-packages\\sklearn\\linear_model\\_logistic.py:1319: UserWarning: l1_ratio parameter is only used when penalty is 'elasticnet'. Got (penalty=l2)\n",
      "  \"(penalty={})\".format(self.penalty))\n",
      "C:\\Users\\kaile\\Anaconda3\\lib\\site-packages\\sklearn\\linear_model\\_logistic.py:1319: UserWarning: l1_ratio parameter is only used when penalty is 'elasticnet'. Got (penalty=l2)\n",
      "  \"(penalty={})\".format(self.penalty))\n",
      "C:\\Users\\kaile\\Anaconda3\\lib\\site-packages\\sklearn\\linear_model\\_logistic.py:1319: UserWarning: l1_ratio parameter is only used when penalty is 'elasticnet'. Got (penalty=l2)\n",
      "  \"(penalty={})\".format(self.penalty))\n",
      "C:\\Users\\kaile\\Anaconda3\\lib\\site-packages\\sklearn\\linear_model\\_logistic.py:1319: UserWarning: l1_ratio parameter is only used when penalty is 'elasticnet'. Got (penalty=l1)\n",
      "  \"(penalty={})\".format(self.penalty))\n",
      "C:\\Users\\kaile\\Anaconda3\\lib\\site-packages\\sklearn\\linear_model\\_sag.py:329: ConvergenceWarning: The max_iter was reached which means the coef_ did not converge\n",
      "  \"the coef_ did not converge\", ConvergenceWarning)\n",
      "C:\\Users\\kaile\\Anaconda3\\lib\\site-packages\\sklearn\\linear_model\\_logistic.py:1319: UserWarning: l1_ratio parameter is only used when penalty is 'elasticnet'. Got (penalty=l1)\n",
      "  \"(penalty={})\".format(self.penalty))\n",
      "C:\\Users\\kaile\\Anaconda3\\lib\\site-packages\\sklearn\\linear_model\\_sag.py:329: ConvergenceWarning: The max_iter was reached which means the coef_ did not converge\n",
      "  \"the coef_ did not converge\", ConvergenceWarning)\n",
      "C:\\Users\\kaile\\Anaconda3\\lib\\site-packages\\sklearn\\linear_model\\_logistic.py:1319: UserWarning: l1_ratio parameter is only used when penalty is 'elasticnet'. Got (penalty=l1)\n",
      "  \"(penalty={})\".format(self.penalty))\n",
      "C:\\Users\\kaile\\Anaconda3\\lib\\site-packages\\sklearn\\linear_model\\_sag.py:329: ConvergenceWarning: The max_iter was reached which means the coef_ did not converge\n",
      "  \"the coef_ did not converge\", ConvergenceWarning)\n",
      "C:\\Users\\kaile\\Anaconda3\\lib\\site-packages\\sklearn\\linear_model\\_logistic.py:1319: UserWarning: l1_ratio parameter is only used when penalty is 'elasticnet'. Got (penalty=l1)\n",
      "  \"(penalty={})\".format(self.penalty))\n",
      "C:\\Users\\kaile\\Anaconda3\\lib\\site-packages\\sklearn\\linear_model\\_sag.py:329: ConvergenceWarning: The max_iter was reached which means the coef_ did not converge\n",
      "  \"the coef_ did not converge\", ConvergenceWarning)\n",
      "C:\\Users\\kaile\\Anaconda3\\lib\\site-packages\\sklearn\\linear_model\\_logistic.py:1319: UserWarning: l1_ratio parameter is only used when penalty is 'elasticnet'. Got (penalty=l1)\n",
      "  \"(penalty={})\".format(self.penalty))\n",
      "C:\\Users\\kaile\\Anaconda3\\lib\\site-packages\\sklearn\\linear_model\\_sag.py:329: ConvergenceWarning: The max_iter was reached which means the coef_ did not converge\n",
      "  \"the coef_ did not converge\", ConvergenceWarning)\n",
      "C:\\Users\\kaile\\Anaconda3\\lib\\site-packages\\sklearn\\linear_model\\_logistic.py:1319: UserWarning: l1_ratio parameter is only used when penalty is 'elasticnet'. Got (penalty=l2)\n",
      "  \"(penalty={})\".format(self.penalty))\n",
      "C:\\Users\\kaile\\Anaconda3\\lib\\site-packages\\sklearn\\linear_model\\_logistic.py:1319: UserWarning: l1_ratio parameter is only used when penalty is 'elasticnet'. Got (penalty=l2)\n",
      "  \"(penalty={})\".format(self.penalty))\n",
      "C:\\Users\\kaile\\Anaconda3\\lib\\site-packages\\sklearn\\linear_model\\_logistic.py:1319: UserWarning: l1_ratio parameter is only used when penalty is 'elasticnet'. Got (penalty=l2)\n",
      "  \"(penalty={})\".format(self.penalty))\n",
      "C:\\Users\\kaile\\Anaconda3\\lib\\site-packages\\sklearn\\linear_model\\_logistic.py:1319: UserWarning: l1_ratio parameter is only used when penalty is 'elasticnet'. Got (penalty=l2)\n",
      "  \"(penalty={})\".format(self.penalty))\n",
      "C:\\Users\\kaile\\Anaconda3\\lib\\site-packages\\sklearn\\linear_model\\_logistic.py:1319: UserWarning: l1_ratio parameter is only used when penalty is 'elasticnet'. Got (penalty=l2)\n",
      "  \"(penalty={})\".format(self.penalty))\n",
      "C:\\Users\\kaile\\Anaconda3\\lib\\site-packages\\sklearn\\linear_model\\_logistic.py:1319: UserWarning: l1_ratio parameter is only used when penalty is 'elasticnet'. Got (penalty=l1)\n",
      "  \"(penalty={})\".format(self.penalty))\n",
      "C:\\Users\\kaile\\Anaconda3\\lib\\site-packages\\sklearn\\linear_model\\_sag.py:329: ConvergenceWarning: The max_iter was reached which means the coef_ did not converge\n",
      "  \"the coef_ did not converge\", ConvergenceWarning)\n",
      "C:\\Users\\kaile\\Anaconda3\\lib\\site-packages\\sklearn\\linear_model\\_logistic.py:1319: UserWarning: l1_ratio parameter is only used when penalty is 'elasticnet'. Got (penalty=l1)\n",
      "  \"(penalty={})\".format(self.penalty))\n",
      "C:\\Users\\kaile\\Anaconda3\\lib\\site-packages\\sklearn\\linear_model\\_sag.py:329: ConvergenceWarning: The max_iter was reached which means the coef_ did not converge\n",
      "  \"the coef_ did not converge\", ConvergenceWarning)\n",
      "C:\\Users\\kaile\\Anaconda3\\lib\\site-packages\\sklearn\\linear_model\\_logistic.py:1319: UserWarning: l1_ratio parameter is only used when penalty is 'elasticnet'. Got (penalty=l1)\n",
      "  \"(penalty={})\".format(self.penalty))\n",
      "C:\\Users\\kaile\\Anaconda3\\lib\\site-packages\\sklearn\\linear_model\\_sag.py:329: ConvergenceWarning: The max_iter was reached which means the coef_ did not converge\n",
      "  \"the coef_ did not converge\", ConvergenceWarning)\n",
      "C:\\Users\\kaile\\Anaconda3\\lib\\site-packages\\sklearn\\linear_model\\_logistic.py:1319: UserWarning: l1_ratio parameter is only used when penalty is 'elasticnet'. Got (penalty=l1)\n",
      "  \"(penalty={})\".format(self.penalty))\n",
      "C:\\Users\\kaile\\Anaconda3\\lib\\site-packages\\sklearn\\linear_model\\_sag.py:329: ConvergenceWarning: The max_iter was reached which means the coef_ did not converge\n",
      "  \"the coef_ did not converge\", ConvergenceWarning)\n",
      "C:\\Users\\kaile\\Anaconda3\\lib\\site-packages\\sklearn\\linear_model\\_logistic.py:1319: UserWarning: l1_ratio parameter is only used when penalty is 'elasticnet'. Got (penalty=l1)\n",
      "  \"(penalty={})\".format(self.penalty))\n",
      "C:\\Users\\kaile\\Anaconda3\\lib\\site-packages\\sklearn\\linear_model\\_sag.py:329: ConvergenceWarning: The max_iter was reached which means the coef_ did not converge\n",
      "  \"the coef_ did not converge\", ConvergenceWarning)\n",
      "C:\\Users\\kaile\\Anaconda3\\lib\\site-packages\\sklearn\\linear_model\\_logistic.py:1319: UserWarning: l1_ratio parameter is only used when penalty is 'elasticnet'. Got (penalty=l2)\n",
      "  \"(penalty={})\".format(self.penalty))\n",
      "C:\\Users\\kaile\\Anaconda3\\lib\\site-packages\\sklearn\\linear_model\\_logistic.py:1319: UserWarning: l1_ratio parameter is only used when penalty is 'elasticnet'. Got (penalty=l2)\n",
      "  \"(penalty={})\".format(self.penalty))\n",
      "C:\\Users\\kaile\\Anaconda3\\lib\\site-packages\\sklearn\\linear_model\\_logistic.py:1319: UserWarning: l1_ratio parameter is only used when penalty is 'elasticnet'. Got (penalty=l2)\n",
      "  \"(penalty={})\".format(self.penalty))\n",
      "C:\\Users\\kaile\\Anaconda3\\lib\\site-packages\\sklearn\\linear_model\\_logistic.py:1319: UserWarning: l1_ratio parameter is only used when penalty is 'elasticnet'. Got (penalty=l2)\n",
      "  \"(penalty={})\".format(self.penalty))\n",
      "C:\\Users\\kaile\\Anaconda3\\lib\\site-packages\\sklearn\\linear_model\\_logistic.py:1319: UserWarning: l1_ratio parameter is only used when penalty is 'elasticnet'. Got (penalty=l2)\n",
      "  \"(penalty={})\".format(self.penalty))\n",
      "C:\\Users\\kaile\\Anaconda3\\lib\\site-packages\\sklearn\\linear_model\\_logistic.py:1319: UserWarning: l1_ratio parameter is only used when penalty is 'elasticnet'. Got (penalty=l1)\n",
      "  \"(penalty={})\".format(self.penalty))\n"
     ]
    },
    {
     "name": "stderr",
     "output_type": "stream",
     "text": [
      "C:\\Users\\kaile\\Anaconda3\\lib\\site-packages\\sklearn\\linear_model\\_sag.py:329: ConvergenceWarning: The max_iter was reached which means the coef_ did not converge\n",
      "  \"the coef_ did not converge\", ConvergenceWarning)\n",
      "C:\\Users\\kaile\\Anaconda3\\lib\\site-packages\\sklearn\\linear_model\\_logistic.py:1319: UserWarning: l1_ratio parameter is only used when penalty is 'elasticnet'. Got (penalty=l1)\n",
      "  \"(penalty={})\".format(self.penalty))\n",
      "C:\\Users\\kaile\\Anaconda3\\lib\\site-packages\\sklearn\\linear_model\\_sag.py:329: ConvergenceWarning: The max_iter was reached which means the coef_ did not converge\n",
      "  \"the coef_ did not converge\", ConvergenceWarning)\n",
      "C:\\Users\\kaile\\Anaconda3\\lib\\site-packages\\sklearn\\linear_model\\_logistic.py:1319: UserWarning: l1_ratio parameter is only used when penalty is 'elasticnet'. Got (penalty=l1)\n",
      "  \"(penalty={})\".format(self.penalty))\n",
      "C:\\Users\\kaile\\Anaconda3\\lib\\site-packages\\sklearn\\linear_model\\_sag.py:329: ConvergenceWarning: The max_iter was reached which means the coef_ did not converge\n",
      "  \"the coef_ did not converge\", ConvergenceWarning)\n",
      "C:\\Users\\kaile\\Anaconda3\\lib\\site-packages\\sklearn\\linear_model\\_logistic.py:1319: UserWarning: l1_ratio parameter is only used when penalty is 'elasticnet'. Got (penalty=l1)\n",
      "  \"(penalty={})\".format(self.penalty))\n",
      "C:\\Users\\kaile\\Anaconda3\\lib\\site-packages\\sklearn\\linear_model\\_sag.py:329: ConvergenceWarning: The max_iter was reached which means the coef_ did not converge\n",
      "  \"the coef_ did not converge\", ConvergenceWarning)\n",
      "C:\\Users\\kaile\\Anaconda3\\lib\\site-packages\\sklearn\\linear_model\\_logistic.py:1319: UserWarning: l1_ratio parameter is only used when penalty is 'elasticnet'. Got (penalty=l1)\n",
      "  \"(penalty={})\".format(self.penalty))\n",
      "C:\\Users\\kaile\\Anaconda3\\lib\\site-packages\\sklearn\\linear_model\\_sag.py:329: ConvergenceWarning: The max_iter was reached which means the coef_ did not converge\n",
      "  \"the coef_ did not converge\", ConvergenceWarning)\n",
      "C:\\Users\\kaile\\Anaconda3\\lib\\site-packages\\sklearn\\linear_model\\_logistic.py:1319: UserWarning: l1_ratio parameter is only used when penalty is 'elasticnet'. Got (penalty=l2)\n",
      "  \"(penalty={})\".format(self.penalty))\n",
      "C:\\Users\\kaile\\Anaconda3\\lib\\site-packages\\sklearn\\linear_model\\_logistic.py:1319: UserWarning: l1_ratio parameter is only used when penalty is 'elasticnet'. Got (penalty=l2)\n",
      "  \"(penalty={})\".format(self.penalty))\n",
      "C:\\Users\\kaile\\Anaconda3\\lib\\site-packages\\sklearn\\linear_model\\_logistic.py:1319: UserWarning: l1_ratio parameter is only used when penalty is 'elasticnet'. Got (penalty=l2)\n",
      "  \"(penalty={})\".format(self.penalty))\n",
      "C:\\Users\\kaile\\Anaconda3\\lib\\site-packages\\sklearn\\linear_model\\_logistic.py:1319: UserWarning: l1_ratio parameter is only used when penalty is 'elasticnet'. Got (penalty=l2)\n",
      "  \"(penalty={})\".format(self.penalty))\n",
      "C:\\Users\\kaile\\Anaconda3\\lib\\site-packages\\sklearn\\linear_model\\_logistic.py:1319: UserWarning: l1_ratio parameter is only used when penalty is 'elasticnet'. Got (penalty=l2)\n",
      "  \"(penalty={})\".format(self.penalty))\n",
      "C:\\Users\\kaile\\Anaconda3\\lib\\site-packages\\sklearn\\linear_model\\_logistic.py:1319: UserWarning: l1_ratio parameter is only used when penalty is 'elasticnet'. Got (penalty=l1)\n",
      "  \"(penalty={})\".format(self.penalty))\n",
      "C:\\Users\\kaile\\Anaconda3\\lib\\site-packages\\sklearn\\linear_model\\_sag.py:329: ConvergenceWarning: The max_iter was reached which means the coef_ did not converge\n",
      "  \"the coef_ did not converge\", ConvergenceWarning)\n",
      "C:\\Users\\kaile\\Anaconda3\\lib\\site-packages\\sklearn\\linear_model\\_logistic.py:1319: UserWarning: l1_ratio parameter is only used when penalty is 'elasticnet'. Got (penalty=l1)\n",
      "  \"(penalty={})\".format(self.penalty))\n",
      "C:\\Users\\kaile\\Anaconda3\\lib\\site-packages\\sklearn\\linear_model\\_sag.py:329: ConvergenceWarning: The max_iter was reached which means the coef_ did not converge\n",
      "  \"the coef_ did not converge\", ConvergenceWarning)\n",
      "C:\\Users\\kaile\\Anaconda3\\lib\\site-packages\\sklearn\\linear_model\\_logistic.py:1319: UserWarning: l1_ratio parameter is only used when penalty is 'elasticnet'. Got (penalty=l1)\n",
      "  \"(penalty={})\".format(self.penalty))\n",
      "C:\\Users\\kaile\\Anaconda3\\lib\\site-packages\\sklearn\\linear_model\\_sag.py:329: ConvergenceWarning: The max_iter was reached which means the coef_ did not converge\n",
      "  \"the coef_ did not converge\", ConvergenceWarning)\n",
      "C:\\Users\\kaile\\Anaconda3\\lib\\site-packages\\sklearn\\linear_model\\_logistic.py:1319: UserWarning: l1_ratio parameter is only used when penalty is 'elasticnet'. Got (penalty=l1)\n",
      "  \"(penalty={})\".format(self.penalty))\n",
      "C:\\Users\\kaile\\Anaconda3\\lib\\site-packages\\sklearn\\linear_model\\_sag.py:329: ConvergenceWarning: The max_iter was reached which means the coef_ did not converge\n",
      "  \"the coef_ did not converge\", ConvergenceWarning)\n",
      "C:\\Users\\kaile\\Anaconda3\\lib\\site-packages\\sklearn\\linear_model\\_logistic.py:1319: UserWarning: l1_ratio parameter is only used when penalty is 'elasticnet'. Got (penalty=l1)\n",
      "  \"(penalty={})\".format(self.penalty))\n",
      "C:\\Users\\kaile\\Anaconda3\\lib\\site-packages\\sklearn\\linear_model\\_sag.py:329: ConvergenceWarning: The max_iter was reached which means the coef_ did not converge\n",
      "  \"the coef_ did not converge\", ConvergenceWarning)\n",
      "C:\\Users\\kaile\\Anaconda3\\lib\\site-packages\\sklearn\\linear_model\\_logistic.py:1319: UserWarning: l1_ratio parameter is only used when penalty is 'elasticnet'. Got (penalty=l2)\n",
      "  \"(penalty={})\".format(self.penalty))\n",
      "C:\\Users\\kaile\\Anaconda3\\lib\\site-packages\\sklearn\\linear_model\\_logistic.py:1319: UserWarning: l1_ratio parameter is only used when penalty is 'elasticnet'. Got (penalty=l2)\n",
      "  \"(penalty={})\".format(self.penalty))\n",
      "C:\\Users\\kaile\\Anaconda3\\lib\\site-packages\\sklearn\\linear_model\\_logistic.py:1319: UserWarning: l1_ratio parameter is only used when penalty is 'elasticnet'. Got (penalty=l2)\n",
      "  \"(penalty={})\".format(self.penalty))\n",
      "C:\\Users\\kaile\\Anaconda3\\lib\\site-packages\\sklearn\\linear_model\\_logistic.py:1319: UserWarning: l1_ratio parameter is only used when penalty is 'elasticnet'. Got (penalty=l2)\n",
      "  \"(penalty={})\".format(self.penalty))\n",
      "C:\\Users\\kaile\\Anaconda3\\lib\\site-packages\\sklearn\\linear_model\\_logistic.py:1319: UserWarning: l1_ratio parameter is only used when penalty is 'elasticnet'. Got (penalty=l2)\n",
      "  \"(penalty={})\".format(self.penalty))\n",
      "C:\\Users\\kaile\\Anaconda3\\lib\\site-packages\\sklearn\\linear_model\\_logistic.py:1319: UserWarning: l1_ratio parameter is only used when penalty is 'elasticnet'. Got (penalty=l2)\n",
      "  \"(penalty={})\".format(self.penalty))\n"
     ]
    },
    {
     "data": {
      "text/plain": [
       "GridSearchCV(cv=5,\n",
       "             estimator=Pipeline(steps=[('tfidf', TfidfVectorizer()),\n",
       "                                       ('clf', LogisticRegression())]),\n",
       "             param_grid={'clf__C': [0.001, 0.01, 0.1, 0.5, 1, 10, 100],\n",
       "                         'clf__l1_ratio': [0.1, 0.3, 0.5, 0.7, 0.9],\n",
       "                         'clf__max_iter': [1000],\n",
       "                         'clf__penalty': ['l1', 'l2', 'elasticnet'],\n",
       "                         'clf__solver': ['saga']},\n",
       "             scoring='accuracy')"
      ]
     },
     "execution_count": 114,
     "metadata": {},
     "output_type": "execute_result"
    }
   ],
   "source": [
    "grid.fit(X_train,y_train)"
   ]
  },
  {
   "cell_type": "code",
   "execution_count": 117,
   "id": "b9fcbfbb",
   "metadata": {},
   "outputs": [
    {
     "data": {
      "text/plain": [
       "Pipeline(steps=[('tfidf', TfidfVectorizer()),\n",
       "                ('clf',\n",
       "                 LogisticRegression(C=10, l1_ratio=0.7, max_iter=1000,\n",
       "                                    solver='saga'))])"
      ]
     },
     "execution_count": 117,
     "metadata": {},
     "output_type": "execute_result"
    }
   ],
   "source": [
    "grid.best_estimator_"
   ]
  },
  {
   "cell_type": "code",
   "execution_count": 118,
   "id": "6fa39cef",
   "metadata": {},
   "outputs": [],
   "source": [
    "y_preds = grid.predict(X_test)"
   ]
  },
  {
   "cell_type": "code",
   "execution_count": 119,
   "id": "ef92205a",
   "metadata": {},
   "outputs": [
    {
     "data": {
      "text/plain": [
       "<sklearn.metrics._plot.confusion_matrix.ConfusionMatrixDisplay at 0x17ab409ae80>"
      ]
     },
     "execution_count": 119,
     "metadata": {},
     "output_type": "execute_result"
    },
    {
     "data": {
      "image/png": "[encoded data removed]",
      "text/plain": [
       "<Figure size 432x288 with 2 Axes>"
      ]
     },
     "metadata": {
      "needs_background": "light"
     },
     "output_type": "display_data"
    }
   ],
   "source": [
    "plot_confusion_matrix(grid, X_test, y_test)"
   ]
  },
  {
   "cell_type": "code",
   "execution_count": 120,
   "id": "231448dd",
   "metadata": {},
   "outputs": [
    {
     "name": "stdout",
     "output_type": "stream",
     "text": [
      "              precision    recall  f1-score   support\n",
      "\n",
      "         neg       0.94      0.90      0.92       596\n",
      "         pos       0.91      0.95      0.93       600\n",
      "\n",
      "    accuracy                           0.93      1196\n",
      "   macro avg       0.93      0.93      0.93      1196\n",
      "weighted avg       0.93      0.93      0.93      1196\n",
      "\n"
     ]
    }
   ],
   "source": [
    "print(classification_report(y_test, y_preds))"
   ]
  },
  {
   "cell_type": "code",
   "execution_count": 121,
   "id": "24e57d86",
   "metadata": {},
   "outputs": [],
   "source": [
    "from sklearn.svm import SVC"
   ]
  },
  {
   "cell_type": "code",
   "execution_count": 122,
   "id": "01327edf",
   "metadata": {},
   "outputs": [],
   "source": [
    "model = SVC()"
   ]
  },
  {
   "cell_type": "code",
   "execution_count": 131,
   "id": "996b6641",
   "metadata": {},
   "outputs": [],
   "source": [
    "param_grid = {'clf__C': [0.001, 0.01, 0.1, 0.5, 1, 10, 100],\n",
    "             'clf__kernel': ['linear','rbf'],\n",
    "             'clf__gamma': ['scale', 'auto']}"
   ]
  },
  {
   "cell_type": "code",
   "execution_count": 132,
   "id": "7c51d1d9",
   "metadata": {},
   "outputs": [],
   "source": [
    "pipe = Pipeline([('tfidf', TfidfVectorizer()),\n",
    "                 ('clf', model)\n",
    "                ])"
   ]
  },
  {
   "cell_type": "code",
   "execution_count": 133,
   "id": "5b3f1faf",
   "metadata": {},
   "outputs": [],
   "source": [
    "grid = GridSearchCV(pipe, param_grid, cv=5, scoring='accuracy')"
   ]
  },
  {
   "cell_type": "code",
   "execution_count": 134,
   "id": "4c597a60",
   "metadata": {},
   "outputs": [
    {
     "data": {
      "text/plain": [
       "GridSearchCV(cv=5,\n",
       "             estimator=Pipeline(steps=[('tfidf', TfidfVectorizer()),\n",
       "                                       ('clf', SVC())]),\n",
       "             param_grid={'clf__C': [0.001, 0.01, 0.1, 0.5, 1, 10, 100],\n",
       "                         'clf__gamma': ['scale', 'auto'],\n",
       "                         'clf__kernel': ['linear', 'rbf']},\n",
       "             scoring='accuracy')"
      ]
     },
     "execution_count": 134,
     "metadata": {},
     "output_type": "execute_result"
    }
   ],
   "source": [
    "grid.fit(X_train,y_train)"
   ]
  },
  {
   "cell_type": "code",
   "execution_count": 136,
   "id": "29736910",
   "metadata": {},
   "outputs": [
    {
     "data": {
      "text/plain": [
       "{'memory': None,\n",
       " 'steps': [('tfidf', TfidfVectorizer()), ('clf', SVC(C=10))],\n",
       " 'verbose': False,\n",
       " 'tfidf': TfidfVectorizer(),\n",
       " 'clf': SVC(C=10),\n",
       " 'tfidf__analyzer': 'word',\n",
       " 'tfidf__binary': False,\n",
       " 'tfidf__decode_error': 'strict',\n",
       " 'tfidf__dtype': numpy.float64,\n",
       " 'tfidf__encoding': 'utf-8',\n",
       " 'tfidf__input': 'content',\n",
       " 'tfidf__lowercase': True,\n",
       " 'tfidf__max_df': 1.0,\n",
       " 'tfidf__max_features': None,\n",
       " 'tfidf__min_df': 1,\n",
       " 'tfidf__ngram_range': (1, 1),\n",
       " 'tfidf__norm': 'l2',\n",
       " 'tfidf__preprocessor': None,\n",
       " 'tfidf__smooth_idf': True,\n",
       " 'tfidf__stop_words': None,\n",
       " 'tfidf__strip_accents': None,\n",
       " 'tfidf__sublinear_tf': False,\n",
       " 'tfidf__token_pattern': '(?u)\\\\b\\\\w\\\\w+\\\\b',\n",
       " 'tfidf__tokenizer': None,\n",
       " 'tfidf__use_idf': True,\n",
       " 'tfidf__vocabulary': None,\n",
       " 'clf__C': 10,\n",
       " 'clf__break_ties': False,\n",
       " 'clf__cache_size': 200,\n",
       " 'clf__class_weight': None,\n",
       " 'clf__coef0': 0.0,\n",
       " 'clf__decision_function_shape': 'ovr',\n",
       " 'clf__degree': 3,\n",
       " 'clf__gamma': 'scale',\n",
       " 'clf__kernel': 'rbf',\n",
       " 'clf__max_iter': -1,\n",
       " 'clf__probability': False,\n",
       " 'clf__random_state': None,\n",
       " 'clf__shrinking': True,\n",
       " 'clf__tol': 0.001,\n",
       " 'clf__verbose': False}"
      ]
     },
     "execution_count": 136,
     "metadata": {},
     "output_type": "execute_result"
    }
   ],
   "source": [
    "grid.best_estimator_.get_params()"
   ]
  },
  {
   "cell_type": "code",
   "execution_count": 137,
   "id": "db6d1304",
   "metadata": {},
   "outputs": [],
   "source": [
    "y_preds = grid.predict(X_test)"
   ]
  },
  {
   "cell_type": "code",
   "execution_count": 138,
   "id": "3c40cc04",
   "metadata": {},
   "outputs": [
    {
     "data": {
      "text/plain": [
       "<sklearn.metrics._plot.confusion_matrix.ConfusionMatrixDisplay at 0x17aafaabd30>"
      ]
     },
     "execution_count": 138,
     "metadata": {},
     "output_type": "execute_result"
    },
    {
     "data": {
      "image/png": "[encoded data removed]",
      "text/plain": [
       "<Figure size 432x288 with 2 Axes>"
      ]
     },
     "metadata": {
      "needs_background": "light"
     },
     "output_type": "display_data"
    }
   ],
   "source": [
    "plot_confusion_matrix(grid, X_test, y_test)"
   ]
  },
  {
   "cell_type": "code",
   "execution_count": 139,
   "id": "bd5eac4e",
   "metadata": {},
   "outputs": [
    {
     "name": "stdout",
     "output_type": "stream",
     "text": [
      "              precision    recall  f1-score   support\n",
      "\n",
      "         neg       0.94      0.91      0.92       596\n",
      "         pos       0.91      0.94      0.93       600\n",
      "\n",
      "    accuracy                           0.92      1196\n",
      "   macro avg       0.93      0.92      0.92      1196\n",
      "weighted avg       0.93      0.92      0.92      1196\n",
      "\n"
     ]
    }
   ],
   "source": [
    "print(classification_report(y_test, y_preds))"
   ]
  },
  {
   "cell_type": "code",
   "execution_count": 140,
   "id": "6df8b5c6",
   "metadata": {},
   "outputs": [],
   "source": [
    "from sklearn.ensemble import RandomForestClassifier"
   ]
  },
  {
   "cell_type": "code",
   "execution_count": 151,
   "id": "b91326fd",
   "metadata": {},
   "outputs": [],
   "source": [
    "model = RandomForestClassifier()"
   ]
  },
  {
   "cell_type": "code",
   "execution_count": 152,
   "id": "8a2e2477",
   "metadata": {},
   "outputs": [],
   "source": [
    "param_grid = {'clf__n_estimators': [25, 50, 75, 100, 200, 300],\n",
    "             'clf__max_depth': [3,4,5,6,7,8],\n",
    "             'clf__max_features': ['auto', 'log2'],\n",
    "             'clf__bootstrap': ['True', 'False'],\n",
    "             'clf__criterion': ['gini', 'entropy']}"
   ]
  },
  {
   "cell_type": "code",
   "execution_count": 153,
   "id": "ae557424",
   "metadata": {},
   "outputs": [],
   "source": [
    "pipe = Pipeline([('tfidf', TfidfVectorizer()),\n",
    "                 ('clf', model)\n",
    "                ])"
   ]
  },
  {
   "cell_type": "code",
   "execution_count": 154,
   "id": "06478512",
   "metadata": {},
   "outputs": [],
   "source": [
    "grid = GridSearchCV(pipe, param_grid, cv=5, scoring='accuracy')"
   ]
  },
  {
   "cell_type": "code",
   "execution_count": 155,
   "id": "e322cf83",
   "metadata": {},
   "outputs": [
    {
     "data": {
      "text/plain": [
       "GridSearchCV(cv=5,\n",
       "             estimator=Pipeline(steps=[('tfidf', TfidfVectorizer()),\n",
       "                                       ('clf',\n",
       "                                        RandomForestClassifier(n_jobs=12))]),\n",
       "             param_grid={'clf__bootstrap': ['True', 'False'],\n",
       "                         'clf__criterion': ['gini', 'entropy'],\n",
       "                         'clf__max_depth': [3, 4, 5, 6, 7, 8],\n",
       "                         'clf__max_features': ['auto', 'log2'],\n",
       "                         'clf__n_estimators': [25, 50, 75, 100, 200, 300]},\n",
       "             scoring='accuracy')"
      ]
     },
     "execution_count": 155,
     "metadata": {},
     "output_type": "execute_result"
    }
   ],
   "source": [
    "grid.fit(X_train,y_train)"
   ]
  },
  {
   "cell_type": "code",
   "execution_count": 156,
   "id": "22ae4050",
   "metadata": {},
   "outputs": [
    {
     "data": {
      "text/plain": [
       "{'memory': None,\n",
       " 'steps': [('tfidf', TfidfVectorizer()),\n",
       "  ('clf',\n",
       "   RandomForestClassifier(bootstrap='True', criterion='entropy', max_depth=8,\n",
       "                          n_estimators=200, n_jobs=12))],\n",
       " 'verbose': False,\n",
       " 'tfidf': TfidfVectorizer(),\n",
       " 'clf': RandomForestClassifier(bootstrap='True', criterion='entropy', max_depth=8,\n",
       "                        n_estimators=200, n_jobs=12),\n",
       " 'tfidf__analyzer': 'word',\n",
       " 'tfidf__binary': False,\n",
       " 'tfidf__decode_error': 'strict',\n",
       " 'tfidf__dtype': numpy.float64,\n",
       " 'tfidf__encoding': 'utf-8',\n",
       " 'tfidf__input': 'content',\n",
       " 'tfidf__lowercase': True,\n",
       " 'tfidf__max_df': 1.0,\n",
       " 'tfidf__max_features': None,\n",
       " 'tfidf__min_df': 1,\n",
       " 'tfidf__ngram_range': (1, 1),\n",
       " 'tfidf__norm': 'l2',\n",
       " 'tfidf__preprocessor': None,\n",
       " 'tfidf__smooth_idf': True,\n",
       " 'tfidf__stop_words': None,\n",
       " 'tfidf__strip_accents': None,\n",
       " 'tfidf__sublinear_tf': False,\n",
       " 'tfidf__token_pattern': '(?u)\\\\b\\\\w\\\\w+\\\\b',\n",
       " 'tfidf__tokenizer': None,\n",
       " 'tfidf__use_idf': True,\n",
       " 'tfidf__vocabulary': None,\n",
       " 'clf__bootstrap': 'True',\n",
       " 'clf__ccp_alpha': 0.0,\n",
       " 'clf__class_weight': None,\n",
       " 'clf__criterion': 'entropy',\n",
       " 'clf__max_depth': 8,\n",
       " 'clf__max_features': 'auto',\n",
       " 'clf__max_leaf_nodes': None,\n",
       " 'clf__max_samples': None,\n",
       " 'clf__min_impurity_decrease': 0.0,\n",
       " 'clf__min_impurity_split': None,\n",
       " 'clf__min_samples_leaf': 1,\n",
       " 'clf__min_samples_split': 2,\n",
       " 'clf__min_weight_fraction_leaf': 0.0,\n",
       " 'clf__n_estimators': 200,\n",
       " 'clf__n_jobs': 12,\n",
       " 'clf__oob_score': False,\n",
       " 'clf__random_state': None,\n",
       " 'clf__verbose': 0,\n",
       " 'clf__warm_start': False}"
      ]
     },
     "execution_count": 156,
     "metadata": {},
     "output_type": "execute_result"
    }
   ],
   "source": [
    "grid.best_estimator_.get_params()"
   ]
  },
  {
   "cell_type": "code",
   "execution_count": 157,
   "id": "00972e94",
   "metadata": {},
   "outputs": [],
   "source": [
    "y_preds = grid.predict(X_test)"
   ]
  },
  {
   "cell_type": "code",
   "execution_count": 158,
   "id": "dd3852d7",
   "metadata": {},
   "outputs": [
    {
     "data": {
      "text/plain": [
       "<sklearn.metrics._plot.confusion_matrix.ConfusionMatrixDisplay at 0x17aaf15c0b8>"
      ]
     },
     "execution_count": 158,
     "metadata": {},
     "output_type": "execute_result"
    },
    {
     "data": {
      "image/png": "[encoded data removed]",
      "text/plain": [
       "<Figure size 432x288 with 2 Axes>"
      ]
     },
     "metadata": {
      "needs_background": "light"
     },
     "output_type": "display_data"
    }
   ],
   "source": [
    "plot_confusion_matrix(grid, X_test, y_test)"
   ]
  },
  {
   "cell_type": "code",
   "execution_count": 159,
   "id": "d808d765",
   "metadata": {},
   "outputs": [
    {
     "name": "stdout",
     "output_type": "stream",
     "text": [
      "              precision    recall  f1-score   support\n",
      "\n",
      "         neg       0.90      0.85      0.88       596\n",
      "         pos       0.86      0.91      0.88       600\n",
      "\n",
      "    accuracy                           0.88      1196\n",
      "   macro avg       0.88      0.88      0.88      1196\n",
      "weighted avg       0.88      0.88      0.88      1196\n",
      "\n"
     ]
    }
   ],
   "source": [
    "print(classification_report(y_test, y_preds))"
   ]
  },
  {
   "cell_type": "code",
   "execution_count": null,
   "id": "3731b3f3",
   "metadata": {},
   "outputs": [],
   "source": []
  }
 ],
 "metadata": {
  "kernelspec": {
   "display_name": "Python 3 (ipykernel)",
   "language": "python",
   "name": "python3"
  },
  "language_info": {
   "codemirror_mode": {
    "name": "ipython",
    "version": 3
   },
   "file_extension": ".py",
   "mimetype": "text/x-python",
   "name": "python",
   "nbconvert_exporter": "python",
   "pygments_lexer": "ipython3",
   "version": "3.7.3"
  }
 },
 "nbformat": 4,
 "nbformat_minor": 5
}
